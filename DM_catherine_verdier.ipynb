{
 "cells": [
  {
   "cell_type": "markdown",
   "metadata": {},
   "source": [
    "MS BigData 2015/2016<br>\n",
    "Catherine Verdier\n",
    "# Devoir 1 : Intervalles de confiance et méthodes gloutonnes\n",
    "\n"
   ]
  },
  {
   "cell_type": "code",
   "execution_count": 121,
   "metadata": {
    "collapsed": true
   },
   "outputs": [],
   "source": [
    "#\n",
    "# Importer les librairies nécessaires\n",
    "#\n",
    "import numpy as np\n",
    "import matplotlib.pyplot as plt  # for plots\n",
    "from sklearn import linear_model\n",
    "from matplotlib import rc\n",
    "import seaborn as sns\n",
    "import pandas as pd\n",
    "from sklearn import preprocessing\n",
    "from mpl_toolkits.mplot3d import Axes3D\n",
    "from IPython.display import display, Math, Latex\n",
    "import statsmodels.api as sm\n",
    "from scipy.stats import t\n",
    "from numpy.linalg import inv\n",
    "from sklearn import utils\n"
   ]
  },
  {
   "cell_type": "code",
   "execution_count": 122,
   "metadata": {
    "collapsed": true
   },
   "outputs": [],
   "source": [
    "#\n",
    "# Initialisation plots, latex, ...\n",
    "#\n",
    "rc('font', **{'family': 'sans-serif', 'sans-serif': ['Computer Modern Roman']})\n",
    "params = {'axes.labelsize': 12,\n",
    "          'text.fontsize': 12,\n",
    "          'legend.fontsize': 12,\n",
    "          'xtick.labelsize': 10,\n",
    "          'ytick.labelsize': 10,\n",
    "          'text.usetex': True,\n",
    "          'figure.figsize': (8, 6)}\n",
    "plt.rcParams.update(params)\n",
    "mc3my_brown = (0.64, 0.16, 0.16)\n",
    "purple = (148. / 255, 0, 211. / 255)\n",
    "\n",
    "##############################################################################\n",
    "# Scatter plot\n",
    "#sns.set_style(\"white\")\n"
   ]
  },
  {
   "cell_type": "code",
   "execution_count": 123,
   "metadata": {
    "collapsed": false
   },
   "outputs": [
    {
     "name": "stdout",
     "output_type": "stream",
     "text": [
      "Populating the interactive namespace from numpy and matplotlib\n"
     ]
    },
    {
     "name": "stderr",
     "output_type": "stream",
     "text": [
      "WARNING: pylab import has clobbered these variables: ['f', 'rc', 'colors']\n",
      "`%matplotlib` prevents importing * from pylab and numpy\n"
     ]
    }
   ],
   "source": [
    "%pylab inline"
   ]
  },
  {
   "cell_type": "markdown",
   "metadata": {},
   "source": [
    "# Exercice 1 : Régression multivariée\n",
    "## Question 1\n",
    "On cherche à trouver un estimateur linéaire de la concentration en ozone à partir des variables suivantes :\n",
    "<ul>\n",
    "    <li>le rayonnement solaire</li>\n",
    "    <li>la force du vent</li>\n",
    "    <li>la température</li>\n",
    "    <li>la date de la mesure (correspondant à deux paramètres JJ et MM où JJ est le numéro du jour dans le<br>\n",
    "    mois et MM les numéro du mois dans l'année)</li> \n",
    "</ul>\n",
    "<br>\n",
    "On cherchera cet estimateur en utilisant la méthode des moindres carrés multi-dimentionnels:"
   ]
  },
  {
   "cell_type": "code",
   "execution_count": 124,
   "metadata": {
    "collapsed": false
   },
   "outputs": [
    {
     "data": {
      "text/latex": [
       "$$On~appelle~{y}_i,~la~valeur~de~la~concentration~en~ozone~pour~la~i^{ème}~observation$$"
      ],
      "text/plain": [
       "<IPython.core.display.Math object>"
      ]
     },
     "metadata": {},
     "output_type": "display_data"
    },
    {
     "data": {
      "text/latex": [
       "$$On~appelle~{x}_{ij},~le~paramètre~de~la~colonne~j~de~la~i^{ème}~observation$$"
      ],
      "text/plain": [
       "<IPython.core.display.Math object>"
      ]
     },
     "metadata": {},
     "output_type": "display_data"
    }
   ],
   "source": [
    "display(Math(r'$On~appelle~{y}_i,~la~valeur~de~la~concentration~en~ozone~pour~la~i^{ème}~observation$'))\n",
    "display(Math(r'$On~appelle~{x}_{ij},~le~paramètre~de~la~colonne~j~de~la~i^{ème}~observation$'))"
   ]
  },
  {
   "cell_type": "markdown",
   "metadata": {},
   "source": [
    "On supposera qu'on dispose de p variales explicatives, i.e. j varie de 1 à p<br>\n",
    "On supposera qu'on dispose de n observations, i.e. i varie de 1 à n<br>\n",
    "L'estimateur des moindres carrés s'exprime alors par:"
   ]
  },
  {
   "cell_type": "code",
   "execution_count": 125,
   "metadata": {
    "collapsed": false
   },
   "outputs": [
    {
     "data": {
      "text/latex": [
       "$$y_i = {\\theta}_0^{*} + \\sum_{j=1}^{p} {\\theta}_j^{*}x_{ij} + {\\epsilon}_i$$"
      ],
      "text/plain": [
       "<IPython.core.display.Math object>"
      ]
     },
     "metadata": {},
     "output_type": "display_data"
    },
    {
     "name": "stdout",
     "output_type": "stream",
     "text": [
      "avec:\n"
     ]
    },
    {
     "data": {
      "text/latex": [
       "$${\\epsilon}_i = {\\cal{N}}(0,{\\sigma}^2)~~~~~~~~~~ \\forall i = 1,...,n$$"
      ],
      "text/plain": [
       "<IPython.core.display.Math object>"
      ]
     },
     "metadata": {},
     "output_type": "display_data"
    }
   ],
   "source": [
    "display(Math(r'$y_i = {\\theta}_0^{*} + \\sum_{j=1}^{p} {\\theta}_j^{*}x_{ij} + {\\epsilon}_i$'))\n",
    "print(\"avec:\")\n",
    "display(Math(r'${\\epsilon}_i = {\\cal{N}}(0,{\\sigma}^2)~~~~~~~~~~ \\forall i = 1,...,n$'))\n"
   ]
  },
  {
   "cell_type": "markdown",
   "metadata": {},
   "source": [
    "## Question 2\n",
    "Récupération du jeu de données airquality"
   ]
  },
  {
   "cell_type": "code",
   "execution_count": 126,
   "metadata": {
    "collapsed": false
   },
   "outputs": [
    {
     "data": {
      "text/html": [
       "<div>\n",
       "<table border=\"1\" class=\"dataframe\">\n",
       "  <thead>\n",
       "    <tr style=\"text-align: right;\">\n",
       "      <th></th>\n",
       "      <th>Ozone</th>\n",
       "      <th>Solar.R</th>\n",
       "      <th>Wind</th>\n",
       "      <th>Temp</th>\n",
       "      <th>Month</th>\n",
       "      <th>Day</th>\n",
       "    </tr>\n",
       "  </thead>\n",
       "  <tbody>\n",
       "    <tr>\n",
       "      <th>0</th>\n",
       "      <td>41</td>\n",
       "      <td>190</td>\n",
       "      <td>7.4</td>\n",
       "      <td>67</td>\n",
       "      <td>5</td>\n",
       "      <td>1</td>\n",
       "    </tr>\n",
       "    <tr>\n",
       "      <th>1</th>\n",
       "      <td>36</td>\n",
       "      <td>118</td>\n",
       "      <td>8.0</td>\n",
       "      <td>72</td>\n",
       "      <td>5</td>\n",
       "      <td>2</td>\n",
       "    </tr>\n",
       "    <tr>\n",
       "      <th>2</th>\n",
       "      <td>12</td>\n",
       "      <td>149</td>\n",
       "      <td>12.6</td>\n",
       "      <td>74</td>\n",
       "      <td>5</td>\n",
       "      <td>3</td>\n",
       "    </tr>\n",
       "    <tr>\n",
       "      <th>3</th>\n",
       "      <td>18</td>\n",
       "      <td>313</td>\n",
       "      <td>11.5</td>\n",
       "      <td>62</td>\n",
       "      <td>5</td>\n",
       "      <td>4</td>\n",
       "    </tr>\n",
       "    <tr>\n",
       "      <th>4</th>\n",
       "      <td>NaN</td>\n",
       "      <td>NaN</td>\n",
       "      <td>14.3</td>\n",
       "      <td>56</td>\n",
       "      <td>5</td>\n",
       "      <td>5</td>\n",
       "    </tr>\n",
       "  </tbody>\n",
       "</table>\n",
       "</div>"
      ],
      "text/plain": [
       "   Ozone  Solar.R  Wind  Temp  Month  Day\n",
       "0     41      190   7.4    67      5    1\n",
       "1     36      118   8.0    72      5    2\n",
       "2     12      149  12.6    74      5    3\n",
       "3     18      313  11.5    62      5    4\n",
       "4    NaN      NaN  14.3    56      5    5"
      ]
     },
     "execution_count": 126,
     "metadata": {},
     "output_type": "execute_result"
    }
   ],
   "source": [
    "aq_data = sm.datasets.get_rdataset('airquality').data\n",
    "aq_data.head()"
   ]
  },
  {
   "cell_type": "code",
   "execution_count": 127,
   "metadata": {
    "collapsed": false
   },
   "outputs": [
    {
     "name": "stdout",
     "output_type": "stream",
     "text": [
      "Nombre d'observations :153\n"
     ]
    }
   ],
   "source": [
    "print(\"Nombre d'observations :\"+str(len(aq_data)))"
   ]
  },
  {
   "cell_type": "markdown",
   "metadata": {},
   "source": [
    "## Question 3\n",
    "Elimination des lignes contenant des valeurs non définies"
   ]
  },
  {
   "cell_type": "code",
   "execution_count": 128,
   "metadata": {
    "collapsed": false
   },
   "outputs": [
    {
     "data": {
      "text/html": [
       "<div>\n",
       "<table border=\"1\" class=\"dataframe\">\n",
       "  <thead>\n",
       "    <tr style=\"text-align: right;\">\n",
       "      <th></th>\n",
       "      <th>Ozone</th>\n",
       "      <th>Solar.R</th>\n",
       "      <th>Wind</th>\n",
       "      <th>Temp</th>\n",
       "      <th>Month</th>\n",
       "      <th>Day</th>\n",
       "    </tr>\n",
       "  </thead>\n",
       "  <tbody>\n",
       "    <tr>\n",
       "      <th>0</th>\n",
       "      <td>41</td>\n",
       "      <td>190</td>\n",
       "      <td>7.4</td>\n",
       "      <td>67</td>\n",
       "      <td>5</td>\n",
       "      <td>1</td>\n",
       "    </tr>\n",
       "    <tr>\n",
       "      <th>1</th>\n",
       "      <td>36</td>\n",
       "      <td>118</td>\n",
       "      <td>8.0</td>\n",
       "      <td>72</td>\n",
       "      <td>5</td>\n",
       "      <td>2</td>\n",
       "    </tr>\n",
       "    <tr>\n",
       "      <th>2</th>\n",
       "      <td>12</td>\n",
       "      <td>149</td>\n",
       "      <td>12.6</td>\n",
       "      <td>74</td>\n",
       "      <td>5</td>\n",
       "      <td>3</td>\n",
       "    </tr>\n",
       "    <tr>\n",
       "      <th>3</th>\n",
       "      <td>18</td>\n",
       "      <td>313</td>\n",
       "      <td>11.5</td>\n",
       "      <td>62</td>\n",
       "      <td>5</td>\n",
       "      <td>4</td>\n",
       "    </tr>\n",
       "    <tr>\n",
       "      <th>6</th>\n",
       "      <td>23</td>\n",
       "      <td>299</td>\n",
       "      <td>8.6</td>\n",
       "      <td>65</td>\n",
       "      <td>5</td>\n",
       "      <td>7</td>\n",
       "    </tr>\n",
       "  </tbody>\n",
       "</table>\n",
       "</div>"
      ],
      "text/plain": [
       "   Ozone  Solar.R  Wind  Temp  Month  Day\n",
       "0     41      190   7.4    67      5    1\n",
       "1     36      118   8.0    72      5    2\n",
       "2     12      149  12.6    74      5    3\n",
       "3     18      313  11.5    62      5    4\n",
       "6     23      299   8.6    65      5    7"
      ]
     },
     "execution_count": 128,
     "metadata": {},
     "output_type": "execute_result"
    }
   ],
   "source": [
    "aq_data = aq_data.dropna()\n",
    "aq_data.head()"
   ]
  },
  {
   "cell_type": "code",
   "execution_count": 129,
   "metadata": {
    "collapsed": false
   },
   "outputs": [
    {
     "name": "stdout",
     "output_type": "stream",
     "text": [
      "Nombre d'observations :111\n"
     ]
    }
   ],
   "source": [
    "print(\"Nombre d'observations :\"+str(len(aq_data)))"
   ]
  },
  {
   "cell_type": "markdown",
   "metadata": {},
   "source": [
    "## Question 4"
   ]
  },
  {
   "cell_type": "code",
   "execution_count": 130,
   "metadata": {
    "collapsed": false
   },
   "outputs": [
    {
     "data": {
      "text/plain": [
       "LinearRegression(copy_X=True, fit_intercept=True, n_jobs=1, normalize=False)"
      ]
     },
     "execution_count": 130,
     "metadata": {},
     "output_type": "execute_result"
    }
   ],
   "source": [
    "#\n",
    "# Définir notre matrice X et notre vecteur y définis à la question 1\n",
    "#\n",
    "X = aq_data[['Solar.R', 'Wind', 'Temp', 'Month', 'Day']]\n",
    "y = aq_data['Ozone']\n",
    "#\n",
    "# Centrer/réduire les variables explicatives\n",
    "#\n",
    "X_mean = np.mean(X)\n",
    "X_std = np.std(X)\n",
    "Xcr = (X - X_mean)/X_std\n",
    "Xcr.head()\n",
    "#\n",
    "# Calcul des paramètres de l'estimateur des moindres carrés avec scikit learn\n",
    "#\n",
    "skl_aq_data_ozone = linear_model.LinearRegression()\n",
    "skl_aq_data_ozone.fit(Xcr, y)"
   ]
  },
  {
   "cell_type": "markdown",
   "metadata": {},
   "source": [
    "## Question 5\n",
    "Paramètres du modèle linéaire trouvés avec scikit learn"
   ]
  },
  {
   "cell_type": "code",
   "execution_count": 131,
   "metadata": {
    "collapsed": false
   },
   "outputs": [
    {
     "name": "stdout",
     "output_type": "stream",
     "text": [
      "[ 42.0990991    4.56193076 -11.75277084  17.98521995  -4.45895297\n",
      "   2.37393859]\n"
     ]
    }
   ],
   "source": [
    "theta0 = np.array([skl_aq_data_ozone.intercept_])\n",
    "theta = np.concatenate((theta0,skl_aq_data_ozone.coef_),axis=0)\n",
    "print theta"
   ]
  },
  {
   "cell_type": "code",
   "execution_count": 132,
   "metadata": {
    "collapsed": false
   },
   "outputs": [
    {
     "data": {
      "text/latex": [
       "$$\\widehat\\theta = \\begin{bmatrix}42.0990990991\\\\4.56193075918\\\\-11.7527708448\\\\17.9852199495\\\\-4.45895296698\\\\2.37393858761\\end{bmatrix}$$"
      ],
      "text/plain": [
       "<IPython.core.display.Math object>"
      ]
     },
     "metadata": {},
     "output_type": "display_data"
    }
   ],
   "source": [
    "display(Math(r'$\\widehat\\theta = \\begin{bmatrix}'+r'{0}'.format(theta[0])+r'\\\\{0}'.format(theta[1])+r'\\\\{0}'.format(theta[2])+r'\\\\{0}'.format(theta[3])+r'\\\\{0}'.format(theta[4])+r'\\\\{0}'.format(theta[5])+r'\\end{bmatrix}$'))"
   ]
  },
  {
   "cell_type": "markdown",
   "metadata": {},
   "source": [
    "Formule théorique permettant d'obtenir un estimateur sans biais de la variance du bruit:"
   ]
  },
  {
   "cell_type": "code",
   "execution_count": 133,
   "metadata": {
    "collapsed": false
   },
   "outputs": [
    {
     "data": {
      "text/latex": [
       "$$Var({\\epsilon}_i)\\approx{\\widehat\\sigma}^2 = \\frac{{\\left \\| y - X{\\widehat\\theta} \\right \\|}^2_2}{n-rg(X)}~~~~~~~~ \\forall i = 1,...,n$$"
      ],
      "text/plain": [
       "<IPython.core.display.Math object>"
      ]
     },
     "metadata": {},
     "output_type": "display_data"
    }
   ],
   "source": [
    "display(Math(r'$Var({\\epsilon}_i)\\approx{\\widehat\\sigma}^2 = \\frac{{\\left \\| y - X{\\widehat\\theta} \\right \\|}^2_2}{n-rg(X)}~~~~~~~~ \\forall i = 1,...,n$'))"
   ]
  },
  {
   "cell_type": "markdown",
   "metadata": {},
   "source": [
    "Pour appliquer cette formule, on doit transformer la matrice X et lui ajouter une colonne de 1 pour prendre en compte le vecteur intercept $\\widehat\\theta_0$<br>\n",
    "X est ici une matrice $n$x$(p+1)$ avec $x_{i0}$ = 1 pour tout i variant de 1 à n"
   ]
  },
  {
   "cell_type": "code",
   "execution_count": 134,
   "metadata": {
    "collapsed": false,
    "scrolled": true
   },
   "outputs": [
    {
     "data": {
      "text/latex": [
       "$${\\widehat\\sigma}^2 ~~= 435.075494992$$"
      ],
      "text/plain": [
       "<IPython.core.display.Math object>"
      ]
     },
     "metadata": {},
     "output_type": "display_data"
    },
    {
     "data": {
      "text/latex": [
       "$${\\widehat\\sigma}^2_{skl} = 435.075494992$$"
      ],
      "text/plain": [
       "<IPython.core.display.Math object>"
      ]
     },
     "metadata": {},
     "output_type": "display_data"
    }
   ],
   "source": [
    "#\n",
    "# Calcul de l'estimateur de la variance du bruit\n",
    "#\n",
    "\n",
    "theta = np.array(theta,float)\n",
    "# On peut appliquer la formule matricielle avec une matrice X_plus ([1_n]+X)\n",
    "# Dans le cas considéré, on peut se permettre de calculer explicitement cette\n",
    "# matrice car le volume des données est faible\n",
    "# Si on opère sur une matrice à grande dimension, on se contentera d'ajouter 1\n",
    "# au rang de la matrice initiale\n",
    "X_plus = Xcr.copy()\n",
    "if not 'Cst' in X_plus:\n",
    "    X_plus.insert(0,'Cst',np.ones(X_plus.shape[0]))\n",
    "sigma2 = (((y-np.dot(X_plus,theta.T))**2).sum())/(len(aq_data)-np.linalg.matrix_rank(X_plus))\n",
    "display(Math(r'${\\widehat\\sigma}^2 ~~= '+r'{0}$'.format(sigma2)))\n",
    "\n",
    "# On peut aussi calculer cette variance avec la fonction predict de sklearn\n",
    "y_hat = skl_aq_data_ozone.predict(Xcr)\n",
    "sigma2predict = ((((y-y_hat)**2).sum()))/(len(aq_data)-np.linalg.matrix_rank(X_plus))\n",
    "display(Math(r'${\\widehat\\sigma}^2_{skl} = '+r'{0}$'.format(sigma2predict)))"
   ]
  },
  {
   "cell_type": "markdown",
   "metadata": {
    "collapsed": true
   },
   "source": [
    "## Question 6\n",
    "Pour cette question, on admettra la Proposition 1 de l'énoncé :"
   ]
  },
  {
   "cell_type": "code",
   "execution_count": 135,
   "metadata": {
    "collapsed": false
   },
   "outputs": [
    {
     "data": {
      "text/latex": [
       "$$\\forall u \\in {\\mathbb{R}}^n~~~~ \\frac{u^T(\\widehat\\theta-\\theta^{*})}{\\widehat\\sigma\\sqrt{u^T{(X^TX)}^{-1}u}}$$"
      ],
      "text/plain": [
       "<IPython.core.display.Math object>"
      ]
     },
     "metadata": {},
     "output_type": "display_data"
    }
   ],
   "source": [
    "display(Math(r'$\\forall u \\in {\\mathbb{R}}^n~~~~ \\frac{u^T(\\widehat\\theta-\\theta^{*})}{\\widehat\\sigma\\sqrt{u^T{(X^TX)}^{-1}u}}$'))"
   ]
  },
  {
   "cell_type": "markdown",
   "metadata": {},
   "source": [
    "Cette proposition reste vraie si on l'applique à une famille de p+1 vecteurs $u_j$ orthonormés.<br>\n",
    "Ce qui revient à dire que :"
   ]
  },
  {
   "cell_type": "code",
   "execution_count": 136,
   "metadata": {
    "collapsed": false
   },
   "outputs": [
    {
     "data": {
      "text/latex": [
       "$$\\frac{({\\widehat\\theta}_j-\\theta^{*}_j)}{\\widehat\\sigma\\sqrt{[{(X^TX)}^{-1}]_{jj}}} ~~~~~~suit~une~loi~de~Student~à~n-p-1~degrés~de~liberté~pour~j=1,...,p+1$$"
      ],
      "text/plain": [
       "<IPython.core.display.Math object>"
      ]
     },
     "metadata": {},
     "output_type": "display_data"
    }
   ],
   "source": [
    "display(Math(r'$\\frac{({\\widehat\\theta}_j-\\theta^{*}_j)}{\\widehat\\sigma\\sqrt{[{(X^TX)}^{-1}]_{jj}}} ~~~~~~suit~une~loi~de~Student~à~n-p-1~degrés~de~liberté~pour~j=1,...,p+1$'))"
   ]
  },
  {
   "cell_type": "code",
   "execution_count": 137,
   "metadata": {
    "collapsed": false
   },
   "outputs": [
    {
     "name": "stdout",
     "output_type": "stream",
     "text": [
      "\n",
      "Intervalles de confiance à 99% par paramètre du modèle:\n"
     ]
    },
    {
     "data": {
      "text/html": [
       "<div>\n",
       "<table border=\"1\" class=\"dataframe\">\n",
       "  <thead>\n",
       "    <tr style=\"text-align: right;\">\n",
       "      <th></th>\n",
       "      <th>inf</th>\n",
       "      <th>sup</th>\n",
       "    </tr>\n",
       "  </thead>\n",
       "  <tbody>\n",
       "    <tr>\n",
       "      <th>Cst</th>\n",
       "      <td>36.905168</td>\n",
       "      <td>47.293030</td>\n",
       "    </tr>\n",
       "    <tr>\n",
       "      <th>Solar.R</th>\n",
       "      <td>-1.012992</td>\n",
       "      <td>10.136853</td>\n",
       "    </tr>\n",
       "    <tr>\n",
       "      <th>Wind</th>\n",
       "      <td>-17.741167</td>\n",
       "      <td>-5.764375</td>\n",
       "    </tr>\n",
       "    <tr>\n",
       "      <th>Temp</th>\n",
       "      <td>11.168540</td>\n",
       "      <td>24.801900</td>\n",
       "    </tr>\n",
       "    <tr>\n",
       "      <th>Month</th>\n",
       "      <td>-10.282812</td>\n",
       "      <td>1.364907</td>\n",
       "    </tr>\n",
       "    <tr>\n",
       "      <th>Day</th>\n",
       "      <td>-2.848751</td>\n",
       "      <td>7.596628</td>\n",
       "    </tr>\n",
       "  </tbody>\n",
       "</table>\n",
       "</div>"
      ],
      "text/plain": [
       "               inf        sup\n",
       "Cst      36.905168  47.293030\n",
       "Solar.R  -1.012992  10.136853\n",
       "Wind    -17.741167  -5.764375\n",
       "Temp     11.168540  24.801900\n",
       "Month   -10.282812   1.364907\n",
       "Day      -2.848751   7.596628"
      ]
     },
     "execution_count": 137,
     "metadata": {},
     "output_type": "execute_result"
    }
   ],
   "source": [
    "# Calcul d'un intervalle de confiance à 99% pour un degré de liberté n-p-1\n",
    "n = Xcr.shape[0]\n",
    "p = Xcr.shape[1]\n",
    "student_interval = t.interval(0.99,n-p-1)\n",
    "student_bound = student_interval[1]\n",
    "# Dans le cas considéré, on peut calculer et inverser la matrice de Gram puisque p est petit devant n\n",
    "# La matrice à inverser est de dimensions (6x6), ce qui est acceptable d'un point de vue computationnel\n",
    "XTX = np.dot(X_plus.transpose(),X_plus)\n",
    "XTX_1 = inv(XTX)\n",
    "# Ecart-type pour les résidus\n",
    "sigma_hat = np.sqrt(sigma2)\n",
    "# Création des bornes inférieures des p+1 intervalles de confiance\n",
    "# Note : l'utilisation de la diagonale est une idée de Florian, pour qui la parcimonie\n",
    "#        est toujours un souci\n",
    "student_inf_bound = theta-student_bound*sigma_hat*np.sqrt(np.diag(XTX_1))\n",
    "# Création des bornes supérieures des p+1 intervalles de confiance\n",
    "student_sup_bound = theta+student_bound*sigma_hat*np.sqrt(np.diag(XTX_1))\n",
    "# Enregistrement des intervalles de confiance dans un DataFrame panda\n",
    "theta_intervalles_99 = pd.DataFrame(index=X_plus.columns)\n",
    "theta_intervalles_99['inf'] = student_inf_bound\n",
    "theta_intervalles_99['sup'] = student_sup_bound\n",
    "print\n",
    "print(\"Intervalles de confiance à 99% par paramètre du modèle:\")\n",
    "theta_intervalles_99.head(6)"
   ]
  },
  {
   "cell_type": "markdown",
   "metadata": {},
   "source": [
    "## Question 7\n",
    "\n",
    "On constate que les intervalles de confiance des variables Month et Day incluent la valeur 0.<br>\n",
    "Il est donc impossible d'assurer avec certitude que l'une ou l'autre de ces variables aient une valeur explicative."
   ]
  },
  {
   "cell_type": "markdown",
   "metadata": {},
   "source": [
    "## Question 8"
   ]
  },
  {
   "cell_type": "code",
   "execution_count": 138,
   "metadata": {
    "collapsed": false
   },
   "outputs": [
    {
     "name": "stdout",
     "output_type": "stream",
     "text": [
      "Avec les entrées suivantes:\n",
      "Solar.R    0.134429\n",
      "Wind       0.017043\n",
      "Temp      -0.821423\n",
      "Month     -2.874467\n",
      "Day       -1.724290\n",
      "dtype: float64\n",
      "\n",
      "Notre modèle prédit la concentration en ozone :\n",
      "[ 36.46233787]\n"
     ]
    }
   ],
   "source": [
    "#\n",
    "# Creation d'une nouvelle entrée\n",
    "#\n",
    "X_new = np.array([197., 10., 70., 3., 1.])\n",
    "# centrer/réduire X_new avec moyenne et écart-type du dataset de fitting\n",
    "X_new = (X_new-X_mean)/X_std\n",
    "# Calcul de l'image de X_new \n",
    "y_new_hat = skl_aq_data_ozone.predict(X_new)\n",
    "print(\"Avec les entrées suivantes:\")\n",
    "print(X_new)\n",
    "print\n",
    "print(\"Notre modèle prédit la concentration en ozone :\")\n",
    "print(y_new_hat)"
   ]
  },
  {
   "cell_type": "markdown",
   "metadata": {
    "collapsed": true
   },
   "source": [
    "# Exercice 2 : Bootstrap"
   ]
  },
  {
   "cell_type": "markdown",
   "metadata": {},
   "source": [
    "## Question 1"
   ]
  },
  {
   "cell_type": "code",
   "execution_count": 139,
   "metadata": {
    "collapsed": false
   },
   "outputs": [],
   "source": [
    "\"\"\"\n",
    "    Définition des variables et fonctions utiles pour les différentes\n",
    "    phases de Bootstrap à venir...\n",
    "\"\"\"\n",
    "#\n",
    "# Noms des observations des modèles bootstrap\n",
    "#\n",
    "obs_names = ['Solar.R', 'Wind', 'Temp', 'Month', 'Day']\n",
    "#\n",
    "# Nom de l'explication\n",
    "#\n",
    "exp_name = 'Ozone'\n",
    "\n",
    "#\n",
    "# Création des matrices X et du vecteur y à partir d'un échantillon\n",
    "# donné sous la forme d'un DataFrame panda\n",
    "#\n",
    "def getXy(sample):\n",
    "    X = sample[obs_names]\n",
    "    y = sample[exp_name]\n",
    "    return X, y\n",
    "\n",
    "#\n",
    "# Calcul des tableaux de moyennes empiriques et écart-types empiriques\n",
    "# sur les colonnes du Dataframe des observations\n",
    "#\n",
    "def getMeansAndStds(X):\n",
    "    X_mean = np.mean(X)\n",
    "    X_std = np.std(X)\n",
    "    return X_mean, X_std\n",
    "\n",
    "#\n",
    "# Centrer/réduire les variables explicatives\n",
    "#\n",
    "def standardize(X):\n",
    "    return (X - X.mean())/X.std()\n",
    "    \n",
    "#\n",
    "# Faire une régression linéaire avec sklearn sur un sample donné\n",
    "#\n",
    "def linear_r(Xcr, y):\n",
    "    skl = linear_model.LinearRegression()\n",
    "    skl.fit(Xcr, y)\n",
    "    return skl\n",
    "\n",
    "#\n",
    "# Régression linéraire sur un échantillon Bootstrap\n",
    "# retourne les paramètres du modèle obtenus par une régression linéaire\n",
    "#\n",
    "def linear_r_bootstrap(mX):\n",
    "    bootstrap = utils.resample(mX, replace=True)\n",
    "    bX, by = getXy(bootstrap)\n",
    "    bX = standardize(bX)\n",
    "    skl = linear_r(bX, by)\n",
    "    theta0b = np.array([skl.intercept_])\n",
    "    thetab = np.concatenate((theta0b,skl.coef_),axis=0)\n",
    "    return thetab\n"
   ]
  },
  {
   "cell_type": "code",
   "execution_count": 140,
   "metadata": {
    "collapsed": false
   },
   "outputs": [
    {
     "name": "stdout",
     "output_type": "stream",
     "text": [
      "1000 linear regressions fitted with bootstrap samples ...\n",
      "2000 linear regressions fitted with bootstrap samples ...\n",
      "3000 linear regressions fitted with bootstrap samples ...\n",
      "4000 linear regressions fitted with bootstrap samples ...\n",
      "5000 linear regressions fitted with bootstrap samples ...\n",
      "6000 linear regressions fitted with bootstrap samples ...\n",
      "7000 linear regressions fitted with bootstrap samples ...\n",
      "8000 linear regressions fitted with bootstrap samples ...\n",
      "9000 linear regressions fitted with bootstrap samples ...\n",
      "10000 linear regressions fitted with bootstrap samples\n",
      "Done.\n",
      "\n",
      "Check if parameters seem to be compliant with results found in the Exercice 1\n"
     ]
    },
    {
     "data": {
      "text/html": [
       "<div>\n",
       "<table border=\"1\" class=\"dataframe\">\n",
       "  <thead>\n",
       "    <tr style=\"text-align: right;\">\n",
       "      <th></th>\n",
       "      <th>Cste</th>\n",
       "      <th>Solar.R</th>\n",
       "      <th>Wind</th>\n",
       "      <th>Temp</th>\n",
       "      <th>Month</th>\n",
       "      <th>Day</th>\n",
       "    </tr>\n",
       "  </thead>\n",
       "  <tbody>\n",
       "    <tr>\n",
       "      <th>0</th>\n",
       "      <td>41.288288</td>\n",
       "      <td>4.605551</td>\n",
       "      <td>-18.345341</td>\n",
       "      <td>17.611764</td>\n",
       "      <td>-6.059027</td>\n",
       "      <td>3.803292</td>\n",
       "    </tr>\n",
       "    <tr>\n",
       "      <th>1</th>\n",
       "      <td>43.846847</td>\n",
       "      <td>4.970699</td>\n",
       "      <td>-12.218778</td>\n",
       "      <td>17.718567</td>\n",
       "      <td>-4.364992</td>\n",
       "      <td>2.514956</td>\n",
       "    </tr>\n",
       "    <tr>\n",
       "      <th>2</th>\n",
       "      <td>43.045045</td>\n",
       "      <td>4.992521</td>\n",
       "      <td>-13.000308</td>\n",
       "      <td>18.577591</td>\n",
       "      <td>-3.354167</td>\n",
       "      <td>-1.946945</td>\n",
       "    </tr>\n",
       "    <tr>\n",
       "      <th>3</th>\n",
       "      <td>43.198198</td>\n",
       "      <td>8.288818</td>\n",
       "      <td>-16.692282</td>\n",
       "      <td>16.013695</td>\n",
       "      <td>-2.309728</td>\n",
       "      <td>2.689243</td>\n",
       "    </tr>\n",
       "    <tr>\n",
       "      <th>4</th>\n",
       "      <td>36.306306</td>\n",
       "      <td>5.530204</td>\n",
       "      <td>-8.031683</td>\n",
       "      <td>17.761035</td>\n",
       "      <td>-2.927634</td>\n",
       "      <td>1.560337</td>\n",
       "    </tr>\n",
       "  </tbody>\n",
       "</table>\n",
       "</div>"
      ],
      "text/plain": [
       "        Cste   Solar.R       Wind       Temp     Month       Day\n",
       "0  41.288288  4.605551 -18.345341  17.611764 -6.059027  3.803292\n",
       "1  43.846847  4.970699 -12.218778  17.718567 -4.364992  2.514956\n",
       "2  43.045045  4.992521 -13.000308  18.577591 -3.354167 -1.946945\n",
       "3  43.198198  8.288818 -16.692282  16.013695 -2.309728  2.689243\n",
       "4  36.306306  5.530204  -8.031683  17.761035 -2.927634  1.560337"
      ]
     },
     "execution_count": 140,
     "metadata": {},
     "output_type": "execute_result"
    }
   ],
   "source": [
    "#\n",
    "# On crée B Bootstrap sur lesquels on opère une régression linéaire\n",
    "# On stocke les paramètres obtenus pour chaque modèle dans un DataFrame\n",
    "#\n",
    "B = 10000\n",
    "theta_bootstrap = pd.DataFrame(columns=['Cste']+obs_names)\n",
    "\n",
    "for i in range(0,B):\n",
    "    theta = linear_r_bootstrap(aq_data)\n",
    "    theta_bootstrap.loc[i] = theta\n",
    "    if i % 1000 == 0 and i != 0:\n",
    "        print str(i)+\" linear regressions fitted with bootstrap samples ...\"\n",
    "\n",
    "print(str(len(theta_bootstrap))+\" linear regressions fitted with bootstrap samples\")\n",
    "print(\"Done.\")\n",
    "print\n",
    "\n",
    "#\n",
    "# Check if parameters seem to be compliant with results found in the Exercice 1\n",
    "#\n",
    "print(\"Check if parameters seem to be compliant with results found in the Exercice 1\")\n",
    "theta_bootstrap.head()"
   ]
  },
  {
   "cell_type": "code",
   "execution_count": 141,
   "metadata": {
    "collapsed": false
   },
   "outputs": [
    {
     "name": "stdout",
     "output_type": "stream",
     "text": [
      "==================\n",
      "Moyenne des thetas\n",
      "==================\n",
      "Cste       42.081712\n",
      "Solar.R     4.577502\n",
      "Wind      -11.828090\n",
      "Temp       17.963549\n",
      "Month      -4.449893\n",
      "Day         2.397124\n",
      "dtype: float64\n",
      "=========================================\n",
      "Différence avec le modèle de l'exercice 1\n",
      "=========================================\n",
      "Cste      -3.350721\n",
      "Solar.R    0.067054\n",
      "Wind       2.523876\n",
      "Temp       0.217225\n",
      "Month     -2.296938\n",
      "Day        1.608013\n",
      "dtype: float64\n",
      "==================\n",
      "Médiane des thetas\n",
      "==================\n",
      "Cste       42.036036\n",
      "Solar.R     4.544158\n",
      "Wind      -11.682722\n",
      "Temp       17.962641\n",
      "Month      -4.476111\n",
      "Day         2.412691\n",
      "dtype: float64\n",
      "=========================================\n",
      "Différence avec le modèle de l'exercice 1\n",
      "=========================================\n",
      "Cste      -3.396396\n",
      "Solar.R    0.033710\n",
      "Wind       2.669245\n",
      "Temp       0.216317\n",
      "Month     -2.323156\n",
      "Day        1.623580\n",
      "dtype: float64\n"
     ]
    }
   ],
   "source": [
    "print(\"==================\")\n",
    "print(\"Moyenne des thetas\")\n",
    "print(\"==================\")\n",
    "print(theta_bootstrap.mean())\n",
    "print(\"=========================================\")\n",
    "print(\"Différence avec le modèle de l'exercice 1\")\n",
    "print(\"=========================================\")\n",
    "print(theta_bootstrap.mean()-theta)\n",
    "print(\"==================\")\n",
    "print(\"Médiane des thetas\")\n",
    "print(\"==================\")\n",
    "print(theta_bootstrap.median())\n",
    "print(\"=========================================\")\n",
    "print(\"Différence avec le modèle de l'exercice 1\")\n",
    "print(\"=========================================\")\n",
    "print(theta_bootstrap.median()-theta)"
   ]
  },
  {
   "cell_type": "markdown",
   "metadata": {
    "collapsed": true
   },
   "source": [
    "## Question 2\n",
    "\n",
    "Avec l'échantillon de modèles linéaires possibles obtenus, nous allons calculer un intervalle de confiance de niveau 99% pour chaque paramètre de régression à partir des quantiles empiriques de chaque paramètre.<br>"
   ]
  },
  {
   "cell_type": "code",
   "execution_count": 142,
   "metadata": {
    "collapsed": false
   },
   "outputs": [
    {
     "data": {
      "text/html": [
       "<div>\n",
       "<table border=\"1\" class=\"dataframe\">\n",
       "  <thead>\n",
       "    <tr style=\"text-align: right;\">\n",
       "      <th></th>\n",
       "      <th>inf</th>\n",
       "      <th>sup</th>\n",
       "    </tr>\n",
       "  </thead>\n",
       "  <tbody>\n",
       "    <tr>\n",
       "      <th>Cste</th>\n",
       "      <td>34.05392</td>\n",
       "      <td>50.32437</td>\n",
       "    </tr>\n",
       "    <tr>\n",
       "      <th>Solar.R</th>\n",
       "      <td>0.1165674</td>\n",
       "      <td>9.432598</td>\n",
       "    </tr>\n",
       "    <tr>\n",
       "      <th>Wind</th>\n",
       "      <td>-20.27932</td>\n",
       "      <td>-4.805759</td>\n",
       "    </tr>\n",
       "    <tr>\n",
       "      <th>Temp</th>\n",
       "      <td>11.6546</td>\n",
       "      <td>23.87166</td>\n",
       "    </tr>\n",
       "    <tr>\n",
       "      <th>Month</th>\n",
       "      <td>-9.447577</td>\n",
       "      <td>0.6847673</td>\n",
       "    </tr>\n",
       "    <tr>\n",
       "      <th>Day</th>\n",
       "      <td>-2.897662</td>\n",
       "      <td>7.982049</td>\n",
       "    </tr>\n",
       "  </tbody>\n",
       "</table>\n",
       "</div>"
      ],
      "text/plain": [
       "               inf        sup\n",
       "Cste      34.05392   50.32437\n",
       "Solar.R  0.1165674   9.432598\n",
       "Wind     -20.27932  -4.805759\n",
       "Temp       11.6546   23.87166\n",
       "Month    -9.447577  0.6847673\n",
       "Day      -2.897662   7.982049"
      ]
     },
     "execution_count": 142,
     "metadata": {},
     "output_type": "execute_result"
    }
   ],
   "source": [
    "#\n",
    "# Trouver les bornes d'un intervalle de confiance à partir de la fonction percentile de numpy\n",
    "# sur un échantillon\n",
    "#\n",
    "# Paramètres :\n",
    "#     X          : échantillon considéré sous la forme d'un DataFrame panda\n",
    "#     column     : nom de la colonne sur laquelle on va opérer\n",
    "#     b_min      : percentile min\n",
    "#     b_max      : percentile max\n",
    "\n",
    "def ic_emp_q(X, column, b_min, b_max):\n",
    "    # trier les données selon la colonne\n",
    "    X_ic = X.sort(columns = column)\n",
    "    # retrouver les percentiles correspondant\n",
    "    p_min = np.percentile(X_ic[column], b_min)\n",
    "    p_max = np.percentile(X_ic[column], b_max)\n",
    "    return p_min, p_max\n",
    "\n",
    "#\n",
    "# On doit appliquer la fonction définie ci-dessus à chaque colonne de notre DataFrame\n",
    "# obtenu par Bootstrap\n",
    "# On rangera les résultats obtenus dans un DataFrame\n",
    "#\n",
    "\n",
    "theta_ic_99_v2 = pd.DataFrame(index=['Cste']+obs_names, columns=['inf', 'sup'])\n",
    "\n",
    "for column in ['Cste']+obs_names:\n",
    "    p_min, p_max = ic_emp_q(theta_bootstrap, column, 0.5, 99.5)\n",
    "    theta_ic_99_v2['inf'][column] = p_min\n",
    "    theta_ic_99_v2['sup'][column] = p_max\n",
    "\n",
    "#\n",
    "# Affichage du résultat\n",
    "#\n",
    "theta_ic_99_v2.head(6)\n"
   ]
  },
  {
   "cell_type": "code",
   "execution_count": 143,
   "metadata": {
    "collapsed": false
   },
   "outputs": [
    {
     "data": {
      "text/html": [
       "<div>\n",
       "<table border=\"1\" class=\"dataframe\">\n",
       "  <thead>\n",
       "    <tr style=\"text-align: right;\">\n",
       "      <th></th>\n",
       "      <th>Cste</th>\n",
       "      <th>Solar.R</th>\n",
       "      <th>Wind</th>\n",
       "      <th>Temp</th>\n",
       "      <th>Month</th>\n",
       "      <th>Day</th>\n",
       "    </tr>\n",
       "  </thead>\n",
       "  <tbody>\n",
       "    <tr>\n",
       "      <th>0.005</th>\n",
       "      <td>34.053919</td>\n",
       "      <td>0.116567</td>\n",
       "      <td>-20.279321</td>\n",
       "      <td>11.654600</td>\n",
       "      <td>-9.447577</td>\n",
       "      <td>-2.897662</td>\n",
       "    </tr>\n",
       "    <tr>\n",
       "      <th>0.995</th>\n",
       "      <td>50.324369</td>\n",
       "      <td>9.432598</td>\n",
       "      <td>-4.805759</td>\n",
       "      <td>23.871658</td>\n",
       "      <td>0.684767</td>\n",
       "      <td>7.982049</td>\n",
       "    </tr>\n",
       "  </tbody>\n",
       "</table>\n",
       "</div>"
      ],
      "text/plain": [
       "            Cste   Solar.R       Wind       Temp     Month       Day\n",
       "0.005  34.053919  0.116567 -20.279321  11.654600 -9.447577 -2.897662\n",
       "0.995  50.324369  9.432598  -4.805759  23.871658  0.684767  7.982049"
      ]
     },
     "execution_count": 143,
     "metadata": {},
     "output_type": "execute_result"
    }
   ],
   "source": [
    "#\n",
    "# Vérification des résultats obtenus en utilisant DataFrame.quantile de panda\n",
    "#\n",
    "qt = theta_bootstrap.quantile([0.005, 0.995])\n",
    "\n",
    "qt.head()"
   ]
  },
  {
   "cell_type": "markdown",
   "metadata": {},
   "source": [
    "## Question 3"
   ]
  },
  {
   "cell_type": "code",
   "execution_count": 144,
   "metadata": {
    "collapsed": false
   },
   "outputs": [
    {
     "data": {
      "text/html": [
       "<div>\n",
       "<table border=\"1\" class=\"dataframe\">\n",
       "  <thead>\n",
       "    <tr style=\"text-align: right;\">\n",
       "      <th></th>\n",
       "      <th>B</th>\n",
       "      <th>inf</th>\n",
       "      <th>sup</th>\n",
       "      <th>median</th>\n",
       "    </tr>\n",
       "  </thead>\n",
       "  <tbody>\n",
       "    <tr>\n",
       "      <th>0</th>\n",
       "      <td>1</td>\n",
       "      <td>-18.345341</td>\n",
       "      <td>-18.345341</td>\n",
       "      <td>-18.345341</td>\n",
       "    </tr>\n",
       "    <tr>\n",
       "      <th>1</th>\n",
       "      <td>501</td>\n",
       "      <td>-20.773922</td>\n",
       "      <td>-4.582428</td>\n",
       "      <td>-11.299774</td>\n",
       "    </tr>\n",
       "    <tr>\n",
       "      <th>2</th>\n",
       "      <td>1001</td>\n",
       "      <td>-21.162610</td>\n",
       "      <td>-4.587842</td>\n",
       "      <td>-11.449358</td>\n",
       "    </tr>\n",
       "    <tr>\n",
       "      <th>3</th>\n",
       "      <td>1501</td>\n",
       "      <td>-21.299514</td>\n",
       "      <td>-4.582428</td>\n",
       "      <td>-11.574085</td>\n",
       "    </tr>\n",
       "    <tr>\n",
       "      <th>4</th>\n",
       "      <td>2001</td>\n",
       "      <td>-21.028463</td>\n",
       "      <td>-4.614196</td>\n",
       "      <td>-11.573548</td>\n",
       "    </tr>\n",
       "  </tbody>\n",
       "</table>\n",
       "</div>"
      ],
      "text/plain": [
       "      B        inf        sup     median\n",
       "0     1 -18.345341 -18.345341 -18.345341\n",
       "1   501 -20.773922  -4.582428 -11.299774\n",
       "2  1001 -21.162610  -4.587842 -11.449358\n",
       "3  1501 -21.299514  -4.582428 -11.574085\n",
       "4  2001 -21.028463  -4.614196 -11.573548"
      ]
     },
     "execution_count": 144,
     "metadata": {},
     "output_type": "execute_result"
    },
    {
     "data": {
      "image/png": "[encoded data removed]",
      "text/plain": [
       "<matplotlib.figure.Figure at 0x7f55144a8790>"
      ]
     },
     "metadata": {},
     "output_type": "display_data"
    }
   ],
   "source": [
    "from matplotlib import colors\n",
    "#\n",
    "# Stocker les données à afficher dans un DataFrame\n",
    "#\n",
    "df_wind = pd.DataFrame(columns=['B', 'inf', 'sup', 'median'])\n",
    "Bstep = 500\n",
    "Blast = Bstep\n",
    "for idx in range(1,5001,Bstep):\n",
    "    Blast = idx+Bstep\n",
    "    # prendre les poids des modèles pour la variable 'Wind' jusqu'à Blast\n",
    "    X_Wind = theta_bootstrap['Wind'][0:idx]\n",
    "    # Calculer l'intervalle de confiance pour ce dataset\n",
    "    qtWind = X_Wind.quantile([0.005, 0.995])\n",
    "    df_wind.loc[len(df_wind)] = {'B':idx, 'inf':qtWind[0.005], 'sup':qtWind[0.995], 'median':X_Wind.median()}\n",
    "    \n",
    "fig, ax = plt.subplots(figsize=(15, 7))\n",
    "plt.subplots_adjust(hspace=0.3)\n",
    "ax.plot(df_wind['B'], df_wind['inf'], \"r--\", color='black', linewidth=3)\n",
    "ax.plot(df_wind['B'], df_wind['sup'], \"r--\", color='black', linewidth=3)\n",
    "ax.plot(df_wind['B'], df_wind['median'], \"r--\", color='seagreen', linewidth=3)\n",
    "plt.xlabel('Nombre de samples', fontsize=18)\n",
    "plt.ylabel(r'$IC({\\theta}_{Wind})~/~{\\theta}_{Wind}.median()$', fontsize=18)\n",
    "plt.annotate(r'$IC_{inf}(\\theta_{Wind})$',\n",
    "             xy=(4200, df_wind['inf'].min()-0.5), xycoords='data', xytext=(+10, +30),\n",
    "             textcoords='offset points', fontsize=18, color ='black')\n",
    "plt.annotate(r'$IC_{sup}(\\theta_{Wind})$',\n",
    "             xy=(4200, df_wind['sup'].max()-3), xycoords='data', xytext=(+10, +30),\n",
    "             textcoords='offset points', fontsize=18, color ='black')\n",
    "plt.annotate(r'$\\theta_{Wind}.median()$',\n",
    "             xy=(4200, df_wind['median'].max()-3), xycoords='data', xytext=(+10, +30),\n",
    "             textcoords='offset points', fontsize=18, color ='seagreen')\n",
    "\n",
    "df_wind.head()"
   ]
  },
  {
   "cell_type": "markdown",
   "metadata": {},
   "source": [
    "## Question 4\n",
    "\n",
    "Sur la régression de 'Ozone' sur 'Wind' par mois calculée et représentée graphiquement avec seaborn.lmplot,\n",
    "on constate une régression atypique sur le mois de Juin (6) où le coefficient directeur de la régression est\n",
    "positif alors que pour toutes les autres régression, on a obtenu un coefficient directeur négatif."
   ]
  },
  {
   "cell_type": "code",
   "execution_count": 145,
   "metadata": {
    "collapsed": false,
    "scrolled": false
   },
   "outputs": [
    {
     "data": {
      "image/png": "[encoded data removed]",
      "text/plain": [
       "<matplotlib.figure.Figure at 0x7f551263ec50>"
      ]
     },
     "metadata": {},
     "output_type": "display_data"
    }
   ],
   "source": [
    "sns.lmplot(x=\"Wind\", y=\"Ozone\", hue=\"Month\", data=aq_data, palette=\"Set1\", legend=True, size=6, aspect=1.5);"
   ]
  },
  {
   "cell_type": "markdown",
   "metadata": {
    "collapsed": true
   },
   "source": [
    "# Exercice 3 : algorithmes glouton (greedy)"
   ]
  },
  {
   "cell_type": "markdown",
   "metadata": {},
   "source": [
    "## Question 1 : implémentation de la fonction stpforward"
   ]
  },
  {
   "cell_type": "code",
   "execution_count": 193,
   "metadata": {
    "collapsed": true
   },
   "outputs": [],
   "source": [
    "#\n",
    "# Génération de la matrice X_S\n",
    "# Paramètres :\n",
    "#    - X      : matrice sous la forme d'un DataFrame panda\n",
    "#    - S      : une liste d'indice de colonnes à sélectionner dans X\n",
    "# Retour :\n",
    "#    Un DataFrame composé des colonnes dont les indices sont présents dans S\n",
    "#\n",
    "def getX_S(X, S):\n",
    "    res = pd.DataFrame()\n",
    "    for idx in S:\n",
    "        res[X.columns[idx]] = X[X.columns[idx]]\n",
    "    return res\n",
    "\n",
    "#\n",
    "# Régression linéraire de y sur X\n",
    "# retourne les paramètres du modèle obtenus par une régression linéaire\n",
    "# et le vecteur résidu (y-y_hat)\n",
    "#\n",
    "def least_square(mX, my):\n",
    "    skl = linear_r(mX, my)\n",
    "    theta0b = np.array([skl.intercept_])\n",
    "    thetab = np.concatenate((theta0b, skl.coef_), axis=0)\n",
    "    y_hat = skl.predict(mX)\n",
    "    #y_hat = np.dot(mX,skl.coef_)+skl.intercept_\n",
    "    return thetab, my-y_hat\n",
    "\n",
    "#\n",
    "# Réajuster theta en replaçant les theta_i de la régression sur le bon numéro d'ordre\n",
    "# ajouts éventuels de 0 sur les numéros d'ordres des variables non sélectionnées (cas où M < p)\n",
    "#\n",
    "def reshape_theta(theta, S, p):\n",
    "    res = np.zeros(p+1)\n",
    "    np.put(res, 0, theta[0])\n",
    "    i = 1\n",
    "    for j in S:\n",
    "        np.put(res, j+1, theta[i])\n",
    "        i += 1\n",
    "    return res\n",
    "\n",
    "#\n",
    "# Implementation de la fonction stpforward\n",
    "#\n",
    "def stpforward(y, X, M):\n",
    "    # initialisations\n",
    "    theta, r, S, S_c = [np.zeros(X.shape[1])], y, [], range(0, X.shape[1])\n",
    "    for i in range(0, M):\n",
    "        alphas = np.abs(np.dot(X.T, r))\n",
    "        j_max = np.argmax(alphas)\n",
    "        # déplacer j_max de S_c vers S\n",
    "        S.append(j_max)\n",
    "        S_c.remove(j_max)\n",
    "        # générer X_S\n",
    "        X_S = getX_S(X, S)\n",
    "        # Moindres carrés avec y et X_S\n",
    "        # r affecté aux résidus des moindres carrés\n",
    "        theta_int, r = least_square(X_S, y)\n",
    "    # end for\n",
    "    theta = theta_int\n",
    "    theta = reshape_theta(theta, S, X.shape[1])\n",
    "    return theta, S\n",
    "    "
   ]
  },
  {
   "cell_type": "code",
   "execution_count": 194,
   "metadata": {
    "collapsed": false
   },
   "outputs": [
    {
     "name": "stdout",
     "output_type": "stream",
     "text": [
      "---------------------------------------------\n",
      "Appel de stpforward avec toutes les features:\n",
      "---------------------------------------------\n",
      "(array([ 42.0990991 ,   4.56193076, -11.75277084,  17.98521995,\n",
      "        -4.45895297,   2.37393859]), [2, 1, 0, 3, 4])\n",
      "---------------------------------------------\n",
      "Appel de stpforward avec 3 features:\n",
      "---------------------------------------------\n",
      "(array([ 42.0990991 ,   5.42816683, -11.80641781,  15.67331326,\n",
      "         0.        ,   0.        ]), [2, 1, 0])\n",
      "---------------------------------------------\n",
      "Appel de stpforward avec 4 features:\n",
      "---------------------------------------------\n",
      "(array([ 42.0990991 ,   4.50045463, -11.74591966,  17.7488752 ,\n",
      "        -4.38806519,   0.        ]), [2, 1, 0, 3])\n",
      "-------------------------------------------------------\n",
      "Appel de stpforward avec 4 features et avec y recentré:\n",
      "-------------------------------------------------------\n",
      "(array([  3.96418464e-14,   4.50045463e+00,  -1.17459197e+01,\n",
      "         1.77488752e+01,  -4.38806519e+00,   0.00000000e+00]), [2, 1, 0, 3])\n"
     ]
    }
   ],
   "source": [
    "#\n",
    "# tests unitaires pour la fonction stpforward\n",
    "#\n",
    "X, y = getXy(aq_data)\n",
    "X_scale = preprocessing.scale(X)\n",
    "X_scale = pd.DataFrame(X_scale)\n",
    "\n",
    "print(\"---------------------------------------------\")\n",
    "print(\"Appel de stpforward avec toutes les features:\")\n",
    "print(\"---------------------------------------------\")\n",
    "t, S = stpforward(y, X_scale, 5)\n",
    "print(t, S)\n",
    "print(\"---------------------------------------------\")\n",
    "print(\"Appel de stpforward avec 3 features:\")\n",
    "print(\"---------------------------------------------\")\n",
    "t, S = stpforward(y, X_scale, 3)\n",
    "print(t, S)\n",
    "print(\"---------------------------------------------\")\n",
    "print(\"Appel de stpforward avec 4 features:\")\n",
    "print(\"---------------------------------------------\")\n",
    "t, S = stpforward(y, X_scale, 4)\n",
    "print(t, S)\n",
    "print(\"-------------------------------------------------------\")\n",
    "print(\"Appel de stpforward avec 4 features et avec y recentré:\")\n",
    "print(\"-------------------------------------------------------\")\n",
    "t, S = stpforward(y-y.mean(), X_scale, 4)\n",
    "print(t, S)"
   ]
  },
  {
   "cell_type": "markdown",
   "metadata": {},
   "source": [
    "On constate que stpforward appelée avec M < p sélectionne bien en priorité les variables les plus explicatives<br>\n",
    "Pour les 3ème et 4ème tests, on constate une différence sur le choix de la variable à exclure en priorité lorsque y est recentré"
   ]
  },
  {
   "cell_type": "markdown",
   "metadata": {},
   "source": [
    "## Question 2 : implémentation de la classe MYOMP\n",
    "OMP = Orthogonal Matching Pursuit"
   ]
  },
  {
   "cell_type": "code",
   "execution_count": 195,
   "metadata": {
    "collapsed": false
   },
   "outputs": [],
   "source": [
    "import numpy as np\n",
    "from sklearn.linear_model.base import LinearModel, _pre_fit\n",
    "from sklearn.base import RegressorMixin\n",
    "\n",
    "class MYOMP(LinearModel, RegressorMixin):\n",
    "\n",
    "    #\n",
    "    # Constructeur de la classe\n",
    "    #   Paramètres :\n",
    "    #       -  n_nonzero_coefs ==> nombre de features à prendre en compte\n",
    "    #                              si None, on prendra toutes les features\n",
    "    #                              (sklearn prend 10% des features)\n",
    "    #       - fit_intercept    ==> indique si on doit ou non renseigner l'intercept\n",
    "    #       - normalize        ==> indique si les données doivent être ou non normalisées\n",
    "    #       - precompute       ==> calculs relatifs à la matrice de Gram conservés dans\n",
    "    #                              l'instance pour accélérer les traitement en cas de\n",
    "    #                              fit multiples\n",
    "    #\n",
    "    def __init__(self, n_nonzero_coefs=None, fit_intercept=True, normalize=True, precompute='auto'):\n",
    "        self.n_nonzero_coefs = n_nonzero_coefs\n",
    "        self.fit_intercept = fit_intercept\n",
    "        self.normalize = normalize\n",
    "        self.precompute = precompute\n",
    "\n",
    "    def fit(self, X, y):\n",
    "        \"\"\"Fit the model using X, y as training data.\n",
    "        Parameters\n",
    "        ----------\n",
    "        X : array-like, shape (n_samples, n_features)\n",
    "        Training data.\n",
    "        y : array-like, shape (n_samples,) or (n_samples, n_targets)\n",
    "        Target values.\n",
    "        Returns\n",
    "        -------\n",
    "        self : object\n",
    "        returns an instance of self.\n",
    "        \"\"\"\n",
    "        X, y, X_mean, y_mean, X_std, Gram, Xy = \\\n",
    "        _pre_fit(X, y, None, self.precompute, self.normalize,\n",
    "        self.fit_intercept, copy=True)\n",
    "        \"\"\"\n",
    "            Code added to call stpforward\n",
    "        \"\"\"\n",
    "        # set M\n",
    "        if (self.n_nonzero_coefs is None or self.n_nonzero_coefs > X.shape[1]):\n",
    "            M = X.shape[1]\n",
    "        else:\n",
    "            M = self.n_nonzero_coefs\n",
    "\n",
    "        # Normalize is performed by the _prefit method\n",
    "        \"\"\"\n",
    "        if self.normalize:\n",
    "            X_scale = preprocessing.scale(X)\n",
    "            X_scale = pd.DataFrame(X_scale)\n",
    "        else:\n",
    "            X_scale = pd.DataFrame(X)\n",
    "        \"\"\"\n",
    "        X_scale = pd.DataFrame(X)\n",
    "        # call stpforward\n",
    "        theta, S = stpforward(y, X_scale, M)\n",
    "        # set intercept when fit_intercept is True\n",
    "        self.coef_ = np.delete(theta, 0)\n",
    "        self._set_intercept(X_mean, y_mean, X_std)\n",
    "        return self\n",
    "\n"
   ]
  },
  {
   "cell_type": "markdown",
   "metadata": {},
   "source": [
    "## Question 4 : comparaison avec OrthogonalMatchingPursuit de sklearn"
   ]
  },
  {
   "cell_type": "code",
   "execution_count": 192,
   "metadata": {
    "collapsed": false
   },
   "outputs": [
    {
     "name": "stdout",
     "output_type": "stream",
     "text": [
      "------------------------------------------------------\n",
      "Résultats de OrthogonalMatchingPursuit pour M = 3\n",
      "------------------------------------------------------\n",
      "(-64.342078928591349, array([ 0.05982059, -3.33359131,  1.65209291,  0.        ,  0.        ]))\n",
      "------------------------------------------------------\n",
      "Résultats de myOMP pour M = 3\n",
      "------------------------------------------------------\n",
      "(-64.34207892859186, array([ 0.05982059, -3.33359131,  1.65209291,  0.        ,  0.        ]))\n",
      "\n",
      "------------------------------------------------------\n",
      "Résultats de OrthogonalMatchingPursuit pour M = 4\n",
      "------------------------------------------------------\n",
      "(-58.053838825199627, array([ 0.04959683, -3.3165094 ,  1.87087379, -2.99162786,  0.        ]))\n",
      "------------------------------------------------------\n",
      "Résultats de myOMP pour M = 4\n",
      "------------------------------------------------------\n",
      "(-58.05383882520001, array([ 0.04959683, -3.3165094 ,  1.87087379, -2.99162786,  0.        ]))\n",
      "\n",
      "------------------------------------------------------\n",
      "Résultats de OrthogonalMatchingPursuit pour M = 5\n",
      "------------------------------------------------------\n",
      "(-64.116321103342557, array([ 0.05027432, -3.31844386,  1.89578642, -3.03995664,  0.27387752]))\n",
      "------------------------------------------------------\n",
      "Résultats de myOMP pour M = 5\n",
      "------------------------------------------------------\n",
      "(-64.116321103343012, array([ 0.05027432, -3.31844386,  1.89578642, -3.03995664,  0.27387752]))\n",
      "\n"
     ]
    }
   ],
   "source": [
    "for M in range(3,6):\n",
    "    Orto_match_puirsuit = linear_model.OrthogonalMatchingPursuit(n_nonzero_coefs=M)\n",
    "    Orto_match_puirsuit.fit(X, y)\n",
    "    print(\"------------------------------------------------------\")\n",
    "    print(\"Résultats de OrthogonalMatchingPursuit pour M = \"+str(M))\n",
    "    print(\"------------------------------------------------------\")\n",
    "    print(Orto_match_puirsuit.intercept_, Orto_match_puirsuit.coef_)\n",
    "\n",
    "    myOMP = MYOMP(M)\n",
    "    myOMP.fit(X, y)\n",
    "    print(\"------------------------------------------------------\")\n",
    "    print(\"Résultats de myOMP pour M = \"+str(M))\n",
    "    print(\"------------------------------------------------------\")\n",
    "    print(myOMP.intercept_, myOMP.coef_)\n",
    "    print\n"
   ]
  },
  {
   "cell_type": "markdown",
   "metadata": {},
   "source": [
    "<b>Commentaire sur la question 4</b><br>\n",
    "On obtient les mêmes résultats avec OrthogonalMatchingPursuit et MYOMP"
   ]
  },
  {
   "cell_type": "code",
   "execution_count": null,
   "metadata": {
    "collapsed": true
   },
   "outputs": [],
   "source": []
  }
 ],
 "metadata": {
  "kernelspec": {
   "display_name": "Python 2",
   "language": "python",
   "name": "python2"
  },
  "language_info": {
   "codemirror_mode": {
    "name": "ipython",
    "version": 2
   },
   "file_extension": ".py",
   "mimetype": "text/x-python",
   "name": "python",
   "nbconvert_exporter": "python",
   "pygments_lexer": "ipython2",
   "version": "2.7.6"
  }
 },
 "nbformat": 4,
 "nbformat_minor": 0
}
