{
 "cells": [
  {
   "cell_type": "markdown",
   "metadata": {},
   "source": [
    "MS BigData 2015/2016<br>\n",
    "Catherine Verdier\n",
    "# Devoir 1 : Intervalles de confiance et méthodes gloutonnes\n",
    "\n"
   ]
  },
  {
   "cell_type": "code",
   "execution_count": 26,
   "metadata": {
    "collapsed": true
   },
   "outputs": [],
   "source": [
    "#\n",
    "# Importer les librairies nécessaires\n",
    "#\n",
    "import numpy as np\n",
    "import matplotlib.pyplot as plt  # for plots\n",
    "from sklearn import linear_model\n",
    "from matplotlib import rc\n",
    "import seaborn as sns\n",
    "import pandas as pd\n",
    "from sklearn import preprocessing\n",
    "from mpl_toolkits.mplot3d import Axes3D\n",
    "from IPython.display import display, Math, Latex\n",
    "import statsmodels.api as sm\n",
    "from scipy.stats import t\n",
    "from numpy.linalg import inv\n",
    "from sklearn import utils\n"
   ]
  },
  {
   "cell_type": "code",
   "execution_count": 27,
   "metadata": {
    "collapsed": true
   },
   "outputs": [],
   "source": [
    "#\n",
    "# Initialisation plots, latex, ...\n",
    "#\n",
    "rc('font', **{'family': 'sans-serif', 'sans-serif': ['Computer Modern Roman']})\n",
    "params = {'axes.labelsize': 12,\n",
    "          'text.fontsize': 12,\n",
    "          'legend.fontsize': 12,\n",
    "          'xtick.labelsize': 10,\n",
    "          'ytick.labelsize': 10,\n",
    "          'text.usetex': True,\n",
    "          'figure.figsize': (8, 6)}\n",
    "plt.rcParams.update(params)\n",
    "mc3my_brown = (0.64, 0.16, 0.16)\n",
    "purple = (148. / 255, 0, 211. / 255)\n",
    "\n",
    "##############################################################################\n",
    "# Scatter plot\n",
    "#sns.set_style(\"white\")\n"
   ]
  },
  {
   "cell_type": "code",
   "execution_count": 28,
   "metadata": {
    "collapsed": false
   },
   "outputs": [
    {
     "name": "stdout",
     "output_type": "stream",
     "text": [
      "Populating the interactive namespace from numpy and matplotlib\n"
     ]
    },
    {
     "name": "stderr",
     "output_type": "stream",
     "text": [
      "WARNING: pylab import has clobbered these variables: ['rc', 'colors']\n",
      "`%matplotlib` prevents importing * from pylab and numpy\n"
     ]
    }
   ],
   "source": [
    "%pylab inline"
   ]
  },
  {
   "cell_type": "markdown",
   "metadata": {},
   "source": [
    "# Exercice 1 : Régression multivariée\n",
    "## Question 1\n",
    "On cherche à trouver un estimateur linéaire de la concentration en ozone à partir des variables suivantes :\n",
    "<ul>\n",
    "    <li>le rayonnement solaire</li>\n",
    "    <li>la force du vent</li>\n",
    "    <li>la température</li>\n",
    "    <li>la date de la mesure (correspondant à deux paramètres JJ et MM où JJ est le numéro du jour dans le<br>\n",
    "    mois et MM les numéro du mois dans l'année)</li> \n",
    "</ul>\n",
    "<br>\n",
    "On cherchera cet estimateur en utilisant la méthode des moindres carrés multi-dimentionnels:"
   ]
  },
  {
   "cell_type": "code",
   "execution_count": 29,
   "metadata": {
    "collapsed": false
   },
   "outputs": [
    {
     "data": {
      "text/latex": [
       "$$On~appelle~{y}_i,~la~valeur~de~la~concentration~en~ozone~pour~la~i^{ème}~observation$$"
      ],
      "text/plain": [
       "<IPython.core.display.Math object>"
      ]
     },
     "metadata": {},
     "output_type": "display_data"
    },
    {
     "data": {
      "text/latex": [
       "$$On~appelle~{x}_{ij},~le~paramètre~de~la~colonne~j~de~la~i^{ème}~observation$$"
      ],
      "text/plain": [
       "<IPython.core.display.Math object>"
      ]
     },
     "metadata": {},
     "output_type": "display_data"
    }
   ],
   "source": [
    "display(Math(r'$On~appelle~{y}_i,~la~valeur~de~la~concentration~en~ozone~pour~la~i^{ème}~observation$'))\n",
    "display(Math(r'$On~appelle~{x}_{ij},~le~paramètre~de~la~colonne~j~de~la~i^{ème}~observation$'))"
   ]
  },
  {
   "cell_type": "markdown",
   "metadata": {},
   "source": [
    "On supposera qu'on dispose de p variales explicatives, i.e. j varie de 1 à p<br>\n",
    "On supposera qu'on dispose de n observations, i.e. i varie de 1 à n<br>\n",
    "L'estimateur des moindres carrés s'exprime alors par:"
   ]
  },
  {
   "cell_type": "code",
   "execution_count": 30,
   "metadata": {
    "collapsed": false
   },
   "outputs": [
    {
     "data": {
      "text/latex": [
       "$$y_i = {\\theta}_0^{*} + \\sum_{j=1}^{p} {\\theta}_j^{*}x_{ij} + {\\epsilon}_i$$"
      ],
      "text/plain": [
       "<IPython.core.display.Math object>"
      ]
     },
     "metadata": {},
     "output_type": "display_data"
    },
    {
     "name": "stdout",
     "output_type": "stream",
     "text": [
      "avec:\n"
     ]
    },
    {
     "data": {
      "text/latex": [
       "$${\\epsilon}_i = {\\cal{N}}(0,{\\sigma}^2)~~~~~~~~~~ \\forall i = 1,...,n$$"
      ],
      "text/plain": [
       "<IPython.core.display.Math object>"
      ]
     },
     "metadata": {},
     "output_type": "display_data"
    }
   ],
   "source": [
    "display(Math(r'$y_i = {\\theta}_0^{*} + \\sum_{j=1}^{p} {\\theta}_j^{*}x_{ij} + {\\epsilon}_i$'))\n",
    "print(\"avec:\")\n",
    "display(Math(r'${\\epsilon}_i = {\\cal{N}}(0,{\\sigma}^2)~~~~~~~~~~ \\forall i = 1,...,n$'))\n"
   ]
  },
  {
   "cell_type": "markdown",
   "metadata": {},
   "source": [
    "## Question 2\n",
    "Récupération du jeu de données airquality"
   ]
  },
  {
   "cell_type": "code",
   "execution_count": 31,
   "metadata": {
    "collapsed": false
   },
   "outputs": [
    {
     "data": {
      "text/html": [
       "<div>\n",
       "<table border=\"1\" class=\"dataframe\">\n",
       "  <thead>\n",
       "    <tr style=\"text-align: right;\">\n",
       "      <th></th>\n",
       "      <th>Ozone</th>\n",
       "      <th>Solar.R</th>\n",
       "      <th>Wind</th>\n",
       "      <th>Temp</th>\n",
       "      <th>Month</th>\n",
       "      <th>Day</th>\n",
       "    </tr>\n",
       "  </thead>\n",
       "  <tbody>\n",
       "    <tr>\n",
       "      <th>0</th>\n",
       "      <td>41</td>\n",
       "      <td>190</td>\n",
       "      <td>7.4</td>\n",
       "      <td>67</td>\n",
       "      <td>5</td>\n",
       "      <td>1</td>\n",
       "    </tr>\n",
       "    <tr>\n",
       "      <th>1</th>\n",
       "      <td>36</td>\n",
       "      <td>118</td>\n",
       "      <td>8.0</td>\n",
       "      <td>72</td>\n",
       "      <td>5</td>\n",
       "      <td>2</td>\n",
       "    </tr>\n",
       "    <tr>\n",
       "      <th>2</th>\n",
       "      <td>12</td>\n",
       "      <td>149</td>\n",
       "      <td>12.6</td>\n",
       "      <td>74</td>\n",
       "      <td>5</td>\n",
       "      <td>3</td>\n",
       "    </tr>\n",
       "    <tr>\n",
       "      <th>3</th>\n",
       "      <td>18</td>\n",
       "      <td>313</td>\n",
       "      <td>11.5</td>\n",
       "      <td>62</td>\n",
       "      <td>5</td>\n",
       "      <td>4</td>\n",
       "    </tr>\n",
       "    <tr>\n",
       "      <th>4</th>\n",
       "      <td>NaN</td>\n",
       "      <td>NaN</td>\n",
       "      <td>14.3</td>\n",
       "      <td>56</td>\n",
       "      <td>5</td>\n",
       "      <td>5</td>\n",
       "    </tr>\n",
       "  </tbody>\n",
       "</table>\n",
       "</div>"
      ],
      "text/plain": [
       "   Ozone  Solar.R  Wind  Temp  Month  Day\n",
       "0     41      190   7.4    67      5    1\n",
       "1     36      118   8.0    72      5    2\n",
       "2     12      149  12.6    74      5    3\n",
       "3     18      313  11.5    62      5    4\n",
       "4    NaN      NaN  14.3    56      5    5"
      ]
     },
     "execution_count": 31,
     "metadata": {},
     "output_type": "execute_result"
    }
   ],
   "source": [
    "aq_data = sm.datasets.get_rdataset('airquality').data\n",
    "aq_data.head()"
   ]
  },
  {
   "cell_type": "code",
   "execution_count": 32,
   "metadata": {
    "collapsed": false
   },
   "outputs": [
    {
     "name": "stdout",
     "output_type": "stream",
     "text": [
      "Nombre d'observations :153\n"
     ]
    }
   ],
   "source": [
    "print(\"Nombre d'observations :\"+str(len(aq_data)))"
   ]
  },
  {
   "cell_type": "markdown",
   "metadata": {},
   "source": [
    "## Question 3\n",
    "Elimination des lignes contenant des valeurs non définies"
   ]
  },
  {
   "cell_type": "code",
   "execution_count": 33,
   "metadata": {
    "collapsed": false
   },
   "outputs": [
    {
     "data": {
      "text/html": [
       "<div>\n",
       "<table border=\"1\" class=\"dataframe\">\n",
       "  <thead>\n",
       "    <tr style=\"text-align: right;\">\n",
       "      <th></th>\n",
       "      <th>Ozone</th>\n",
       "      <th>Solar.R</th>\n",
       "      <th>Wind</th>\n",
       "      <th>Temp</th>\n",
       "      <th>Month</th>\n",
       "      <th>Day</th>\n",
       "    </tr>\n",
       "  </thead>\n",
       "  <tbody>\n",
       "    <tr>\n",
       "      <th>0</th>\n",
       "      <td>41</td>\n",
       "      <td>190</td>\n",
       "      <td>7.4</td>\n",
       "      <td>67</td>\n",
       "      <td>5</td>\n",
       "      <td>1</td>\n",
       "    </tr>\n",
       "    <tr>\n",
       "      <th>1</th>\n",
       "      <td>36</td>\n",
       "      <td>118</td>\n",
       "      <td>8.0</td>\n",
       "      <td>72</td>\n",
       "      <td>5</td>\n",
       "      <td>2</td>\n",
       "    </tr>\n",
       "    <tr>\n",
       "      <th>2</th>\n",
       "      <td>12</td>\n",
       "      <td>149</td>\n",
       "      <td>12.6</td>\n",
       "      <td>74</td>\n",
       "      <td>5</td>\n",
       "      <td>3</td>\n",
       "    </tr>\n",
       "    <tr>\n",
       "      <th>3</th>\n",
       "      <td>18</td>\n",
       "      <td>313</td>\n",
       "      <td>11.5</td>\n",
       "      <td>62</td>\n",
       "      <td>5</td>\n",
       "      <td>4</td>\n",
       "    </tr>\n",
       "    <tr>\n",
       "      <th>6</th>\n",
       "      <td>23</td>\n",
       "      <td>299</td>\n",
       "      <td>8.6</td>\n",
       "      <td>65</td>\n",
       "      <td>5</td>\n",
       "      <td>7</td>\n",
       "    </tr>\n",
       "  </tbody>\n",
       "</table>\n",
       "</div>"
      ],
      "text/plain": [
       "   Ozone  Solar.R  Wind  Temp  Month  Day\n",
       "0     41      190   7.4    67      5    1\n",
       "1     36      118   8.0    72      5    2\n",
       "2     12      149  12.6    74      5    3\n",
       "3     18      313  11.5    62      5    4\n",
       "6     23      299   8.6    65      5    7"
      ]
     },
     "execution_count": 33,
     "metadata": {},
     "output_type": "execute_result"
    }
   ],
   "source": [
    "aq_data = aq_data.dropna()\n",
    "aq_data.head()"
   ]
  },
  {
   "cell_type": "code",
   "execution_count": 34,
   "metadata": {
    "collapsed": false
   },
   "outputs": [
    {
     "name": "stdout",
     "output_type": "stream",
     "text": [
      "Nombre d'observations :111\n"
     ]
    }
   ],
   "source": [
    "print(\"Nombre d'observations :\"+str(len(aq_data)))"
   ]
  },
  {
   "cell_type": "markdown",
   "metadata": {},
   "source": [
    "## Question 4"
   ]
  },
  {
   "cell_type": "code",
   "execution_count": 35,
   "metadata": {
    "collapsed": false
   },
   "outputs": [
    {
     "data": {
      "text/plain": [
       "LinearRegression(copy_X=True, fit_intercept=True, n_jobs=1, normalize=False)"
      ]
     },
     "execution_count": 35,
     "metadata": {},
     "output_type": "execute_result"
    }
   ],
   "source": [
    "#\n",
    "# Définir notre matrice X et notre vecteur y définis à la question 1\n",
    "#\n",
    "X = aq_data[['Solar.R', 'Wind', 'Temp', 'Month', 'Day']]\n",
    "y = aq_data['Ozone']\n",
    "#\n",
    "# Centrer/réduire les variables explicatives\n",
    "#\n",
    "X_mean = np.mean(X)\n",
    "X_std = np.std(X)\n",
    "Xcr = (X - X_mean)/X_std\n",
    "Xcr.head()\n",
    "#\n",
    "# Calcul des paramètres de l'estimateur des moindres carrés avec scikit learn\n",
    "#\n",
    "skl_aq_data_ozone = linear_model.LinearRegression()\n",
    "skl_aq_data_ozone.fit(Xcr, y)"
   ]
  },
  {
   "cell_type": "markdown",
   "metadata": {},
   "source": [
    "## Question 5\n",
    "Paramètres du modèle linéaire trouvés avec scikit learn"
   ]
  },
  {
   "cell_type": "code",
   "execution_count": 36,
   "metadata": {
    "collapsed": false
   },
   "outputs": [
    {
     "name": "stdout",
     "output_type": "stream",
     "text": [
      "[ 42.0990991    4.56193076 -11.75277084  17.98521995  -4.45895297\n",
      "   2.37393859]\n"
     ]
    }
   ],
   "source": [
    "theta0 = np.array([skl_aq_data_ozone.intercept_])\n",
    "theta = np.concatenate((theta0,skl_aq_data_ozone.coef_),axis=0)\n",
    "print theta"
   ]
  },
  {
   "cell_type": "code",
   "execution_count": 37,
   "metadata": {
    "collapsed": false
   },
   "outputs": [
    {
     "data": {
      "text/latex": [
       "$$\\widehat\\theta = \\begin{bmatrix}42.0990990991\\\\4.56193075918\\\\-11.7527708448\\\\17.9852199495\\\\-4.45895296698\\\\2.37393858761\\end{bmatrix}$$"
      ],
      "text/plain": [
       "<IPython.core.display.Math object>"
      ]
     },
     "metadata": {},
     "output_type": "display_data"
    }
   ],
   "source": [
    "display(Math(r'$\\widehat\\theta = \\begin{bmatrix}'+r'{0}'.format(theta[0])+r'\\\\{0}'.format(theta[1])+r'\\\\{0}'.format(theta[2])+r'\\\\{0}'.format(theta[3])+r'\\\\{0}'.format(theta[4])+r'\\\\{0}'.format(theta[5])+r'\\end{bmatrix}$'))"
   ]
  },
  {
   "cell_type": "markdown",
   "metadata": {},
   "source": [
    "Formule théorique permettant d'obtenir un estimateur sans biais de la variance du bruit:"
   ]
  },
  {
   "cell_type": "code",
   "execution_count": 38,
   "metadata": {
    "collapsed": false
   },
   "outputs": [
    {
     "data": {
      "text/latex": [
       "$$Var({\\epsilon}_i)\\approx{\\widehat\\sigma}^2 = \\frac{{\\left \\| y - X{\\widehat\\theta} \\right \\|}^2_2}{n-rg(X)}~~~~~~~~ \\forall i = 1,...,n$$"
      ],
      "text/plain": [
       "<IPython.core.display.Math object>"
      ]
     },
     "metadata": {},
     "output_type": "display_data"
    }
   ],
   "source": [
    "display(Math(r'$Var({\\epsilon}_i)\\approx{\\widehat\\sigma}^2 = \\frac{{\\left \\| y - X{\\widehat\\theta} \\right \\|}^2_2}{n-rg(X)}~~~~~~~~ \\forall i = 1,...,n$'))"
   ]
  },
  {
   "cell_type": "markdown",
   "metadata": {},
   "source": [
    "Pour appliquer cette formule, on doit transformer la matrice X et lui ajouter une colonne de 1 pour prendre en compte le vecteur intercept $\\widehat\\theta_0$<br>\n",
    "X est ici une matrice $n$x$(p+1)$ avec $x_{i0}$ = 1 pour tout i variant de 1 à n"
   ]
  },
  {
   "cell_type": "code",
   "execution_count": 39,
   "metadata": {
    "collapsed": false,
    "scrolled": true
   },
   "outputs": [
    {
     "data": {
      "text/latex": [
       "$${\\widehat\\sigma}^2 ~~= 435.075494992$$"
      ],
      "text/plain": [
       "<IPython.core.display.Math object>"
      ]
     },
     "metadata": {},
     "output_type": "display_data"
    },
    {
     "data": {
      "text/latex": [
       "$${\\widehat\\sigma}^2_{skl} = 435.075494992$$"
      ],
      "text/plain": [
       "<IPython.core.display.Math object>"
      ]
     },
     "metadata": {},
     "output_type": "display_data"
    }
   ],
   "source": [
    "#\n",
    "# Calcul de l'estimateur de la variance du bruit\n",
    "#\n",
    "\n",
    "theta = np.array(theta,float)\n",
    "# On peut appliquer la formule matricielle avec une matrice X_plus ([1_n]+X)\n",
    "# Dans le cas considéré, on peut se permettre de calculer explicitement cette\n",
    "# matrice car le volume des données est faible\n",
    "# Si on opère sur une matrice à grande dimension, on se contentera d'ajouter 1\n",
    "# au rang de la matrice initiale\n",
    "X_plus = Xcr.copy()\n",
    "if not 'Cst' in X_plus:\n",
    "    X_plus.insert(0,'Cst',np.ones(X_plus.shape[0]))\n",
    "sigma2 = (((y-np.dot(X_plus,theta.T))**2).sum())/(len(aq_data)-np.linalg.matrix_rank(X_plus))\n",
    "display(Math(r'${\\widehat\\sigma}^2 ~~= '+r'{0}$'.format(sigma2)))\n",
    "\n",
    "# On peut aussi calculer cette variance avec la fonction predict de sklearn\n",
    "y_hat = skl_aq_data_ozone.predict(Xcr)\n",
    "sigma2predict = ((((y-y_hat)**2).sum()))/(len(aq_data)-np.linalg.matrix_rank(X_plus))\n",
    "display(Math(r'${\\widehat\\sigma}^2_{skl} = '+r'{0}$'.format(sigma2predict)))"
   ]
  },
  {
   "cell_type": "markdown",
   "metadata": {
    "collapsed": true
   },
   "source": [
    "## Question 6\n",
    "Pour cette question, on admettra la Proposition 1 de l'énoncé :"
   ]
  },
  {
   "cell_type": "code",
   "execution_count": 40,
   "metadata": {
    "collapsed": false
   },
   "outputs": [
    {
     "data": {
      "text/latex": [
       "$$\\forall u \\in {\\mathbb{R}}^n~~~~ \\frac{u^T(\\widehat\\theta-\\theta^{*})}{\\widehat\\sigma\\sqrt{u^T{(X^TX)}^{-1}u}}$$"
      ],
      "text/plain": [
       "<IPython.core.display.Math object>"
      ]
     },
     "metadata": {},
     "output_type": "display_data"
    }
   ],
   "source": [
    "display(Math(r'$\\forall u \\in {\\mathbb{R}}^n~~~~ \\frac{u^T(\\widehat\\theta-\\theta^{*})}{\\widehat\\sigma\\sqrt{u^T{(X^TX)}^{-1}u}}$'))"
   ]
  },
  {
   "cell_type": "markdown",
   "metadata": {},
   "source": [
    "Cette proposition reste vraie si on l'applique à une famille de p+1 vecteurs $u_j$ orthonormés.<br>\n",
    "Ce qui revient à dire que :"
   ]
  },
  {
   "cell_type": "code",
   "execution_count": 41,
   "metadata": {
    "collapsed": false
   },
   "outputs": [
    {
     "data": {
      "text/latex": [
       "$$\\frac{({\\widehat\\theta}_j-\\theta^{*}_j)}{\\widehat\\sigma\\sqrt{[{(X^TX)}^{-1}]_{jj}}} ~~~~~~suit~une~loi~de~Student~à~n-p-1~degrés~de~liberté~pour~j=1,...,p+1$$"
      ],
      "text/plain": [
       "<IPython.core.display.Math object>"
      ]
     },
     "metadata": {},
     "output_type": "display_data"
    }
   ],
   "source": [
    "display(Math(r'$\\frac{({\\widehat\\theta}_j-\\theta^{*}_j)}{\\widehat\\sigma\\sqrt{[{(X^TX)}^{-1}]_{jj}}} ~~~~~~suit~une~loi~de~Student~à~n-p-1~degrés~de~liberté~pour~j=1,...,p+1$'))"
   ]
  },
  {
   "cell_type": "code",
   "execution_count": 42,
   "metadata": {
    "collapsed": false
   },
   "outputs": [
    {
     "name": "stdout",
     "output_type": "stream",
     "text": [
      "\n",
      "Intervalles de confiance à 99% par paramètre du modèle:\n"
     ]
    },
    {
     "data": {
      "text/html": [
       "<div>\n",
       "<table border=\"1\" class=\"dataframe\">\n",
       "  <thead>\n",
       "    <tr style=\"text-align: right;\">\n",
       "      <th></th>\n",
       "      <th>inf</th>\n",
       "      <th>sup</th>\n",
       "    </tr>\n",
       "  </thead>\n",
       "  <tbody>\n",
       "    <tr>\n",
       "      <th>Cst</th>\n",
       "      <td>36.905168</td>\n",
       "      <td>47.293030</td>\n",
       "    </tr>\n",
       "    <tr>\n",
       "      <th>Solar.R</th>\n",
       "      <td>-1.012992</td>\n",
       "      <td>10.136853</td>\n",
       "    </tr>\n",
       "    <tr>\n",
       "      <th>Wind</th>\n",
       "      <td>-17.741167</td>\n",
       "      <td>-5.764375</td>\n",
       "    </tr>\n",
       "    <tr>\n",
       "      <th>Temp</th>\n",
       "      <td>11.168540</td>\n",
       "      <td>24.801900</td>\n",
       "    </tr>\n",
       "    <tr>\n",
       "      <th>Month</th>\n",
       "      <td>-10.282812</td>\n",
       "      <td>1.364907</td>\n",
       "    </tr>\n",
       "    <tr>\n",
       "      <th>Day</th>\n",
       "      <td>-2.848751</td>\n",
       "      <td>7.596628</td>\n",
       "    </tr>\n",
       "  </tbody>\n",
       "</table>\n",
       "</div>"
      ],
      "text/plain": [
       "               inf        sup\n",
       "Cst      36.905168  47.293030\n",
       "Solar.R  -1.012992  10.136853\n",
       "Wind    -17.741167  -5.764375\n",
       "Temp     11.168540  24.801900\n",
       "Month   -10.282812   1.364907\n",
       "Day      -2.848751   7.596628"
      ]
     },
     "execution_count": 42,
     "metadata": {},
     "output_type": "execute_result"
    }
   ],
   "source": [
    "# Calcul d'un intervalle de confiance à 99% pour un degré de liberté n-p-1\n",
    "n = Xcr.shape[0]\n",
    "p = Xcr.shape[1]\n",
    "student_interval = t.interval(0.99,n-p-1)\n",
    "student_bound = student_interval[1]\n",
    "# Dans le cas considéré, on peut calculer et inverser la matrice de Gram puisque p est petit devant n\n",
    "# La matrice à inverser est de dimensions (6x6), ce qui est acceptable d'un point de vue computationnel\n",
    "XTX = np.dot(X_plus.transpose(),X_plus)\n",
    "XTX_1 = inv(XTX)\n",
    "# Ecart-type pour les résidus\n",
    "sigma_hat = np.sqrt(sigma2)\n",
    "# Création des bornes inférieures des p+1 intervalles de confiance\n",
    "# Note : l'utilisation de la diagonale est une idée de Florian, pour qui la parcimonie\n",
    "#        est toujours un souci\n",
    "student_inf_bound = theta-student_bound*sigma_hat*np.sqrt(np.diag(XTX_1))\n",
    "# Création des bornes supérieures des p+1 intervalles de confiance\n",
    "student_sup_bound = theta+student_bound*sigma_hat*np.sqrt(np.diag(XTX_1))\n",
    "# Enregistrement des intervalles de confiance dans un DataFrame panda\n",
    "theta_intervalles_99 = pd.DataFrame(index=X_plus.columns)\n",
    "theta_intervalles_99['inf'] = student_inf_bound\n",
    "theta_intervalles_99['sup'] = student_sup_bound\n",
    "print\n",
    "print(\"Intervalles de confiance à 99% par paramètre du modèle:\")\n",
    "theta_intervalles_99.head(6)"
   ]
  },
  {
   "cell_type": "markdown",
   "metadata": {},
   "source": [
    "## Question 7\n",
    "\n",
    "On constate que les intervalles de confiance des variables Month et Day incluent la valeur 0.<br>\n",
    "Il est donc impossible d'assurer avec certitude que l'une ou l'autre de ces variables aient une valeur explicative."
   ]
  },
  {
   "cell_type": "markdown",
   "metadata": {},
   "source": [
    "## Question 8"
   ]
  },
  {
   "cell_type": "code",
   "execution_count": 67,
   "metadata": {
    "collapsed": false
   },
   "outputs": [
    {
     "name": "stdout",
     "output_type": "stream",
     "text": [
      "Avec les entrées suivantes:\n",
      "Solar.R    0.134429\n",
      "Wind       0.017043\n",
      "Temp      -0.821423\n",
      "Month     -2.874467\n",
      "Day       -1.724290\n",
      "dtype: float64\n",
      "\n",
      "Notre modèle prédit la concentration en ozone :\n",
      "[ 36.46233787]\n"
     ]
    }
   ],
   "source": [
    "#\n",
    "# Creation d'une nouvelle entrée\n",
    "#\n",
    "X_new = np.array([197., 10., 70., 3., 1.])\n",
    "# centrer/réduire X_new avec moyenne et écart-type du dataset de fitting\n",
    "X_new = (X_new-X_mean)/X_std\n",
    "# Calcul de l'image de X_new \n",
    "y_new_hat = skl_aq_data_ozone.predict(X_new)\n",
    "print(\"Avec les entrées suivantes:\")\n",
    "print(X_new)\n",
    "print\n",
    "print(\"Notre modèle prédit la concentration en ozone :\")\n",
    "print(y_new_hat)"
   ]
  },
  {
   "cell_type": "markdown",
   "metadata": {
    "collapsed": true
   },
   "source": [
    "# Exercice 2 : Bootstrap"
   ]
  },
  {
   "cell_type": "markdown",
   "metadata": {},
   "source": [
    "## Question 1"
   ]
  },
  {
   "cell_type": "code",
   "execution_count": 44,
   "metadata": {
    "collapsed": false
   },
   "outputs": [],
   "source": [
    "\"\"\"\n",
    "    Définition des variables et fonctions utiles pour les différentes\n",
    "    phases de Bootstrap à venir...\n",
    "\"\"\"\n",
    "#\n",
    "# Noms des observations des modèles bootstrap\n",
    "#\n",
    "obs_names = ['Solar.R', 'Wind', 'Temp', 'Month', 'Day']\n",
    "#\n",
    "# Nom de l'explication\n",
    "#\n",
    "exp_name = 'Ozone'\n",
    "\n",
    "#\n",
    "# Création des matrices X et du vecteur y à partir d'un échantillon\n",
    "# donné sous la forme d'un DataFrame panda\n",
    "#\n",
    "def getXy(sample):\n",
    "    X = sample[obs_names]\n",
    "    y = sample[exp_name]\n",
    "    return X,y\n",
    "\n",
    "#\n",
    "# Calcul des tableaux de moyennes empiriques et écart-types empiriques\n",
    "# sur les colonnes du Dataframe des observations\n",
    "#\n",
    "def getMeansAndStds(X):\n",
    "    X_mean = np.mean(X)\n",
    "    X_std = np.std(X)\n",
    "    return X_mean, X_std\n",
    "\n",
    "#\n",
    "# Centrer/réduire les variables explicatives\n",
    "#\n",
    "def standardize(X):\n",
    "    return (X - X.mean())/X.std()\n",
    "    \n",
    "#\n",
    "# Faire une régression linéaire avec sklearn sur un sample donné\n",
    "#\n",
    "def linear_r(Xcr, y):\n",
    "    skl = linear_model.LinearRegression()\n",
    "    skl.fit(Xcr, y)\n",
    "    return skl\n",
    "\n",
    "#\n",
    "# Régression linéraire sur un échantillon Bootstrap\n",
    "# retourne les paramètres du modèle obtenus par une régression linéaire\n",
    "#\n",
    "def linear_r_bootstrap(mX):\n",
    "    bootstrap = utils.resample(mX, replace=True)\n",
    "    bX, by = getXy(bootstrap)\n",
    "    bX = standardize(bX)\n",
    "    skl = linear_r(bX, by)\n",
    "    theta0b = np.array([skl.intercept_])\n",
    "    thetab = np.concatenate((theta0b,skl.coef_),axis=0)\n",
    "    return thetab\n"
   ]
  },
  {
   "cell_type": "code",
   "execution_count": 72,
   "metadata": {
    "collapsed": false
   },
   "outputs": [
    {
     "name": "stdout",
     "output_type": "stream",
     "text": [
      "1000 linear regressions fitted with bootstrap samples ...\n",
      "2000 linear regressions fitted with bootstrap samples ...\n",
      "3000 linear regressions fitted with bootstrap samples ...\n",
      "4000 linear regressions fitted with bootstrap samples ...\n",
      "5000 linear regressions fitted with bootstrap samples ...\n",
      "6000 linear regressions fitted with bootstrap samples ...\n",
      "7000 linear regressions fitted with bootstrap samples ...\n",
      "8000 linear regressions fitted with bootstrap samples ...\n",
      "9000 linear regressions fitted with bootstrap samples ...\n",
      "10000 linear regressions fitted with bootstrap samples ...\n",
      "11000 linear regressions fitted with bootstrap samples ...\n",
      "12000 linear regressions fitted with bootstrap samples ...\n",
      "13000 linear regressions fitted with bootstrap samples ...\n",
      "14000 linear regressions fitted with bootstrap samples ...\n",
      "15000 linear regressions fitted with bootstrap samples ...\n",
      "16000 linear regressions fitted with bootstrap samples ...\n",
      "17000 linear regressions fitted with bootstrap samples ...\n",
      "18000 linear regressions fitted with bootstrap samples ...\n",
      "19000 linear regressions fitted with bootstrap samples ...\n",
      "20000 linear regressions fitted with bootstrap samples\n",
      "Done.\n",
      "\n"
     ]
    },
    {
     "data": {
      "text/html": [
       "<div>\n",
       "<table border=\"1\" class=\"dataframe\">\n",
       "  <thead>\n",
       "    <tr style=\"text-align: right;\">\n",
       "      <th></th>\n",
       "      <th>Cste</th>\n",
       "      <th>Solar.R</th>\n",
       "      <th>Wind</th>\n",
       "      <th>Temp</th>\n",
       "      <th>Month</th>\n",
       "      <th>Day</th>\n",
       "    </tr>\n",
       "  </thead>\n",
       "  <tbody>\n",
       "    <tr>\n",
       "      <th>0</th>\n",
       "      <td>44.603604</td>\n",
       "      <td>6.324634</td>\n",
       "      <td>-16.668678</td>\n",
       "      <td>14.973883</td>\n",
       "      <td>-4.940565</td>\n",
       "      <td>4.726356</td>\n",
       "    </tr>\n",
       "    <tr>\n",
       "      <th>1</th>\n",
       "      <td>44.738739</td>\n",
       "      <td>7.164790</td>\n",
       "      <td>-12.638599</td>\n",
       "      <td>15.347204</td>\n",
       "      <td>-0.362094</td>\n",
       "      <td>6.872193</td>\n",
       "    </tr>\n",
       "    <tr>\n",
       "      <th>2</th>\n",
       "      <td>39.729730</td>\n",
       "      <td>4.266898</td>\n",
       "      <td>-9.445586</td>\n",
       "      <td>18.827096</td>\n",
       "      <td>-3.921161</td>\n",
       "      <td>5.357027</td>\n",
       "    </tr>\n",
       "    <tr>\n",
       "      <th>3</th>\n",
       "      <td>45.558559</td>\n",
       "      <td>6.623295</td>\n",
       "      <td>-15.025142</td>\n",
       "      <td>16.311020</td>\n",
       "      <td>-0.466217</td>\n",
       "      <td>0.033679</td>\n",
       "    </tr>\n",
       "    <tr>\n",
       "      <th>4</th>\n",
       "      <td>44.297297</td>\n",
       "      <td>6.924530</td>\n",
       "      <td>-14.604881</td>\n",
       "      <td>16.740351</td>\n",
       "      <td>-5.911019</td>\n",
       "      <td>1.722771</td>\n",
       "    </tr>\n",
       "  </tbody>\n",
       "</table>\n",
       "</div>"
      ],
      "text/plain": [
       "        Cste   Solar.R       Wind       Temp     Month       Day\n",
       "0  44.603604  6.324634 -16.668678  14.973883 -4.940565  4.726356\n",
       "1  44.738739  7.164790 -12.638599  15.347204 -0.362094  6.872193\n",
       "2  39.729730  4.266898  -9.445586  18.827096 -3.921161  5.357027\n",
       "3  45.558559  6.623295 -15.025142  16.311020 -0.466217  0.033679\n",
       "4  44.297297  6.924530 -14.604881  16.740351 -5.911019  1.722771"
      ]
     },
     "execution_count": 72,
     "metadata": {},
     "output_type": "execute_result"
    }
   ],
   "source": [
    "#\n",
    "# On crée B Bootstrap sur lesquels on opère une régression linéaire\n",
    "# On stocke les paramètres obtenus dans un DataFrame\n",
    "#\n",
    "B = 10000\n",
    "theta_bootstrap = pd.DataFrame(columns=['Cste']+obs_names)\n",
    "\n",
    "for i in range(0,B):\n",
    "    theta = linear_r_bootstrap(aq_data)\n",
    "    theta_bootstrap.loc[i] = theta\n",
    "    if i % 1000 == 0 and i != 0:\n",
    "        print str(i)+\" linear regressions fitted with bootstrap samples ...\"\n",
    "\n",
    "print(str(len(theta_bootstrap))+\" linear regressions fitted with bootstrap samples\")\n",
    "print(\"Done.\")\n",
    "print\n",
    "\n",
    "#\n",
    "# Check if parameters seem to be compliant with results found in the Exercice 1\n",
    "#\n",
    "print(\"Check if parameters seem to be compliant with results found in the Exercice 1\")\n",
    "theta_bootstrap.head()"
   ]
  },
  {
   "cell_type": "code",
   "execution_count": 73,
   "metadata": {
    "collapsed": false
   },
   "outputs": [
    {
     "name": "stdout",
     "output_type": "stream",
     "text": [
      "==================\n",
      "Moyenne des thetas\n",
      "==================\n",
      "Cste       42.136861\n",
      "Solar.R     4.575992\n",
      "Wind      -11.838842\n",
      "Temp       17.989326\n",
      "Month      -4.444072\n",
      "Day         2.401027\n",
      "dtype: float64\n",
      "=========================================\n",
      "Différence avec le modèle de l'exercice 1\n",
      "=========================================\n",
      "Cste      -4.241517\n",
      "Solar.R   -2.240150\n",
      "Wind       3.409955\n",
      "Temp       3.924154\n",
      "Month     -3.202432\n",
      "Day       -2.597028\n",
      "dtype: float64\n",
      "==================\n",
      "Médiane des thetas\n",
      "==================\n",
      "Cste       42.099099\n",
      "Solar.R     4.543558\n",
      "Wind      -11.676450\n",
      "Temp       18.006979\n",
      "Month      -4.439308\n",
      "Day         2.413543\n",
      "dtype: float64\n",
      "=========================================\n",
      "Différence avec le modèle de l'exercice 1\n",
      "=========================================\n",
      "Cste      -4.279279\n",
      "Solar.R   -2.272584\n",
      "Wind       3.572348\n",
      "Temp       3.941808\n",
      "Month     -3.197668\n",
      "Day       -2.584512\n",
      "dtype: float64\n"
     ]
    }
   ],
   "source": [
    "print(\"==================\")\n",
    "print(\"Moyenne des thetas\")\n",
    "print(\"==================\")\n",
    "print(theta_bootstrap.mean())\n",
    "print(\"=========================================\")\n",
    "print(\"Différence avec le modèle de l'exercice 1\")\n",
    "print(\"=========================================\")\n",
    "print(theta_bootstrap.mean()-theta)\n",
    "print(\"==================\")\n",
    "print(\"Médiane des thetas\")\n",
    "print(\"==================\")\n",
    "print(theta_bootstrap.median())\n",
    "print(\"=========================================\")\n",
    "print(\"Différence avec le modèle de l'exercice 1\")\n",
    "print(\"=========================================\")\n",
    "print(theta_bootstrap.median()-theta)"
   ]
  },
  {
   "cell_type": "markdown",
   "metadata": {
    "collapsed": true
   },
   "source": [
    "## Question 2\n",
    "\n",
    "Avec l'échantillon de modèles linéaires possibles obtenus, nous allons calculer un intervalle de confiance de niveau 99% pour chaque paramètre de régression à partir des quantiles empiriques de chaque paramètre.<br>"
   ]
  },
  {
   "cell_type": "code",
   "execution_count": 74,
   "metadata": {
    "collapsed": false
   },
   "outputs": [
    {
     "data": {
      "text/html": [
       "<div>\n",
       "<table border=\"1\" class=\"dataframe\">\n",
       "  <thead>\n",
       "    <tr style=\"text-align: right;\">\n",
       "      <th></th>\n",
       "      <th>inf</th>\n",
       "      <th>sup</th>\n",
       "    </tr>\n",
       "  </thead>\n",
       "  <tbody>\n",
       "    <tr>\n",
       "      <th>Cste</th>\n",
       "      <td>34.45941</td>\n",
       "      <td>50.49572</td>\n",
       "    </tr>\n",
       "    <tr>\n",
       "      <th>Solar.R</th>\n",
       "      <td>0.05349242</td>\n",
       "      <td>9.513734</td>\n",
       "    </tr>\n",
       "    <tr>\n",
       "      <th>Wind</th>\n",
       "      <td>-20.2577</td>\n",
       "      <td>-4.972818</td>\n",
       "    </tr>\n",
       "    <tr>\n",
       "      <th>Temp</th>\n",
       "      <td>11.7353</td>\n",
       "      <td>23.9301</td>\n",
       "    </tr>\n",
       "    <tr>\n",
       "      <th>Month</th>\n",
       "      <td>-9.550174</td>\n",
       "      <td>0.5764986</td>\n",
       "    </tr>\n",
       "    <tr>\n",
       "      <th>Day</th>\n",
       "      <td>-3.096255</td>\n",
       "      <td>7.808406</td>\n",
       "    </tr>\n",
       "  </tbody>\n",
       "</table>\n",
       "</div>"
      ],
      "text/plain": [
       "                inf        sup\n",
       "Cste       34.45941   50.49572\n",
       "Solar.R  0.05349242   9.513734\n",
       "Wind       -20.2577  -4.972818\n",
       "Temp        11.7353    23.9301\n",
       "Month     -9.550174  0.5764986\n",
       "Day       -3.096255   7.808406"
      ]
     },
     "execution_count": 74,
     "metadata": {},
     "output_type": "execute_result"
    }
   ],
   "source": [
    "#\n",
    "# Trouver les bornes d'un intervalle de confiance à partir de la fonction percentile de numpy\n",
    "# sur un échantillon\n",
    "#\n",
    "# Paramètres :\n",
    "#     X          : échantillon considéré sous la forme d'un DataFrame panda\n",
    "#     column     : nom de la colonne sur laquelle on va opérer\n",
    "#     b_min      : percentile min\n",
    "#     b_max      : percentile max\n",
    "\n",
    "def ic_emp_q(X, column, b_min, b_max):\n",
    "    # trier les données selon la colonne\n",
    "    X_ic = X.sort(columns = column)\n",
    "    # retrouver les percentiles correspondant\n",
    "    p_min = np.percentile(X_ic[column], b_min)\n",
    "    p_max = np.percentile(X_ic[column], b_max)\n",
    "    return p_min, p_max\n",
    "\n",
    "#\n",
    "# On doit appliquer la fonction définie ci-dessus à chaque colonne de notre DataFrame\n",
    "# obtenu par Bootstrap\n",
    "# On rangera les résultats obtenus dans un DataFrame\n",
    "#\n",
    "\n",
    "theta_ic_99_v2 = pd.DataFrame(index=['Cste']+obs_names, columns=['inf', 'sup'])\n",
    "\n",
    "for column in ['Cste']+obs_names:\n",
    "    p_min, p_max = ic_emp_q(theta_bootstrap, column, 0.5, 99.5)\n",
    "    theta_ic_99_v2['inf'][column] = p_min\n",
    "    theta_ic_99_v2['sup'][column] = p_max\n",
    "\n",
    "#\n",
    "# Affichage du résultat\n",
    "#\n",
    "theta_ic_99_v2.head(6)\n"
   ]
  },
  {
   "cell_type": "code",
   "execution_count": 118,
   "metadata": {
    "collapsed": false
   },
   "outputs": [
    {
     "data": {
      "text/html": [
       "<div>\n",
       "<table border=\"1\" class=\"dataframe\">\n",
       "  <thead>\n",
       "    <tr style=\"text-align: right;\">\n",
       "      <th></th>\n",
       "      <th>Cste</th>\n",
       "      <th>Solar.R</th>\n",
       "      <th>Wind</th>\n",
       "      <th>Temp</th>\n",
       "      <th>Month</th>\n",
       "      <th>Day</th>\n",
       "    </tr>\n",
       "  </thead>\n",
       "  <tbody>\n",
       "    <tr>\n",
       "      <th>0.005</th>\n",
       "      <td>34.459414</td>\n",
       "      <td>0.053492</td>\n",
       "      <td>-20.257700</td>\n",
       "      <td>11.735298</td>\n",
       "      <td>-9.550174</td>\n",
       "      <td>-3.096255</td>\n",
       "    </tr>\n",
       "    <tr>\n",
       "      <th>0.995</th>\n",
       "      <td>50.495721</td>\n",
       "      <td>9.513734</td>\n",
       "      <td>-4.972818</td>\n",
       "      <td>23.930099</td>\n",
       "      <td>0.576499</td>\n",
       "      <td>7.808406</td>\n",
       "    </tr>\n",
       "  </tbody>\n",
       "</table>\n",
       "</div>"
      ],
      "text/plain": [
       "            Cste   Solar.R       Wind       Temp     Month       Day\n",
       "0.005  34.459414  0.053492 -20.257700  11.735298 -9.550174 -3.096255\n",
       "0.995  50.495721  9.513734  -4.972818  23.930099  0.576499  7.808406"
      ]
     },
     "execution_count": 118,
     "metadata": {},
     "output_type": "execute_result"
    }
   ],
   "source": [
    "#\n",
    "# Vérification des résultats obtenus en utilisant DataFrame.quantile de panda\n",
    "#\n",
    "qt = theta_bootstrap.quantile([0.005, 0.995])\n",
    "\n",
    "qt.head()"
   ]
  },
  {
   "cell_type": "markdown",
   "metadata": {},
   "source": [
    "## Question 3"
   ]
  },
  {
   "cell_type": "code",
   "execution_count": 106,
   "metadata": {
    "collapsed": false
   },
   "outputs": [
    {
     "data": {
      "text/html": [
       "<div>\n",
       "<table border=\"1\" class=\"dataframe\">\n",
       "  <thead>\n",
       "    <tr style=\"text-align: right;\">\n",
       "      <th></th>\n",
       "      <th>B</th>\n",
       "      <th>inf</th>\n",
       "      <th>sup</th>\n",
       "      <th>median</th>\n",
       "    </tr>\n",
       "  </thead>\n",
       "  <tbody>\n",
       "    <tr>\n",
       "      <th>0</th>\n",
       "      <td>1</td>\n",
       "      <td>-16.668678</td>\n",
       "      <td>-16.668678</td>\n",
       "      <td>-16.668678</td>\n",
       "    </tr>\n",
       "    <tr>\n",
       "      <th>1</th>\n",
       "      <td>501</td>\n",
       "      <td>-19.668582</td>\n",
       "      <td>-5.418244</td>\n",
       "      <td>-11.477602</td>\n",
       "    </tr>\n",
       "    <tr>\n",
       "      <th>2</th>\n",
       "      <td>1001</td>\n",
       "      <td>-20.041262</td>\n",
       "      <td>-5.416586</td>\n",
       "      <td>-11.669362</td>\n",
       "    </tr>\n",
       "    <tr>\n",
       "      <th>3</th>\n",
       "      <td>1501</td>\n",
       "      <td>-19.875891</td>\n",
       "      <td>-5.402233</td>\n",
       "      <td>-11.708862</td>\n",
       "    </tr>\n",
       "    <tr>\n",
       "      <th>4</th>\n",
       "      <td>2001</td>\n",
       "      <td>-20.041262</td>\n",
       "      <td>-5.387881</td>\n",
       "      <td>-11.631689</td>\n",
       "    </tr>\n",
       "  </tbody>\n",
       "</table>\n",
       "</div>"
      ],
      "text/plain": [
       "      B        inf        sup     median\n",
       "0     1 -16.668678 -16.668678 -16.668678\n",
       "1   501 -19.668582  -5.418244 -11.477602\n",
       "2  1001 -20.041262  -5.416586 -11.669362\n",
       "3  1501 -19.875891  -5.402233 -11.708862\n",
       "4  2001 -20.041262  -5.387881 -11.631689"
      ]
     },
     "execution_count": 106,
     "metadata": {},
     "output_type": "execute_result"
    },
    {
     "data": {
      "image/png": "[encoded data removed]",
      "text/plain": [
       "<matplotlib.figure.Figure at 0x7f55127c5c50>"
      ]
     },
     "metadata": {},
     "output_type": "display_data"
    }
   ],
   "source": [
    "from matplotlib import colors\n",
    "#\n",
    "# Stocker les données à afficher dans un DataFrame\n",
    "#\n",
    "df_wind = pd.DataFrame(columns=['B', 'inf', 'sup', 'median'])\n",
    "Bstep = 500\n",
    "Blast = Bstep\n",
    "for idx in range(1,5001,Bstep):\n",
    "    Blast = idx+Bstep\n",
    "    # prendre les poids des modèles pour la variable 'Wind' jusqu'à Blast\n",
    "    X_Wind = theta_bootstrap['Wind'][0:idx]\n",
    "    # Calculer l'intervalle de confiance pour ce dataset\n",
    "    qtWind = X_Wind.quantile([0.005, 0.995])\n",
    "    df_wind.loc[len(df_wind)] = {'B':idx, 'inf':qtWind[0.005], 'sup':qtWind[0.995], 'median':X_Wind.median()}\n",
    "    \n",
    "fig, ax = plt.subplots(figsize=(15, 7))\n",
    "plt.subplots_adjust(hspace=0.3)\n",
    "ax.plot(df_wind['B'], df_wind['inf'], \"r--\", color='black', linewidth=3)\n",
    "ax.plot(df_wind['B'], df_wind['sup'], \"r--\", color='black', linewidth=3)\n",
    "ax.plot(df_wind['B'], df_wind['median'], \"r--\", color='seagreen', linewidth=3)\n",
    "plt.xlabel('Nombre de samples', fontsize=18)\n",
    "plt.ylabel(r'$IC({\\theta}_{Wind})~/~{\\theta}_{Wind}.median()$', fontsize=18)\n",
    "plt.annotate(r'$IC_{inf}(\\theta_{Wind})$',\n",
    "             xy=(4200, df_wind['inf'].min()-0.5), xycoords='data', xytext=(+10, +30),\n",
    "             textcoords='offset points', fontsize=18, color ='black')\n",
    "plt.annotate(r'$IC_{sup}(\\theta_{Wind})$',\n",
    "             xy=(4200, df_wind['sup'].max()-3), xycoords='data', xytext=(+10, +30),\n",
    "             textcoords='offset points', fontsize=18, color ='black')\n",
    "plt.annotate(r'$\\theta_{Wind}.median()$',\n",
    "             xy=(4200, df_wind['median'].max()-3), xycoords='data', xytext=(+10, +30),\n",
    "             textcoords='offset points', fontsize=18, color ='seagreen')\n",
    "\n",
    "df_wind.head()"
   ]
  },
  {
   "cell_type": "markdown",
   "metadata": {},
   "source": [
    "## Question 4\n",
    "\n",
    "Sur la régression de 'Ozone' sur 'Wind' par mois calculée et représentée graphiquement avec seaborn.lmplot,\n",
    "on constate une régression atypique sur le mois de Juin (6) où le coefficient directeur de la régression est\n",
    "positif alors que pour toutes les autres régression, on a obtenu un coefficient directeur négatif."
   ]
  },
  {
   "cell_type": "code",
   "execution_count": 113,
   "metadata": {
    "collapsed": false,
    "scrolled": false
   },
   "outputs": [
    {
     "data": {
      "image/png": "[encoded data removed]",
      "text/plain": [
       "<matplotlib.figure.Figure at 0x7f551440b890>"
      ]
     },
     "metadata": {},
     "output_type": "display_data"
    }
   ],
   "source": [
    "sns.lmplot(x=\"Wind\", y=\"Ozone\", hue=\"Month\", data=aq_data, palette=\"Set1\", legend=True, size=6, aspect=1.5);"
   ]
  },
  {
   "cell_type": "markdown",
   "metadata": {
    "collapsed": true
   },
   "source": [
    "# Exercice 3 : algorithmes glouton (greedy)"
   ]
  },
  {
   "cell_type": "markdown",
   "metadata": {},
   "source": [
    "## Question 1 : implémentation de la fonction stpforward"
   ]
  },
  {
   "cell_type": "code",
   "execution_count": 119,
   "metadata": {
    "collapsed": true
   },
   "outputs": [],
   "source": [
    "#\n",
    "# Génération de la matrice X_S\n",
    "# Paramètres :\n",
    "#    - X      : matrice sous la forme d'un DataFrame panda\n",
    "#    - S      : une liste d'indice de colonnes à sélectionner dans X\n",
    "# Retour :\n",
    "#    Un DataFrame composé des colonnes dont les indices sont présents dans S\n",
    "#\n",
    "def getX_S(X, S):\n",
    "    columns_X = []\n",
    "    for idx in S:\n",
    "        columns_X.append(X[X.columns[idx]])\n",
    "    return pd.concat(columns_X)\n",
    "\n",
    "#\n",
    "# Régression linéraire de y sur X\n",
    "# retourne les paramètres du modèle obtenus par une régression linéaire\n",
    "# et le vecteur résidu (y-y_hat)\n",
    "#\n",
    "def least_square(mX, my):\n",
    "    bX = standardize(mX)\n",
    "    skl = linear_r(bX, my)\n",
    "    theta0b = np.array([skl.intercept_])\n",
    "    thetab = np.concatenate((theta0b,skl.coef_),axis=0)\n",
    "    y_hat = skl.predict(bX)\n",
    "    return thetab, my-y_hat\n",
    "\n",
    "#\n",
    "# Réajuster theta avec les 0 manquants pour les paramètres exclus du fitting\n",
    "#\n",
    "def reshape_theta(theta, S_c):\n",
    "    for j in S_c:\n",
    "        theta.insert(j, 0.)\n",
    "    return theta\n",
    "\n",
    "#\n",
    "# Implementation de la fonction stpforward\n",
    "#\n",
    "def stpforward(y, X, M):\n",
    "    # initialisations\n",
    "    theta, r, S, S_c = [np.zeros(X.shape[1])], y, [], range(0, len(y))\n",
    "    for i in range(0, M):\n",
    "        # On boucle sur les indices du complémentaire de S dans [1..p]\n",
    "        alpha_j_max, j_max = 0, 0\n",
    "        for j in range(0, len(S_c)):\n",
    "            alpha_j = abs(np.dot(X[X.columns[j]].T,r))\n",
    "            if alpha_j > alpha_j_max:\n",
    "                alpha_j_max = alpha_j\n",
    "                j_max = j\n",
    "        # déplacer j_max de S_c vers S\n",
    "        S.append(j_max)\n",
    "        S_c.remove(j_max)\n",
    "        # générer X_S\n",
    "        X_S = getX_S(X, S)\n",
    "        # Moindres carrés avec y et X_S\n",
    "        # r affecté aux résidus des moindres carrés\n",
    "        theta_int, r = least_square(X_S, y)\n",
    "    # end for\n",
    "    theta = theta_int\n",
    "    theta = reshape_theta(theta, S_c)\n",
    "    return theta, S\n",
    "    "
   ]
  },
  {
   "cell_type": "markdown",
   "metadata": {},
   "source": [
    "## Question 2 : implémentation de la classe MYOMP\n",
    "OMP = Orthogonal Matching Mursuit"
   ]
  },
  {
   "cell_type": "code",
   "execution_count": 116,
   "metadata": {
    "collapsed": true
   },
   "outputs": [],
   "source": [
    "import numpy as np\n",
    "from sklearn.linear_model.base import LinearModel, _pre_fit\n",
    "from sklearn.base import RegressorMixin\n",
    "\n",
    "class MYOMP(LinearModel, RegressorMixin):\n",
    "    \n",
    "    def __init__(self, n_nonzero_coefs=None, fit_intercept=True, normalize=True, precompute='auto'):\n",
    "        self.n_nonzero_coefs = n_nonzero_coefs\n",
    "        self.fit_intercept = fit_intercept\n",
    "        self.normalize = normalize\n",
    "        self.precompute = precompute\n",
    "        \n",
    "    def fit(self, X, y):\n",
    "        \"\"\"Fit the model using X, y as training data.\n",
    "        Parameters\n",
    "        ----------\n",
    "        X : array-like, shape (n_samples, n_features)\n",
    "        Training data.\n",
    "        y : array-like, shape (n_samples,) or (n_samples, n_targets)\n",
    "        Target values.\n",
    "        Returns\n",
    "        -------\n",
    "        self : object\n",
    "        returns an instance of self.\n",
    "        \"\"\"\n",
    "        X, y, X_mean, y_mean, X_std, Gram, Xy = \\\n",
    "        _pre_fit(X, y, None, self.precompute, self.normalize,\n",
    "        self.fit_intercept, copy=True)\n",
    "        self.coef_ = np.zeros([X.shape[1], ]) # MODIFY HERE !!!\n",
    "        self._set_intercept(X_mean, y_mean, X_std)\n",
    "        return self\n"
   ]
  },
  {
   "cell_type": "code",
   "execution_count": null,
   "metadata": {
    "collapsed": true
   },
   "outputs": [],
   "source": []
  }
 ],
 "metadata": {
  "kernelspec": {
   "display_name": "Python 2",
   "language": "python",
   "name": "python2"
  },
  "language_info": {
   "codemirror_mode": {
    "name": "ipython",
    "version": 2
   },
   "file_extension": ".py",
   "mimetype": "text/x-python",
   "name": "python",
   "nbconvert_exporter": "python",
   "pygments_lexer": "ipython2",
   "version": "2.7.6"
  }
 },
 "nbformat": 4,
 "nbformat_minor": 0
}
