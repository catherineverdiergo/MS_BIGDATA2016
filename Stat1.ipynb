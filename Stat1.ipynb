{
 "cells": [
  {
   "cell_type": "markdown",
   "metadata": {},
   "source": [
    "# Plot initialisation"
   ]
  },
  {
   "cell_type": "code",
   "execution_count": null,
   "metadata": {
    "collapsed": false
   },
   "outputs": [],
   "source": [
    "from IPython.display import HTML\n",
    "\n",
    "HTML('''<script>\n",
    "code_show=true; \n",
    "function code_toggle() {\n",
    " if (code_show){\n",
    " $('div.input').hide();\n",
    " } else {\n",
    " $('div.input').show();\n",
    " }\n",
    " code_show = !code_show\n",
    "} \n",
    "$( document ).ready(code_toggle);\n",
    "</script>\n",
    "The raw code for this IPython notebook is by default hidden for easier reading.\n",
    "To toggle on/off the raw code, click <a href=\"javascript:code_toggle()\">here</a>.''')"
   ]
  },
  {
   "cell_type": "code",
   "execution_count": null,
   "metadata": {
    "collapsed": true
   },
   "outputs": [],
   "source": [
    "code_show=false\n",
    "import numpy as np\n",
    "import matplotlib.pyplot as plt  # for plots\n",
    "from matplotlib import rc\n",
    "import seaborn as sns\n",
    "sns.set_style(\"white\")\n",
    "\n",
    "dirname = \"srcimages/\"\n",
    "imageformat = '.pdf'\n",
    "rc('font', **{'family': 'sans-serif', 'sans-serif': ['Computer Modern Roman']})\n",
    "params = {'axes.labelsize': 12,\n",
    "          'text.fontsize': 12,\n",
    "          'legend.fontsize': 12,\n",
    "          'xtick.labelsize': 10,\n",
    "          'ytick.labelsize': 10,\n",
    "          'text.usetex': True,\n",
    "          'figure.figsize': (8, 6)}\n",
    "plt.rcParams.update(params)\n",
    "mc3my_brown = (0.64, 0.16, 0.16)\n",
    "purple = (148. / 255, 0, 211. / 255)\n",
    "plt.close(\"all\")"
   ]
  },
  {
   "cell_type": "code",
   "execution_count": null,
   "metadata": {
    "collapsed": false,
    "scrolled": true
   },
   "outputs": [],
   "source": [
    "# <!-- collapse=True -->\n",
    "%pylab inline"
   ]
  },
  {
   "cell_type": "markdown",
   "metadata": {},
   "source": [
    "## Empirical mean:"
   ]
  },
  {
   "cell_type": "code",
   "execution_count": null,
   "metadata": {
    "collapsed": false
   },
   "outputs": [],
   "source": [
    "# <!-- collapse=True -->\n",
    "mu = 1.5\n",
    "sigma = 4\n",
    "nb_samples = 8\n",
    "\n",
    "np.random.seed(seed=2)\n",
    "rgamma = np.random.gamma\n",
    "# get random nb_samples observations from a gamma law\n",
    "X = rgamma(mu, sigma, nb_samples)\n",
    "y = np.ones(nb_samples,)\n",
    "\n",
    "# Various statistics:\n",
    "meanX = np.mean(X)\n",
    "minX = np.min(X)\n",
    "maxX = np.max(X)\n",
    "medX = np.median(X)\n",
    "# Median absolute deviation (médiane des écarts à la médiane) pour la série X\n",
    "MADX = np.median(np.abs(X - medX))\n",
    "# Standard deviation i.e. écart type pour la série X\n",
    "s = np.std(X)\n",
    "\n",
    "# Création d'une figure\n",
    "fig1, ax = plt.subplots(figsize=(10, 3))\n",
    "# limitation de la figure à l'intervalle [0,1.5] sur l'axe vertical\n",
    "ax.set_ylim(0, 1.5)\n",
    "# limitation de la figure à l'intervalle [minX-10%(maxX-minX),maxX+10%(maxX-minX)]\n",
    "# pour s'assurer que tous les points puissent être affichés\n",
    "# np.ptp(X) ==> peak to peak (sommet à sommet) sur une série retourne maxX-minX\n",
    "ax.set_xlim(minX - 0.1 * np.ptp(X), maxX + 0.1 * np.ptp(X))\n",
    "# retirer les ticks par défaut sur l'axe horizontal\n",
    "ax.get_xaxis().tick_bottom()\n",
    "# pas d'axe vertical\n",
    "ax.axes.get_yaxis().set_visible(False)\n",
    "\n",
    "# Rendre invisible les bords right, top & left de la figure\n",
    "ax.spines['right'].set_color('none')\n",
    "ax.spines['top'].set_color('none')\n",
    "ax.spines['left'].set_color('none')\n",
    "# Relever le bord bottom de la figure à la hauteur 0.5\n",
    "ax.spines['bottom'].set_position(('data', 0.5))\n",
    "\n",
    "# Dessiner les points (x_i,y_i) i=1..8 (rem: y_i=1 pour tout i)\n",
    "# points sous forme de cercles (marker='o') intérieur noir, contour mc3my_brown,\n",
    "# Je pense que c=purple ne sert pas\n",
    "# faceted = True ???\n",
    "ax.scatter(X, y, s=300, c=purple, edgecolors=mc3my_brown,\n",
    "           marker='o', faceted=True)\n",
    "\n",
    "# Dessiner une ligne verticale en pointillés (linestyle=\"--\") à l'endroit de\n",
    "# la moyenne des X\n",
    "ax.plot([meanX, meanX], [0, 1.5], color=mc3my_brown,\n",
    "        linewidth=1.5, linestyle=\"--\")\n",
    "\n",
    "# afficher \"y\" comme label de l'axe horizontal\n",
    "plt.xlabel(r'$y$', fontsize=18)\n",
    "\n",
    "# Créer l'annotation ybarre_n : moyenne empirique à 0.4 de la ligne en pointillés\n",
    "plt.annotate(r'$\\bar{y}_n : \\mbox{moyenne empirique}$',\n",
    "             xy=(meanX, 0.4), xycoords='data', xytext=(+10, +30),\n",
    "             textcoords='offset points', fontsize=18, color =mc3my_brown)\n",
    "\n",
    "# Pour s'assurer que toutes les informations seront bien en totalité\n",
    "# dans le cadre intérieur de la figure\n",
    "plt.tight_layout()"
   ]
  },
  {
   "cell_type": "markdown",
   "metadata": {},
   "source": [
    "## Empirical mean / median"
   ]
  },
  {
   "cell_type": "code",
   "execution_count": 33,
   "metadata": {
    "collapsed": false
   },
   "outputs": [
    {
     "data": {
      "image/png": "[encoded data removed]",
      "text/plain": [
       "<matplotlib.figure.Figure at 0x7f7801562050>"
      ]
     },
     "metadata": {},
     "output_type": "display_data"
    }
   ],
   "source": [
    "# <!-- collapse=True -->\n",
    "fig1, ax = plt.subplots(figsize=(10, 3))\n",
    "ax.set_ylim(0, 1.5)\n",
    "ax.set_xlim(minX - 0.1 * np.ptp(X), maxX + 0.1 * np.ptp(X))\n",
    "ax.get_xaxis().tick_bottom()\n",
    "ax.axes.get_yaxis().set_visible(False)\n",
    "\n",
    "ax.spines['right'].set_color('none')\n",
    "ax.spines['top'].set_color('none')\n",
    "ax.spines['bottom'].set_position(('data', 0.5))\n",
    "ax.spines['left'].set_color('none')\n",
    "\n",
    "ax.scatter(X, y, color='black', s=300, c=purple, edgecolors=mc3my_brown,\n",
    "           marker='o', faceted=True)\n",
    "ax.plot([meanX, meanX], [0, 1.5], color=mc3my_brown, linewidth=1.5,\n",
    "        linestyle=\"--\")\n",
    "ax.plot([medX, medX], [0, 1.5], color=purple, linewidth=1.5, linestyle=\"--\")\n",
    "\n",
    "plt.xlabel(r'$y$', fontsize=18)\n",
    "plt.annotate(r'$\\rm{Med}_n(\\mathbb{y}): \\mbox{m\\'ediane empirique}$',\n",
    "             xy=(medX, 1), xycoords='data', xytext=(-210, +30),\n",
    "             textcoords='offset points', fontsize=18, color =purple)\n",
    "plt.annotate(r'$\\bar{y}_n : \\mbox{moyenne empirique}$', xy=(meanX, 0.4),\n",
    "             xycoords='data', xytext=(+10, +30), textcoords='offset points',\n",
    "             fontsize=18, color =mc3my_brown)\n",
    "\n",
    "plt.tight_layout()"
   ]
  },
  {
   "cell_type": "markdown",
   "metadata": {},
   "source": [
    "## Standard deviation (écart type de la série):"
   ]
  },
  {
   "cell_type": "code",
   "execution_count": null,
   "metadata": {
    "collapsed": false
   },
   "outputs": [],
   "source": [
    "# <!-- collapse=True -->\n",
    "fig1, ax = plt.subplots(figsize=(10, 3))\n",
    "ax.set_ylim(0, 1.5)\n",
    "ax.set_xlim(minX - 0.1 * np.ptp(X), maxX + 0.1 * np.ptp(X))\n",
    "ax.get_xaxis().tick_bottom()\n",
    "ax.axes.get_yaxis().set_visible(False)\n",
    "\n",
    "ax.spines['right'].set_color('none')\n",
    "ax.spines['top'].set_color('none')\n",
    "ax.spines['bottom'].set_position(('data', 0.5))\n",
    "ax.spines['left'].set_color('none')\n",
    "\n",
    "ax.scatter(X, y, color='black', s=300, c=purple, edgecolors=mc3my_brown,\n",
    "           marker='o', faceted=True)\n",
    "\n",
    "ax.plot([meanX, meanX], [0, 1.5], color=mc3my_brown, linewidth=1.5,\n",
    "        linestyle=\"--\")\n",
    "plt.arrow(meanX, 1.2, -s, 0, fc=mc3my_brown, ec=mc3my_brown,\n",
    "          head_width=0.05, head_length=0.1, length_includes_head=True)\n",
    "plt.arrow(meanX - s, 1.2, s, 0, fc=mc3my_brown, ec=mc3my_brown,\n",
    "          head_width=0.05, head_length=0.1, length_includes_head=True)\n",
    "plt.arrow(meanX, 1.2, s, 0, fc=mc3my_brown, ec=mc3my_brown,\n",
    "          head_width=0.05, head_length=0.1, length_includes_head=True)\n",
    "plt.arrow(meanX + s, 1.2, -s, 0, fc=mc3my_brown, ec=mc3my_brown,\n",
    "          head_width=0.05, head_length=0.1, length_includes_head=True)\n",
    "\n",
    "\n",
    "plt.xlabel(r'$y$', fontsize=18)\n",
    "plt.annotate(r'$\\bar{y}_n : \\mbox{moyenne empirique}$',\n",
    "             xy=(meanX, 0.4), xycoords='data', xytext=(+10, +30),\n",
    "             textcoords='offset points', fontsize=18, color =mc3my_brown)\n",
    "plt.annotate(r'$s_n$', xy=(meanX + s * (0.4), 1), xycoords='data',\n",
    "             xytext=(+10, +30), textcoords='offset points', fontsize=18,\n",
    "             color = mc3my_brown)\n",
    "plt.annotate(r'$s_n$', xy=(meanX - s * (0.6), 1), xycoords='data',\n",
    "             xytext=(+10, +30), textcoords='offset points', fontsize=18,\n",
    "             color =mc3my_brown)\n",
    "\n",
    "plt.tight_layout()"
   ]
  },
  {
   "cell_type": "markdown",
   "metadata": {},
   "source": [
    "## MAD (measures of dispersion) :"
   ]
  },
  {
   "cell_type": "markdown",
   "metadata": {},
   "source": [
    "MAD est un acronyme pouvant correspondre à plusieurs mesures de dispersion sur un échantillon.<br>\n",
    "Il peut s'agir de :<br>\n",
    "<ul>\n",
    "<li>\n",
    "la moyenne des écarts à la moyenne (<b>Mean Absolute Deviation</b>)\n",
    "</li>\n",
    "<li>\n",
    "la moyenne des écarts à la médiane autour de la médiane (<b>Mean Absolute Deviation</b> around median)\n",
    "</li>\n",
    "<li>\n",
    "la médiane des écarts à la médiane autour de la médiane (<b>Median Absolute Deviation</b> around median)\n",
    "</li>\n",
    "</ul>\n",
    "<br>\n",
    "Le dernier des trois est celui qui présente la meilleure robustesse comme estimateur de dispersion (voir shéma ci-dessous)."
   ]
  },
  {
   "cell_type": "code",
   "execution_count": 46,
   "metadata": {
    "collapsed": false
   },
   "outputs": [
    {
     "data": {
      "text/latex": [
       "$$MAD = \\frac{1}{n}\\sum_{i=1}^{n}\\left | x_i-\\bar{x} \\right |$$"
      ],
      "text/plain": [
       "<IPython.core.display.Math object>"
      ]
     },
     "metadata": {},
     "output_type": "display_data"
    }
   ],
   "source": [
    "# <!-- collapse=True -->\n",
    "from IPython.display import display, Math, Latex\n",
    "display(Math(r'Mean\\ Absolute\\ Deviation\\ around\\ mean = \\frac{1}{n}\\sum_{i=1}^{n}\\left | x_i-\\bar{x} \\right |'))\n",
    "display(Math(r'Mean\\ Absolute\\ Deviation\\ around\\ median = \\frac{1}{n}\\sum_{i=1}^{n}\\left | x_i-median(X) \\right |'))\n",
    "display(Math(r'Median\\ Absolute\\ Deviation\\ around\\ median = Median(\\left | x_i-median(X) \\right |)'))"
   ]
  },
  {
   "cell_type": "code",
   "execution_count": null,
   "metadata": {
    "collapsed": true
   },
   "outputs": [],
   "source": [
    "fig1, ax = plt.subplots(figsize=(10, 3))\n",
    "ax.set_ylim(0, 1.5)\n",
    "ax.set_xlim(minX - 0.1 * np.ptp(X), maxX + 0.1 * np.ptp(X))\n",
    "ax.get_xaxis().tick_bottom()\n",
    "ax.axes.get_yaxis().set_visible(False)\n",
    "\n",
    "ax.spines['right'].set_color('none')\n",
    "ax.spines['top'].set_color('none')\n",
    "ax.spines['bottom'].set_position(('data', 0.5))\n",
    "ax.spines['left'].set_color('none')\n",
    "\n",
    "ax.scatter(X, y, color='black', s=300, c=purple, edgecolors=mc3my_brown,\n",
    "           marker='o', faceted=True)\n",
    "\n",
    "ax.plot([medX, medX], [0, 1.5], color=purple, linewidth=1.5, linestyle=\"--\")\n",
    "\n",
    "plt.arrow(medX, 1.2, -MADX, 0, fc=purple, ec=purple, head_width=0.05,\n",
    "          head_length=0.1, length_includes_head=True)\n",
    "plt.arrow(medX - MADX, 1.2, MADX, 0, fc=purple, ec=purple, head_width=0.05,\n",
    "          head_length=0.1, length_includes_head=True)\n",
    "plt.arrow(medX, 1.2, MADX, 0, fc=purple, ec=purple, head_width=0.05,\n",
    "          head_length=0.1, length_includes_head=True)\n",
    "plt.arrow(medX + MADX, 1.2, -MADX, 0, fc=purple, ec=purple, head_width=0.05,\n",
    "          head_length=0.1, length_includes_head=True)\n",
    "\n",
    "plt.xlabel(r'$y$', fontsize=18)\n",
    "plt.annotate(r'$\\rm{Med}_n(\\mathbb{y}): \\mbox{m\\'ediane empirique}$',\n",
    "             xy=(medX, 0.4), xycoords='data', xytext=(+10, +30),\n",
    "             textcoords='offset points', fontsize=18, color=purple)\n",
    "plt.annotate(r'$\\rm{MAD}_n(\\mathbb{y})$', xy=(medX + MADX * (0.1), 1),\n",
    "             xycoords='data', xytext=(+10, +30), textcoords='offset points',\n",
    "             fontsize=14, color =purple)\n",
    "plt.annotate(r'$\\rm{MAD}_n(\\mathbb{y})$', xy=(medX - MADX * (1.2), 1),\n",
    "             xycoords='data', xytext=(+10, +30), textcoords='offset points',\n",
    "             fontsize=14, color =purple)\n",
    "\n",
    "plt.tight_layout()"
   ]
  },
  {
   "cell_type": "markdown",
   "metadata": {
    "collapsed": true
   },
   "source": [
    "## Histogram"
   ]
  },
  {
   "cell_type": "code",
   "execution_count": null,
   "metadata": {
    "collapsed": true
   },
   "outputs": [],
   "source": [
    "%pylab inline"
   ]
  },
  {
   "cell_type": "code",
   "execution_count": null,
   "metadata": {
    "collapsed": false
   },
   "outputs": [],
   "source": [
    "sns.set_style(\"whitegrid\")\n",
    "mu = 1\n",
    "sigma = 3\n",
    "nb_samples = 30\n",
    "\n",
    "np.random.seed(seed=1)\n",
    "rgamma = np.random.gamma\n",
    "X = rgamma(mu, sigma, nb_samples)\n",
    "y = np.ones(nb_samples,)\n",
    "# Statistics:\n",
    "meanX = np.mean(X)\n",
    "minX = np.min(X)\n",
    "maxX = np.max(X)\n",
    "medX = np.median(X)\n",
    "MADX = np.median(np.abs(X - medX))\n",
    "s = np.std(X)\n",
    "sorted_data = np.sort(X)\n",
    "\n",
    "fig1 = plt.figure(figsize=(20, 6))\n",
    "plt.subplots_adjust(hspace=0.3)\n",
    "ax = fig1.add_subplot(211)\n",
    "ax.set_ylim(0, 1.5)\n",
    "range_lim = (-0.5, 7.5)  # 0, X.max()+0.3\n",
    "ax.set_xlim(range_lim)\n",
    "ax.get_xaxis().tick_bottom()\n",
    "ax.axes.get_yaxis().set_visible(False)\n",
    "ax.spines['right'].set_color('none')\n",
    "ax.spines['top'].set_color('none')\n",
    "ax.spines['bottom'].set_position(('data', 0.5))\n",
    "ax.spines['left'].set_color('none')\n",
    "\n",
    "ax.scatter(X, y, color='black', s=300, c=purple, plt.xlabel(r'$y$', fontsize=18)\n",
    "plt.suptitle(r\"$\\mbox{Nombre d'\\'echantillons}\" + \":n={0}$\".format(nb_samples),\n",
    "             multialignment='center')\n",
    "\n",
    "ax2 = fig1.add_subplot(212)\n",
    "ax2.set_xlim(range_lim)\n",
    "plt.hist(X, bins=10, normed=True, align='mid', color=purple)\n",
    "plt.ylabel(r'$\\mbox{Fr\\'equence}$', fontsize=18)\n",
    "plt.xlabel(r'$y$', fontsize=18)\n",
    "plt.tight_layout()edgecolors=mc3my_brown,\n",
    "           marker='o', faceted=True)\n"
   ]
  },
  {
   "cell_type": "code",
   "execution_count": null,
   "metadata": {
    "collapsed": true
   },
   "outputs": [],
   "source": []
  }
 ],
 "metadata": {
  "kernelspec": {
   "display_name": "Python 2",
   "language": "python",
   "name": "python2"
  },
  "language_info": {
   "codemirror_mode": {
    "name": "ipython",
    "version": 2
   },
   "file_extension": ".py",
   "mimetype": "text/x-python",
   "name": "python",
   "nbconvert_exporter": "python",
   "pygments_lexer": "ipython2",
   "version": "2.7.6"
  }
 },
 "nbformat": 4,
 "nbformat_minor": 0
}
