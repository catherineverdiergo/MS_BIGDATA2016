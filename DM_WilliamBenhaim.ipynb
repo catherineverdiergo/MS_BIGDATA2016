{
 "cells": [
  {
   "cell_type": "markdown",
   "metadata": {},
   "source": [
    "# $${\\color{red} {Devoir \\: maison \\: n^1 : Intervalles \\: de\\:  confiance\\:  et\\: méthodes\\:  gloutonnes}}$$ \n",
    "# $$William\\: BENHAIM$$"
   ]
  },
  {
   "cell_type": "code",
   "execution_count": 1,
   "metadata": {
    "collapsed": false
   },
   "outputs": [],
   "source": [
    "# On ajoute toutes les librairies utiles\n",
    "import pandas as pd\n",
    "import numpy as np\n",
    "import sklearn\n",
    "import seaborn as sns\n",
    "import statsmodels.datasets as smd\n",
    "import matplotlib.pyplot as plt\n",
    "import statsmodels.api as sm\n",
    "from pandas import DataFrame, Series\n",
    "from statsmodels import datasets\n",
    "from matplotlib import rc\n",
    "from numpy import *\n",
    "from pylab import *\n",
    "from sklearn import linear_model, preprocessing, utils\n",
    "from scipy.stats import t\n",
    "from sklearn.linear_model.base import LinearModel, _pre_fit\n",
    "from sklearn.base import RegressorMixin\n",
    "from sklearn.linear_model import OrthogonalMatchingPursuit\n"
   ]
  },
  {
   "cell_type": "code",
   "execution_count": 2,
   "metadata": {
    "collapsed": false
   },
   "outputs": [],
   "source": [
    "%matplotlib inline\n"
   ]
  },
  {
   "cell_type": "code",
   "execution_count": 3,
   "metadata": {
    "collapsed": true
   },
   "outputs": [],
   "source": [
    "rc('font', **{'family': 'sans-serif', 'sans-serif': ['Computer Modern Roman']})\n",
    "params = {'axes.labelsize': 12,\n",
    "          'font.size': 12,\n",
    "          'legend.fontsize': 12,\n",
    "          'xtick.labelsize': 10,\n",
    "          'ytick.labelsize': 10,\n",
    "          'text.usetex': True,\n",
    "          'figure.figsize': (8, 6)}\n",
    "plt.rcParams.update(params)\n",
    "plt.close(\"all\")\n",
    "\n",
    "sns.set_context(\"poster\")\n",
    "sns.set_palette(\"colorblind\")\n",
    "sns.axes_style()\n",
    "sns.set_style({'legend.frameon': True})\n",
    "color_blind_list = sns.color_palette(\"colorblind\", 8)\n",
    "my_orange = color_blind_list[2]\n",
    "my_green = color_blind_list[1]\n"
   ]
  },
  {
   "cell_type": "code",
   "execution_count": 4,
   "metadata": {
    "collapsed": true
   },
   "outputs": [],
   "source": [
    "# Fonction qui permettra la mise en forme des resultats\n",
    "# dans les differentes questions\n",
    "# Mise en forme\n",
    "AllRows = ['Intercept', 'Solar.R', 'Wind', 'Temp', 'Month', 'Day']\n",
    "ExplanatoryRows = ['Solar.R', 'Wind', 'Temp', 'Month', 'Day']\n",
    "\n",
    "\n",
    "def MiseEnForme(ArrayA, ArrayB, NameColumn, NameIndex):\n",
    "    Result = pd.Series(ArrayA).append(pd.Series(ArrayB))\n",
    "    Result_DF = pd.DataFrame(Result, columns=[NameColumn])\n",
    "    Result_DF.index = NameIndex\n",
    "    return Result_DF\n"
   ]
  },
  {
   "cell_type": "markdown",
   "metadata": {},
   "source": [
    "## $\\color{red}{Exercice\\:1:\\:(Intervalle\\:de\\:confiance\\:dans\\:le\\:modèle\\:gaussien)}$"
   ]
  },
  {
   "cell_type": "markdown",
   "metadata": {},
   "source": [
    "### Question 1:\n",
    "#### Écrire mathématiquement le modèle linéaire correspondant"
   ]
  },
  {
   "cell_type": "markdown",
   "metadata": {},
   "source": [
    "Le modéle s'écrit:\n",
    "$$y_i=\\theta_0^*+\\sum_{i=1}^{n}\\theta_i^*x_{ij}+\\varepsilon_i$$\n",
    "$$pour\\: \\: \\: \\:  \\varepsilon_i  \\overset{iid}{\\sim} \\varepsilon \\: \\: \\: \\:  et\\: \\: \\: \\:\\varepsilon \\sim  N(0_n,{\\sigma}^2Id)     \\: \\: \\: \\:     \\forall {i=1 \\:  à\\:  n} $$"
   ]
  },
  {
   "cell_type": "markdown",
   "metadata": {
    "collapsed": true
   },
   "source": [
    "### Question 2:\n",
    "#### Récupérer le jeu de données à partir du package statsmodels.datasets.        On pourra utiliser la fonction get_rdataset de ce package avec la méthode data."
   ]
  },
  {
   "cell_type": "code",
   "execution_count": 5,
   "metadata": {
    "collapsed": false
   },
   "outputs": [
    {
     "data": {
      "text/html": [
       "<div>\n",
       "<table border=\"1\" class=\"dataframe\">\n",
       "  <thead>\n",
       "    <tr style=\"text-align: right;\">\n",
       "      <th></th>\n",
       "      <th>Ozone</th>\n",
       "      <th>Solar.R</th>\n",
       "      <th>Wind</th>\n",
       "      <th>Temp</th>\n",
       "      <th>Month</th>\n",
       "      <th>Day</th>\n",
       "    </tr>\n",
       "  </thead>\n",
       "  <tbody>\n",
       "    <tr>\n",
       "      <th>0</th>\n",
       "      <td>41</td>\n",
       "      <td>190</td>\n",
       "      <td>7.4</td>\n",
       "      <td>67</td>\n",
       "      <td>5</td>\n",
       "      <td>1</td>\n",
       "    </tr>\n",
       "    <tr>\n",
       "      <th>1</th>\n",
       "      <td>36</td>\n",
       "      <td>118</td>\n",
       "      <td>8.0</td>\n",
       "      <td>72</td>\n",
       "      <td>5</td>\n",
       "      <td>2</td>\n",
       "    </tr>\n",
       "    <tr>\n",
       "      <th>2</th>\n",
       "      <td>12</td>\n",
       "      <td>149</td>\n",
       "      <td>12.6</td>\n",
       "      <td>74</td>\n",
       "      <td>5</td>\n",
       "      <td>3</td>\n",
       "    </tr>\n",
       "    <tr>\n",
       "      <th>3</th>\n",
       "      <td>18</td>\n",
       "      <td>313</td>\n",
       "      <td>11.5</td>\n",
       "      <td>62</td>\n",
       "      <td>5</td>\n",
       "      <td>4</td>\n",
       "    </tr>\n",
       "    <tr>\n",
       "      <th>4</th>\n",
       "      <td>NaN</td>\n",
       "      <td>NaN</td>\n",
       "      <td>14.3</td>\n",
       "      <td>56</td>\n",
       "      <td>5</td>\n",
       "      <td>5</td>\n",
       "    </tr>\n",
       "    <tr>\n",
       "      <th>5</th>\n",
       "      <td>28</td>\n",
       "      <td>NaN</td>\n",
       "      <td>14.9</td>\n",
       "      <td>66</td>\n",
       "      <td>5</td>\n",
       "      <td>6</td>\n",
       "    </tr>\n",
       "    <tr>\n",
       "      <th>6</th>\n",
       "      <td>23</td>\n",
       "      <td>299</td>\n",
       "      <td>8.6</td>\n",
       "      <td>65</td>\n",
       "      <td>5</td>\n",
       "      <td>7</td>\n",
       "    </tr>\n",
       "  </tbody>\n",
       "</table>\n",
       "</div>"
      ],
      "text/plain": [
       "   Ozone  Solar.R  Wind  Temp  Month  Day\n",
       "0     41      190   7.4    67      5    1\n",
       "1     36      118   8.0    72      5    2\n",
       "2     12      149  12.6    74      5    3\n",
       "3     18      313  11.5    62      5    4\n",
       "4    NaN      NaN  14.3    56      5    5\n",
       "5     28      NaN  14.9    66      5    6\n",
       "6     23      299   8.6    65      5    7"
      ]
     },
     "execution_count": 5,
     "metadata": {},
     "output_type": "execute_result"
    }
   ],
   "source": [
    "# On importe les donnees dans la variable data_gross\n",
    "data_gross = smd.get_rdataset(\"airquality\").data\n",
    "data_gross.head(7)\n"
   ]
  },
  {
   "cell_type": "markdown",
   "metadata": {
    "collapsed": true
   },
   "source": [
    "### Question 3:\n",
    "#### Enlever les lignes qui contiennent des valeurs manquantes."
   ]
  },
  {
   "cell_type": "code",
   "execution_count": 6,
   "metadata": {
    "collapsed": false
   },
   "outputs": [
    {
     "data": {
      "text/html": [
       "<div>\n",
       "<table border=\"1\" class=\"dataframe\">\n",
       "  <thead>\n",
       "    <tr style=\"text-align: right;\">\n",
       "      <th></th>\n",
       "      <th>Ozone</th>\n",
       "      <th>Solar.R</th>\n",
       "      <th>Wind</th>\n",
       "      <th>Temp</th>\n",
       "      <th>Month</th>\n",
       "      <th>Day</th>\n",
       "    </tr>\n",
       "  </thead>\n",
       "  <tbody>\n",
       "    <tr>\n",
       "      <th>0</th>\n",
       "      <td>41</td>\n",
       "      <td>190</td>\n",
       "      <td>7.4</td>\n",
       "      <td>67</td>\n",
       "      <td>5</td>\n",
       "      <td>1</td>\n",
       "    </tr>\n",
       "    <tr>\n",
       "      <th>1</th>\n",
       "      <td>36</td>\n",
       "      <td>118</td>\n",
       "      <td>8.0</td>\n",
       "      <td>72</td>\n",
       "      <td>5</td>\n",
       "      <td>2</td>\n",
       "    </tr>\n",
       "    <tr>\n",
       "      <th>2</th>\n",
       "      <td>12</td>\n",
       "      <td>149</td>\n",
       "      <td>12.6</td>\n",
       "      <td>74</td>\n",
       "      <td>5</td>\n",
       "      <td>3</td>\n",
       "    </tr>\n",
       "    <tr>\n",
       "      <th>3</th>\n",
       "      <td>18</td>\n",
       "      <td>313</td>\n",
       "      <td>11.5</td>\n",
       "      <td>62</td>\n",
       "      <td>5</td>\n",
       "      <td>4</td>\n",
       "    </tr>\n",
       "    <tr>\n",
       "      <th>6</th>\n",
       "      <td>23</td>\n",
       "      <td>299</td>\n",
       "      <td>8.6</td>\n",
       "      <td>65</td>\n",
       "      <td>5</td>\n",
       "      <td>7</td>\n",
       "    </tr>\n",
       "    <tr>\n",
       "      <th>7</th>\n",
       "      <td>19</td>\n",
       "      <td>99</td>\n",
       "      <td>13.8</td>\n",
       "      <td>59</td>\n",
       "      <td>5</td>\n",
       "      <td>8</td>\n",
       "    </tr>\n",
       "    <tr>\n",
       "      <th>8</th>\n",
       "      <td>8</td>\n",
       "      <td>19</td>\n",
       "      <td>20.1</td>\n",
       "      <td>61</td>\n",
       "      <td>5</td>\n",
       "      <td>9</td>\n",
       "    </tr>\n",
       "  </tbody>\n",
       "</table>\n",
       "</div>"
      ],
      "text/plain": [
       "   Ozone  Solar.R  Wind  Temp  Month  Day\n",
       "0     41      190   7.4    67      5    1\n",
       "1     36      118   8.0    72      5    2\n",
       "2     12      149  12.6    74      5    3\n",
       "3     18      313  11.5    62      5    4\n",
       "6     23      299   8.6    65      5    7\n",
       "7     19       99  13.8    59      5    8\n",
       "8      8       19  20.1    61      5    9"
      ]
     },
     "execution_count": 6,
     "metadata": {},
     "output_type": "execute_result"
    }
   ],
   "source": [
    "# Nettoyage des donnees puis stockage dans data_clean\n",
    "# par exemple les lignes 4 et 5 de data_gross sont supprimees\n",
    "data_clean = data_gross.dropna()\n",
    "data_clean.head(7)\n"
   ]
  },
  {
   "cell_type": "markdown",
   "metadata": {
    "collapsed": true
   },
   "source": [
    "### Question 4:\n",
    "#### Ajuster le modèle par la méthode des moindres carrés (avec sklearn ou statsmodels),en régressant la variable 'Ozonne' sur les cinq autres variables. \n",
    "        "
   ]
  },
  {
   "cell_type": "code",
   "execution_count": 7,
   "metadata": {
    "collapsed": false
   },
   "outputs": [
    {
     "data": {
      "text/plain": [
       "LinearRegression(copy_X=True, fit_intercept=True, n_jobs=1, normalize=True)"
      ]
     },
     "execution_count": 7,
     "metadata": {},
     "output_type": "execute_result"
    }
   ],
   "source": [
    "Ozone_y = data_clean['Ozone']\n",
    "# Selection de toutes les colonnes sauf la colonne Ozone\n",
    "Explanatory_x = data_clean.drop(['Ozone'], axis=1)\n",
    "# Scaling des donnees grace a 'preprocessing.scale'\n",
    "Explanatory_x_scaled = preprocessing.scale(Explanatory_x)\n",
    "regr_toOzone = linear_model.LinearRegression(normalize=True)\n",
    "regr_toOzone.fit(Explanatory_x_scaled, Ozone_y)\n"
   ]
  },
  {
   "cell_type": "markdown",
   "metadata": {},
   "source": [
    "### Question 5:\n",
    "#### Calculer l’estimateur des moindres carrés des coefficients du modèle (ainsi que de l’ordonnée à l’origine) ?"
   ]
  },
  {
   "cell_type": "code",
   "execution_count": 8,
   "metadata": {
    "collapsed": false
   },
   "outputs": [
    {
     "data": {
      "text/html": [
       "<div>\n",
       "<table border=\"1\" class=\"dataframe\">\n",
       "  <thead>\n",
       "    <tr style=\"text-align: right;\">\n",
       "      <th></th>\n",
       "      <th>coefficients</th>\n",
       "    </tr>\n",
       "  </thead>\n",
       "  <tbody>\n",
       "    <tr>\n",
       "      <th>Intercept</th>\n",
       "      <td>42.099099</td>\n",
       "    </tr>\n",
       "    <tr>\n",
       "      <th>Solar.R</th>\n",
       "      <td>4.561931</td>\n",
       "    </tr>\n",
       "    <tr>\n",
       "      <th>Wind</th>\n",
       "      <td>-11.752771</td>\n",
       "    </tr>\n",
       "    <tr>\n",
       "      <th>Temp</th>\n",
       "      <td>17.985220</td>\n",
       "    </tr>\n",
       "    <tr>\n",
       "      <th>Month</th>\n",
       "      <td>-4.458953</td>\n",
       "    </tr>\n",
       "    <tr>\n",
       "      <th>Day</th>\n",
       "      <td>2.373939</td>\n",
       "    </tr>\n",
       "  </tbody>\n",
       "</table>\n",
       "</div>"
      ],
      "text/plain": [
       "           coefficients\n",
       "Intercept     42.099099\n",
       "Solar.R        4.561931\n",
       "Wind         -11.752771\n",
       "Temp          17.985220\n",
       "Month         -4.458953\n",
       "Day            2.373939"
      ]
     },
     "execution_count": 8,
     "metadata": {},
     "output_type": "execute_result"
    }
   ],
   "source": [
    "regr_toOzone_Coef = regr_toOzone.coef_\n",
    "regr_toOzone_Intercept = regr_toOzone.intercept_\n",
    "regr_toOzone_Coef_series = pd.Series(regr_toOzone_Coef)\n",
    "\n",
    "prediction_toOzone = regr_toOzone.predict(\n",
    "    Explanatory_x_scaled)\n",
    "residus_toOzone = Ozone_y - prediction_toOzone\n",
    "\n",
    "# Affichage\n",
    "regr_toOzone_Result_DF = MiseEnForme(\n",
    "    regr_toOzone_Intercept, regr_toOzone_Coef, 'coefficients', AllRows)\n",
    "regr_toOzone_Result_DF.head(6)\n"
   ]
  },
  {
   "cell_type": "markdown",
   "metadata": {},
   "source": [
    "#### Donner l’expression théorique d’un estimateur sans biais de la variance du bruit, puis  le résultat numérique obtenu."
   ]
  },
  {
   "cell_type": "markdown",
   "metadata": {},
   "source": [
    "On note $ \\widehat{\\sigma }^2$, l'expression d’un estimateur sans biais de la variance du bruit. On obtient:"
   ]
  },
  {
   "cell_type": "markdown",
   "metadata": {},
   "source": [
    "$$ \\widehat{\\sigma }^2=\\frac{1}{n-rg(X)}\\left \\| y-X \\widehat{\\theta } \\right \\|_2^2$$"
   ]
  },
  {
   "cell_type": "code",
   "execution_count": 9,
   "metadata": {
    "collapsed": false
   },
   "outputs": [
    {
     "data": {
      "text/html": [
       "<div>\n",
       "<table border=\"1\" class=\"dataframe\">\n",
       "  <thead>\n",
       "    <tr style=\"text-align: right;\">\n",
       "      <th></th>\n",
       "      <th>Resultat</th>\n",
       "    </tr>\n",
       "  </thead>\n",
       "  <tbody>\n",
       "    <tr>\n",
       "      <th>Estimateur sans biais de la Variance</th>\n",
       "      <td>435.075495</td>\n",
       "    </tr>\n",
       "  </tbody>\n",
       "</table>\n",
       "</div>"
      ],
      "text/plain": [
       "                                        Resultat\n",
       "Estimateur sans biais de la Variance  435.075495"
      ]
     },
     "execution_count": 9,
     "metadata": {},
     "output_type": "execute_result"
    }
   ],
   "source": [
    "# Avec la formule du cours, calcul de l'Estimateur sans biais de la Variance\n",
    "norm_residus_toOzone = linalg.norm(residus_toOzone)\n",
    "Explanatory_x_scaled_initial = Explanatory_x_scaled\n",
    "Explanatory_x_scaled = sm.add_constant(Explanatory_x_scaled)\n",
    "rank_Explanatory_x_scaled = np.linalg.matrix_rank(Explanatory_x_scaled)\n",
    "Var_Hat = 1 / (len(Ozone_y) * 1.0 - rank_Explanatory_x_scaled) *\\\n",
    "    (norm_residus_toOzone * norm_residus_toOzone)\n",
    "\n",
    "Var_Hat_DataFrame = pd.DataFrame([Var_Hat], index=[\n",
    "        'Estimateur sans biais de la Variance'], columns=['Resultat'])\n",
    "Var_Hat_DataFrame.head()\n"
   ]
  },
  {
   "cell_type": "markdown",
   "metadata": {},
   "source": [
    "### Question 6:\n",
    "#### Proposer des intervalles de confiance pour chacun des coefficients   ${\\theta}_j^*$   .\n",
    "    "
   ]
  },
  {
   "cell_type": "markdown",
   "metadata": {},
   "source": [
    "$$ IC_j = \\left [ \\widehat{\\theta_j}-t_{j-{\\alpha/2}}\\widehat{\\sigma}\\sqrt{(X^TX)^-1_{j,j}},\\widehat{\\theta_j}+t_{j-{\\alpha/2}}\\widehat{\\sigma}\\sqrt{(X^TX)^-1_{j,j}} \\right ] $$"
   ]
  },
  {
   "cell_type": "markdown",
   "metadata": {},
   "source": [
    "#### Calculer les numériquement pour toutes les variables explicatives."
   ]
  },
  {
   "cell_type": "code",
   "execution_count": 10,
   "metadata": {
    "collapsed": false
   },
   "outputs": [
    {
     "data": {
      "text/html": [
       "<div>\n",
       "<table border=\"1\" class=\"dataframe\">\n",
       "  <thead>\n",
       "    <tr style=\"text-align: right;\">\n",
       "      <th></th>\n",
       "      <th>Borne Inferieure</th>\n",
       "      <th>Borne Superieure</th>\n",
       "    </tr>\n",
       "  </thead>\n",
       "  <tbody>\n",
       "    <tr>\n",
       "      <th>Intercept</th>\n",
       "      <td>36.905168</td>\n",
       "      <td>47.293030</td>\n",
       "    </tr>\n",
       "    <tr>\n",
       "      <th>Solar.R</th>\n",
       "      <td>-1.012992</td>\n",
       "      <td>10.136853</td>\n",
       "    </tr>\n",
       "    <tr>\n",
       "      <th>Wind</th>\n",
       "      <td>-17.741167</td>\n",
       "      <td>-5.764375</td>\n",
       "    </tr>\n",
       "    <tr>\n",
       "      <th>Temp</th>\n",
       "      <td>11.168540</td>\n",
       "      <td>24.801900</td>\n",
       "    </tr>\n",
       "    <tr>\n",
       "      <th>Month</th>\n",
       "      <td>-10.282812</td>\n",
       "      <td>1.364907</td>\n",
       "    </tr>\n",
       "    <tr>\n",
       "      <th>Day</th>\n",
       "      <td>-2.848751</td>\n",
       "      <td>7.596628</td>\n",
       "    </tr>\n",
       "  </tbody>\n",
       "</table>\n",
       "</div>"
      ],
      "text/plain": [
       "           Borne Inferieure  Borne Superieure\n",
       "Intercept         36.905168         47.293030\n",
       "Solar.R           -1.012992         10.136853\n",
       "Wind             -17.741167         -5.764375\n",
       "Temp              11.168540         24.801900\n",
       "Month            -10.282812          1.364907\n",
       "Day               -2.848751          7.596628"
      ]
     },
     "execution_count": 10,
     "metadata": {},
     "output_type": "execute_result"
    }
   ],
   "source": [
    "alpha = 0.01\n",
    "#  Calcul intermediaire de (X^T*X)^-1\n",
    "MatrixCalcul_inv_XtransX = inv(\n",
    "    np.dot(Explanatory_x_scaled.transpose(), Explanatory_x_scaled))\n",
    "\n",
    "# Utilisation de t.ppf pour trouver le quantile a 99% d'une loi d'une student\n",
    "# Nb: Utilisation de n-p-1 si on n'ajoute pas la colonne de 1\n",
    "stud = t.ppf(1 - alpha / 2, len(Explanatory_x_scaled) * 1.0 -\n",
    "             np.linalg.matrix_rank(Explanatory_x_scaled))\n",
    "\n",
    "# Creation d'une Array avec Intercept et les coefficients\n",
    "all_theta = pd.Series(regr_toOzone_Intercept).append(pd.Series(\n",
    "        regr_toOzone_Coef))\n",
    "all_theta.index = [0, 1, 2, 3, 4, 5]\n",
    "\n",
    "\n",
    "def IntervalCalcul(indice):\n",
    "    ICInf = all_theta[indice] \\\n",
    "        - stud * sqrt(Var_Hat) * sqrt(MatrixCalcul_inv_XtransX[indice][indice])\n",
    "    ICSup = all_theta[indice] \\\n",
    "        + stud * sqrt(Var_Hat) * sqrt(MatrixCalcul_inv_XtransX[indice][indice])\n",
    "    return ICInf, ICSup\n",
    "\n",
    "AllColumns = ['Intercept', 'Solar.R', 'Wind', 'Temp', 'Month', 'Day']\n",
    "ListIC = []\n",
    "for i in range(0, 6):\n",
    "    ICInf, ICSup = IntervalCalcul(i)\n",
    "    ListIC.append(([ICInf, ICSup]))\n",
    "\n",
    "ListIC_DF = pd.DataFrame(ListIC, columns=[\n",
    "    'Borne Inferieure', 'Borne Superieure'])\n",
    "ListIC_DF.index = AllColumns\n",
    "ListIC_DF.head(6)\n"
   ]
  },
  {
   "cell_type": "markdown",
   "metadata": {},
   "source": [
    "### Question 7:\n",
    "#### Que pouvez-vous en déduire sur la pertinence des variables 'Day' et 'Month' (considérées séparément) ?"
   ]
  },
  {
   "cell_type": "markdown",
   "metadata": {},
   "source": [
    "On remarque que 0 appartient à l'intervalle de confiance à 99% de 'Day' et 'Month'.\n",
    "On a donc une confiance de 99% sur le fait que 0 appartienne à ces intervalles.\n",
    "Or, si l'estimateur des moindres carrés d'un coefficient du modéle a pour valeur 0, cela veut dire que le coefficient en question ne permet pas d'expliquer le modéle.\n",
    "On peut donc en déduire que, potentiellement, ces deux variables peuvent ne pas du tout expliquer la concentration en ozone.\n",
    "\n",
    "On remarque également que 0 appartient à l'intervalle de confiance de la variable 'Solar.R'. 'Solar.R' est donc dans un cas similaire.\n",
    "\n",
    "Il faut cependant relativiser nos résultats par le faible nombre d'observation à notre disposition (seulement 4 mois). En effet, lors de fortes températures, la concentration d'ozone augmente. Le jour du mois n'a donc, en effet, aucune incidence, mais le mois de l'année est corréllé à la température et aurait surement une importance plus forte avec un jeu de données plus important. "
   ]
  },
  {
   "cell_type": "markdown",
   "metadata": {},
   "source": [
    "### Question 8:\n",
    "#### On enregistre une nouvelle observation (Solar.R=197, Wind=10, Temp=70, Day=1, Month=3). Quelle est la prévision du modèle concernant la concentration en ozone ?"
   ]
  },
  {
   "cell_type": "code",
   "execution_count": 11,
   "metadata": {
    "collapsed": false
   },
   "outputs": [
    {
     "data": {
      "text/html": [
       "<div>\n",
       "<table border=\"1\" class=\"dataframe\">\n",
       "  <thead>\n",
       "    <tr style=\"text-align: right;\">\n",
       "      <th></th>\n",
       "      <th>Resultat</th>\n",
       "    </tr>\n",
       "  </thead>\n",
       "  <tbody>\n",
       "    <tr>\n",
       "      <th>Prediction Variable Ozone</th>\n",
       "      <td>36.462338</td>\n",
       "    </tr>\n",
       "  </tbody>\n",
       "</table>\n",
       "</div>"
      ],
      "text/plain": [
       "                            Resultat\n",
       "Prediction Variable Ozone  36.462338"
      ]
     },
     "execution_count": 11,
     "metadata": {},
     "output_type": "execute_result"
    }
   ],
   "source": [
    "X_new = np.array([197., 10., 70., 3., 1.])\n",
    "X_new_scaled = (X_new-mean(Explanatory_x))/std(Explanatory_x)\n",
    "prediction_Ozone = regr_toOzone.predict(X_new_scaled)\n",
    "prediction_Ozone_DataFrame = pd.DataFrame([prediction_Ozone], index=[\n",
    "    'Prediction Variable Ozone'], columns=['Resultat'])\n",
    "prediction_Ozone_DataFrame.head()\n"
   ]
  },
  {
   "cell_type": "markdown",
   "metadata": {},
   "source": [
    "## ${\\color{red} {Exercice\\:2\\:(Intervalle\\:de\\:confiance\\:et\\:bootstrap)}}$"
   ]
  },
  {
   "cell_type": "markdown",
   "metadata": {},
   "source": [
    "### Question 1:\n",
    "#### Calculer les estimateurs des coefficients obtenus par une moyenne, puis par une médiane sur les échantillons bootstrap."
   ]
  },
  {
   "cell_type": "code",
   "execution_count": 12,
   "metadata": {
    "collapsed": false,
    "scrolled": true
   },
   "outputs": [],
   "source": [
    "# Definition d'une fonction Bootstrap qui permet de faire \n",
    "# varier le nombre d'operations a effectuer.\n",
    "\n",
    "\n",
    "def Bootstrap(NbBoostrap):\n",
    "    regr_toOzone_BS_Coef = []\n",
    "    regr_toOzone_BS_Intercept = []\n",
    "    for i in range(0, NbBoostrap):\n",
    "        data_sample = utils.resample(data_clean)\n",
    "        Ozone_y_BS = data_sample['Ozone']\n",
    "        # On selectionne toutes les colonnes sauf la colonne Ozone\n",
    "        Explanatory_x_BS = data_sample.drop(['Ozone'], axis=1)\n",
    "        Explanatory_x_BS_scaled = preprocessing.scale(\n",
    "            Explanatory_x_BS)\n",
    "        regr_toOzone_BS = regr_toOzone.fit(Explanatory_x_BS_scaled, Ozone_y_BS)\n",
    "        regr_toOzone_BS_Coef.append(regr_toOzone_BS.coef_)\n",
    "        regr_toOzone_BS_Intercept.append(regr_toOzone_BS.intercept_)\n",
    "    return regr_toOzone_BS_Coef, regr_toOzone_BS_Intercept\n"
   ]
  },
  {
   "cell_type": "code",
   "execution_count": 13,
   "metadata": {
    "collapsed": false
   },
   "outputs": [],
   "source": [
    "NbBoostrap = 10000\n",
    "\n",
    "regr_toOzone_BS_Coef,\\\n",
    "    regr_toOzone_BS_Intercept = Bootstrap(NbBoostrap)\n",
    "    \n",
    "regr_toOzone_BS_Coef_DF = pd.DataFrame(regr_toOzone_BS_Coef,\n",
    "                                       columns=ExplanatoryRows)\n",
    "mean_regr_toOzone_BS_Coef = mean(regr_toOzone_BS_Coef_DF)\n",
    "mean_regr_toOzone_BS_Intercept = mean(regr_toOzone_BS_Intercept)\n",
    "median_regr_toOzone_BS_Coef = (regr_toOzone_BS_Coef_DF).median()\n",
    "median_regr_toOzone_BS_Intercept = median(regr_toOzone_BS_Intercept)\n"
   ]
  },
  {
   "cell_type": "code",
   "execution_count": 14,
   "metadata": {
    "collapsed": false
   },
   "outputs": [
    {
     "data": {
      "text/html": [
       "<div>\n",
       "<table border=\"1\" class=\"dataframe\">\n",
       "  <thead>\n",
       "    <tr style=\"text-align: right;\">\n",
       "      <th></th>\n",
       "      <th>Moyenne des coefficents avec Bootstrap</th>\n",
       "    </tr>\n",
       "  </thead>\n",
       "  <tbody>\n",
       "    <tr>\n",
       "      <th>Intercept</th>\n",
       "      <td>42.151787</td>\n",
       "    </tr>\n",
       "    <tr>\n",
       "      <th>Solar.R</th>\n",
       "      <td>4.576620</td>\n",
       "    </tr>\n",
       "    <tr>\n",
       "      <th>Wind</th>\n",
       "      <td>-11.814591</td>\n",
       "    </tr>\n",
       "    <tr>\n",
       "      <th>Temp</th>\n",
       "      <td>17.909470</td>\n",
       "    </tr>\n",
       "    <tr>\n",
       "      <th>Month</th>\n",
       "      <td>-4.422848</td>\n",
       "    </tr>\n",
       "    <tr>\n",
       "      <th>Day</th>\n",
       "      <td>2.341864</td>\n",
       "    </tr>\n",
       "  </tbody>\n",
       "</table>\n",
       "</div>"
      ],
      "text/plain": [
       "           Moyenne des coefficents avec Bootstrap\n",
       "Intercept                               42.151787\n",
       "Solar.R                                  4.576620\n",
       "Wind                                   -11.814591\n",
       "Temp                                    17.909470\n",
       "Month                                   -4.422848\n",
       "Day                                      2.341864"
      ]
     },
     "execution_count": 14,
     "metadata": {},
     "output_type": "execute_result"
    }
   ],
   "source": [
    "# Mise en forme\n",
    "regr_toOzone_BS_Mean_Result_DF = MiseEnForme(\n",
    "    mean_regr_toOzone_BS_Intercept, mean_regr_toOzone_BS_Coef,\n",
    "    'Moyenne des coefficents avec Bootstrap', AllRows)\n",
    "# Affichage\n",
    "regr_toOzone_BS_Mean_Result_DF.head(6)\n"
   ]
  },
  {
   "cell_type": "code",
   "execution_count": 15,
   "metadata": {
    "collapsed": false
   },
   "outputs": [
    {
     "data": {
      "text/html": [
       "<div>\n",
       "<table border=\"1\" class=\"dataframe\">\n",
       "  <thead>\n",
       "    <tr style=\"text-align: right;\">\n",
       "      <th></th>\n",
       "      <th>Mediane des coefficents avec Bootstrap</th>\n",
       "    </tr>\n",
       "  </thead>\n",
       "  <tbody>\n",
       "    <tr>\n",
       "      <th>Intercept</th>\n",
       "      <td>42.126126</td>\n",
       "    </tr>\n",
       "    <tr>\n",
       "      <th>Solar.R</th>\n",
       "      <td>4.546428</td>\n",
       "    </tr>\n",
       "    <tr>\n",
       "      <th>Wind</th>\n",
       "      <td>-11.683607</td>\n",
       "    </tr>\n",
       "    <tr>\n",
       "      <th>Temp</th>\n",
       "      <td>17.932869</td>\n",
       "    </tr>\n",
       "    <tr>\n",
       "      <th>Month</th>\n",
       "      <td>-4.415282</td>\n",
       "    </tr>\n",
       "    <tr>\n",
       "      <th>Day</th>\n",
       "      <td>2.311763</td>\n",
       "    </tr>\n",
       "  </tbody>\n",
       "</table>\n",
       "</div>"
      ],
      "text/plain": [
       "           Mediane des coefficents avec Bootstrap\n",
       "Intercept                               42.126126\n",
       "Solar.R                                  4.546428\n",
       "Wind                                   -11.683607\n",
       "Temp                                    17.932869\n",
       "Month                                   -4.415282\n",
       "Day                                      2.311763"
      ]
     },
     "execution_count": 15,
     "metadata": {},
     "output_type": "execute_result"
    }
   ],
   "source": [
    "# Mise en forme\n",
    "regr_toOzone_BS_Median_Result_DF = MiseEnForme(\n",
    "    median_regr_toOzone_BS_Intercept, median_regr_toOzone_BS_Coef,\n",
    "    'Mediane des coefficents avec Bootstrap', AllRows)\n",
    "# Affichage\n",
    "regr_toOzone_BS_Median_Result_DF.head(6)\n"
   ]
  },
  {
   "cell_type": "markdown",
   "metadata": {},
   "source": [
    "#### Comparer les avec ceux obtenus avec la méthode de régression classique."
   ]
  },
  {
   "cell_type": "code",
   "execution_count": 16,
   "metadata": {
    "collapsed": false
   },
   "outputs": [
    {
     "data": {
      "text/html": [
       "<div>\n",
       "<table border=\"1\" class=\"dataframe\">\n",
       "  <thead>\n",
       "    <tr style=\"text-align: right;\">\n",
       "      <th></th>\n",
       "      <th>Coefficients avec la methode de la regression classique</th>\n",
       "    </tr>\n",
       "  </thead>\n",
       "  <tbody>\n",
       "    <tr>\n",
       "      <th>Intercept</th>\n",
       "      <td>42.099099</td>\n",
       "    </tr>\n",
       "    <tr>\n",
       "      <th>Solar.R</th>\n",
       "      <td>4.561931</td>\n",
       "    </tr>\n",
       "    <tr>\n",
       "      <th>Wind</th>\n",
       "      <td>-11.752771</td>\n",
       "    </tr>\n",
       "    <tr>\n",
       "      <th>Temp</th>\n",
       "      <td>17.985220</td>\n",
       "    </tr>\n",
       "    <tr>\n",
       "      <th>Month</th>\n",
       "      <td>-4.458953</td>\n",
       "    </tr>\n",
       "    <tr>\n",
       "      <th>Day</th>\n",
       "      <td>2.373939</td>\n",
       "    </tr>\n",
       "  </tbody>\n",
       "</table>\n",
       "</div>"
      ],
      "text/plain": [
       "           Coefficients avec la methode de la regression classique\n",
       "Intercept                                          42.099099      \n",
       "Solar.R                                             4.561931      \n",
       "Wind                                              -11.752771      \n",
       "Temp                                               17.985220      \n",
       "Month                                              -4.458953      \n",
       "Day                                                 2.373939      "
      ]
     },
     "execution_count": 16,
     "metadata": {},
     "output_type": "execute_result"
    }
   ],
   "source": [
    "# Affichage\n",
    "regr_toOzone_Result_DF.columns = [\n",
    "    'Coefficients avec la methode de la regression classique']\n",
    "regr_toOzone_Result_DF.head(6)\n"
   ]
  },
  {
   "cell_type": "markdown",
   "metadata": {},
   "source": [
    "On remarque que la moyenne et la médiane des résultats, obtenues par la méthode du Bootstrap sont légérement inférieures à nos résultats obtenus avec la méthode classique. "
   ]
  },
  {
   "cell_type": "markdown",
   "metadata": {},
   "source": [
    "### Question 2:\n",
    "#### Calculer un intervalle de confiance de niveau 99%, en utilisant les quantiles empiriques de niveau 99.5% et 0.5% des échantillons bootstrap."
   ]
  },
  {
   "cell_type": "code",
   "execution_count": 17,
   "metadata": {
    "collapsed": false
   },
   "outputs": [
    {
     "data": {
      "text/html": [
       "<div>\n",
       "<table border=\"1\" class=\"dataframe\">\n",
       "  <thead>\n",
       "    <tr style=\"text-align: right;\">\n",
       "      <th></th>\n",
       "      <th>Borne Inferieure avec BootStrap</th>\n",
       "      <th>Borne Superieure avec BootStrap</th>\n",
       "    </tr>\n",
       "  </thead>\n",
       "  <tbody>\n",
       "    <tr>\n",
       "      <th>Intercept</th>\n",
       "      <td>34.630631</td>\n",
       "      <td>50.756757</td>\n",
       "    </tr>\n",
       "    <tr>\n",
       "      <th>Solar.R</th>\n",
       "      <td>0.065077</td>\n",
       "      <td>9.395224</td>\n",
       "    </tr>\n",
       "    <tr>\n",
       "      <th>Wind</th>\n",
       "      <td>-20.074366</td>\n",
       "      <td>-4.958885</td>\n",
       "    </tr>\n",
       "    <tr>\n",
       "      <th>Temp</th>\n",
       "      <td>11.983273</td>\n",
       "      <td>23.936841</td>\n",
       "    </tr>\n",
       "    <tr>\n",
       "      <th>Month</th>\n",
       "      <td>-9.500324</td>\n",
       "      <td>0.666816</td>\n",
       "    </tr>\n",
       "    <tr>\n",
       "      <th>Day</th>\n",
       "      <td>-3.173168</td>\n",
       "      <td>7.684612</td>\n",
       "    </tr>\n",
       "  </tbody>\n",
       "</table>\n",
       "</div>"
      ],
      "text/plain": [
       "           Borne Inferieure avec BootStrap  Borne Superieure avec BootStrap\n",
       "Intercept                        34.630631                        50.756757\n",
       "Solar.R                           0.065077                         9.395224\n",
       "Wind                            -20.074366                        -4.958885\n",
       "Temp                             11.983273                        23.936841\n",
       "Month                            -9.500324                         0.666816\n",
       "Day                              -3.173168                         7.684612"
      ]
     },
     "execution_count": 17,
     "metadata": {},
     "output_type": "execute_result"
    }
   ],
   "source": [
    "def IC_BootStrap(NameColumn, level):\n",
    "    if NameColumn == 'Intercept':\n",
    "        regr = pd.DataFrame(regr_toOzone_BS_Intercept, columns=['Intercept'])\n",
    "    else:\n",
    "        regr = pd.DataFrame(regr_toOzone_BS_Coef, columns=NameColumns)\n",
    "    regr_sort = regr.sort_values([NameColumn])\n",
    "    # Recuperation de la taille de l'echantillon Bootstrap dans la variable NB\n",
    "    NbBS = shape(regr_sort)[0]\n",
    "\n",
    "    LevelQuantileInf = int((level / 100.0) * NbBS)\n",
    "\n",
    "    LevelQuantileSup = int(((100.0 - level) / 100.0) * NbBS)\n",
    "    regr_Array = np.array(regr_sort[NameColumn])\n",
    "    return regr_Array[LevelQuantileInf],\\\n",
    "        regr_Array[LevelQuantileSup]\n",
    "\n",
    "NameColumns = ['Solar.R', 'Wind', 'Temp', 'Month', 'Day']\n",
    "ListIC_BS = []\n",
    "\n",
    "for column in AllColumns:\n",
    "    ICInf_BS, ICSup_BS = IC_BootStrap(column, .5)\n",
    "    ListIC_BS.append(([ICInf_BS, ICSup_BS]))\n",
    "\n",
    "ListIC_BS_DF = pd.DataFrame(ListIC_BS, columns=[\n",
    "    'Borne Inferieure avec BootStrap', 'Borne Superieure avec BootStrap'])\n",
    "ListIC_BS_DF.index = AllColumns\n",
    "ListIC_BS_DF.head(6)\n"
   ]
  },
  {
   "cell_type": "markdown",
   "metadata": {},
   "source": [
    "### Question 3:\n",
    "#### Afficher sur un graphe les deux courbes (en pointillés noirs) donnant les bornes inférieures et supérieures (des intervalles de confiance) pour la variable 'Wind', et ce en fonction du paramètre B. On ajoutera en trait plein la courbe des estimés par la médiane bootstrap de ce même coefficient. On fera varier B de 1 à 5001 par saut de 500."
   ]
  },
  {
   "cell_type": "code",
   "execution_count": 18,
   "metadata": {
    "collapsed": false
   },
   "outputs": [],
   "source": [
    "icInf_BS_Wind_Array = []\n",
    "icSup_BS_Wind_Array = []\n",
    "median_BS_Wind = []\n",
    "for STEP_ in arange(1, 5002, 500):\n",
    "    # On met volontairement les mêmes noms de variable que\n",
    "    # precedement pour utiliser IC_BootStrap\n",
    "    regr_toOzone_BS_Coef, \\\n",
    "        regr_toOzone_BS_Intercept = Bootstrap(STEP_)\n",
    "    regr_toOzone_BS_Coef_DF = \\\n",
    "        pd.DataFrame(regr_toOzone_BS_Coef, columns=NameColumns)\n",
    "\n",
    "    median_regr_toOzone_BS_Coef = \\\n",
    "        (regr_toOzone_BS_Coef_DF)['Wind'].median()\n",
    "    # Le pas est recupere automatiquement dans la fonction IC_Bootstrap\n",
    "    icInf_BS_Wind, icSup_BS_Wind = IC_BootStrap('Wind', 0.5)\n",
    "    median_BS_Wind.append(median_regr_toOzone_BS_Coef)\n",
    "\n",
    "    icInf_BS_Wind_Array.append(icInf_BS_Wind)\n",
    "    icSup_BS_Wind_Array.append(icSup_BS_Wind)\n"
   ]
  },
  {
   "cell_type": "code",
   "execution_count": 19,
   "metadata": {
    "collapsed": false
   },
   "outputs": [
    {
     "data": {
      "text/plain": [
       "[<matplotlib.lines.Line2D at 0x10bd84790>]"
      ]
     },
     "execution_count": 19,
     "metadata": {},
     "output_type": "execute_result"
    },
    {
     "data": {
      "image/png": "[encoded data removed]",
      "text/plain": [
       "<matplotlib.figure.Figure at 0x10b9a4690>"
      ]
     },
     "metadata": {},
     "output_type": "display_data"
    }
   ],
   "source": [
    "xlabels = 'Nombre de Bootstrap'\n",
    "ylabels = 'Coefficient de Regression'\n",
    "fig, ax = plt.subplots(figsize=(10, 8))\n",
    "labels = arange(0, 6000, 1000)\n",
    "plt.xlabel(xlabels)\n",
    "plt.ylabel(ylabels)\n",
    "ax.set_xticklabels(labels)\n",
    "plt.title('Impact du Nb de Bootstrap sur le Coefficient de Regression Wind')\n",
    "plt.plot(median_BS_Wind, label=\"Mediane de Wind\")\n",
    "plt.plot(icInf_BS_Wind_Array, label=\"Borne Inferieure de l'IC de Wind\",\n",
    "         color='black', linestyle=\"--\")\n",
    "plt.plot(icSup_BS_Wind_Array, label=\"Borne Superieure de l'IC de Wind\",\n",
    "         color='black', linestyle=\":\")\n"
   ]
  },
  {
   "cell_type": "markdown",
   "metadata": {},
   "source": [
    "### Question 4:\n",
    "#### Afficher sur un seul graphique les points et les droites de régression correspondant à faire une régression de la variable 'Ozone' sur 'Wind' mois par mois. Quel mois semble atypique ?"
   ]
  },
  {
   "cell_type": "code",
   "execution_count": 20,
   "metadata": {
    "collapsed": false
   },
   "outputs": [
    {
     "name": "stderr",
     "output_type": "stream",
     "text": [
      "/Users/williambenhaim/anaconda/lib/python2.7/site-packages/matplotlib/collections.py:590: FutureWarning: elementwise comparison failed; returning scalar instead, but in the future will perform elementwise comparison\n",
      "  if self._edgecolors == str('face'):\n"
     ]
    },
    {
     "data": {
      "text/plain": [
       "<seaborn.axisgrid.FacetGrid at 0x10b92ac10>"
      ]
     },
     "execution_count": 20,
     "metadata": {},
     "output_type": "execute_result"
    },
    {
     "data": {
      "image/png": "[encoded data removed]",
      "text/plain": [
       "<matplotlib.figure.Figure at 0x10bd4db50>"
      ]
     },
     "metadata": {},
     "output_type": "display_data"
    }
   ],
   "source": [
    "sns.lmplot(x=\"Wind\", y=\"Ozone\", hue=\"Month\", data=data_clean, size=7)\n"
   ]
  },
  {
   "cell_type": "markdown",
   "metadata": {},
   "source": [
    "#### Quel mois semble atypique ?"
   ]
  },
  {
   "cell_type": "markdown",
   "metadata": {},
   "source": [
    "Le mois de juin (mois '6' en vert dans le graphe) semble atypique. En effet, alors que tous les autres mois ont une courbe décroissante, le mois de juin a une courbe croissante."
   ]
  },
  {
   "cell_type": "markdown",
   "metadata": {
    "collapsed": true
   },
   "source": [
    "## ${\\color{red} {Exercice\\:3\\:(Algorithmes\\:gloutons\\:ou\\:greedy)}}$"
   ]
  },
  {
   "cell_type": "markdown",
   "metadata": {},
   "source": [
    "### Question 1:\n",
    "#### Écrivez une fonction stpforward qui prend comme argument : les observations Y , la matrice X, et enfin un paramètre M qui est le nombre maximum de variables sélectionnées. En sortie, la fonction doit renvoyer la listes S des indices des variables sélectionnées et le vecteur ${\\theta} \\: \\epsilon  \\: \\mathbb{R}^p$ (dont les coordonnées sont nulles sauf les  ${\\theta}_j^*$ pour  ${j} \\: \\epsilon  \\: S$) correspondant à l’estimation des moindres carrés effectuée seulement sur les variables dont les indices sont dans S."
   ]
  },
  {
   "cell_type": "code",
   "execution_count": 21,
   "metadata": {
    "collapsed": false
   },
   "outputs": [
    {
     "name": "stdout",
     "output_type": "stream",
     "text": [
      "[  4.56193076 -11.75277084  17.98521995  -4.45895297   2.37393859]\n"
     ]
    }
   ],
   "source": [
    "def stpforward(Obs_Y, Mat_X_scaled, Param_M):\n",
    "    # Creation des variables\n",
    "    r = Obs_Y\n",
    "    S = []\n",
    "    # theta est le resultat de la fonction\n",
    "    theta = np.zeros([Mat_X_scaled.shape[1], ])\n",
    "    for i in range(Param_M):\n",
    "        theta_int = []\n",
    "        # Le complementaire de S\n",
    "        S_c = list(filter(lambda x: x not in S, range(Mat_X_scaled.shape[1])))\n",
    "        alpha = []\n",
    "        for j in S_c:\n",
    "            alpha.append(abs(np.dot(Mat_X_scaled[:, j], r)))\n",
    "        # indice du max des alpha\n",
    "        j_max = np.argmax(alpha)\n",
    "        S.append(S_c[j_max])\n",
    "        Mat_Xs = pd.DataFrame([])\n",
    "        for indice in S:\n",
    "            Mat_Xs_int = pd.DataFrame(Mat_X_scaled[:, indice])\n",
    "            Mat_Xs = pd.concat([Mat_Xs, Mat_Xs_int[0]], axis=1)\n",
    "        Regr = linear_model.LinearRegression(normalize=True)\n",
    "        Regr.fit(Mat_Xs, Obs_Y)\n",
    "        Regr_coef = Regr.coef_\n",
    "        theta_int = Regr_coef\n",
    "        Regr_intercept = Regr.intercept_\n",
    "        r = Obs_Y-np.dot(Mat_Xs, theta_int)\n",
    "    theta[S] = theta_int\n",
    "    return theta\n",
    "\n",
    "# Test de la fonction avec les donnees des questions precedentes\n",
    "print stpforward(Ozone_y, Explanatory_x_scaled_initial, 5)\n"
   ]
  },
  {
   "cell_type": "markdown",
   "metadata": {},
   "source": [
    "### Question 2:\n",
    "#### Créer une classe MYOMP qui implémente stpforward, en partant de l’exemple proposé ci- dessous."
   ]
  },
  {
   "cell_type": "code",
   "execution_count": 22,
   "metadata": {
    "collapsed": true
   },
   "outputs": [],
   "source": [
    "class MYOMP(LinearModel, RegressorMixin):\n",
    "\n",
    "    def __init__(self, n_nonzero_coefs=None, fit_intercept=True, normalize=True, precompute='auto'):\n",
    "        self.n_nonzero_coefs = n_nonzero_coefs\n",
    "        self.fit_intercept = fit_intercept\n",
    "        self.normalize = normalize\n",
    "        self.precompute = precompute\n",
    "\n",
    "    def fit(self, X, y, Param_M):\n",
    "        \"\"\"Fit the model using X, y as training data.\n",
    "        Parameters\n",
    "        ----------\n",
    "        X : array-like, shape (n_samples, n_features)\n",
    "        Training data.\n",
    "        y : array-like, shape (n_samples,) or (n_samples, n_targets)\n",
    "        Target values.\n",
    "        Returns\n",
    "        -------\n",
    "        self : object\n",
    "        returns an instance of self.\n",
    "        \"\"\"\n",
    "        X, y, X_mean, y_mean, X_std, Gram, Xy = _pre_fit(\n",
    "            X, y, None, self.precompute, self.normalize, self.fit_intercept, copy=True)\n",
    "        self.coef_ = stpforward(y, X, Param_M)\n",
    "        self._set_intercept(X_mean, y_mean, X_std)\n",
    "        return self\n"
   ]
  },
  {
   "cell_type": "code",
   "execution_count": 23,
   "metadata": {
    "collapsed": false
   },
   "outputs": [
    {
     "name": "stdout",
     "output_type": "stream",
     "text": [
      "coef: [  4.56193076 -11.75277084  17.98521995  -4.45895297   2.37393859]\n",
      "intercept: 42.0990990991\n"
     ]
    }
   ],
   "source": [
    "regr_MYOMP_test = MYOMP()\n",
    "regr_MYOMP_test.fit(Explanatory_x_scaled_initial, Ozone_y, 5)\n",
    "regr_MYOMP_test_coef = regr_MYOMP_test.coef_\n",
    "regr_MYOMP_test_Intercept = regr_MYOMP_test.intercept_\n",
    "print 'coef:', regr_MYOMP_test_coef\n",
    "print 'intercept:', regr_MYOMP_test_Intercept\n"
   ]
  },
  {
   "cell_type": "markdown",
   "metadata": {
    "collapsed": true
   },
   "source": [
    "### Question 3:\n",
    "#### Appliquer MYOMP au jeu de données airquality, pour M = 3, 4, 5."
   ]
  },
  {
   "cell_type": "code",
   "execution_count": 24,
   "metadata": {
    "collapsed": false
   },
   "outputs": [
    {
     "name": "stdout",
     "output_type": "stream",
     "text": [
      "coef: [  5.42816683 -11.80641781  15.67331326   0.           0.        ]\n",
      "intercept: 42.0990990991\n",
      "coef: [  4.50045463 -11.74591966  17.7488752   -4.38806519   0.        ]\n",
      "intercept: 42.0990990991\n",
      "coef: [  4.56193076 -11.75277084  17.98521995  -4.45895297   2.37393859]\n",
      "intercept: 42.0990990991\n"
     ]
    }
   ],
   "source": [
    "for M in range(3, 6):\n",
    "    regr_MYOMP = MYOMP()\n",
    "    regr_MYOMP.fit(Explanatory_x_scaled_initial, Ozone_y, M)\n",
    "    regr_MYOMP_coef = regr_MYOMP.coef_\n",
    "    regr_MYOMP_Intercept = regr_MYOMP.intercept_\n",
    "    print 'coef:', regr_MYOMP_coef\n",
    "    print 'intercept:', regr_MYOMP_Intercept\n"
   ]
  },
  {
   "cell_type": "markdown",
   "metadata": {},
   "source": [
    "### Question 4:\n",
    "#### Comparer votre sortie avec celle de OrthogonalMatchingPursuit de sklearn."
   ]
  },
  {
   "cell_type": "code",
   "execution_count": 25,
   "metadata": {
    "collapsed": false
   },
   "outputs": [
    {
     "name": "stdout",
     "output_type": "stream",
     "text": [
      "coef: [  5.42816683 -11.80641781  15.67331326   0.           0.        ]\n",
      "intercept: 42.0990990991\n",
      "coef: [  4.50045463 -11.74591966  17.7488752   -4.38806519   0.        ]\n",
      "intercept: 42.0990990991\n",
      "coef: [  4.56193076 -11.75277084  17.98521995  -4.45895297   2.37393859]\n",
      "intercept: 42.0990990991\n"
     ]
    }
   ],
   "source": [
    "for M in range(3, 6):\n",
    "    regr_OMP = sklearn.linear_model.OrthogonalMatchingPursuit(\n",
    "        n_nonzero_coefs=M)\n",
    "    regr_OMP.fit(Explanatory_x_scaled_initial, Ozone_y)\n",
    "    regr_OMP_coef = regr_OMP.coef_\n",
    "    regr_OMP_Intercept = regr_OMP.intercept_\n",
    "    print 'coef:', regr_OMP_coef\n",
    "    print 'intercept:', regr_OMP_Intercept\n",
    "\n",
    "    "
   ]
  },
  {
   "cell_type": "markdown",
   "metadata": {},
   "source": [
    "Les résultats que nous obtenons par les deux methodes sont strictement identiques, ce qui valide l'algorithme réalisé dans la question 1.\n",
    "De plus, 'Day' et 'Month' sont les premiére variables à être supprimées de notre algorithme, ce sont donc les variables qui expliquent le moins bien la concentration en ozone. Ceci confirme donc bien les résultats obtenus dans l'exercice 1 et valide donc la réponse à la question 7 de l'exercice 1. \n",
    "En executant une nouvelle fois l'algorithme, Scolar.R serait également supprimer, comme anticipé précédement."
   ]
  }
 ],
 "metadata": {
  "kernelspec": {
   "display_name": "Python 2",
   "language": "python",
   "name": "python2"
  },
  "language_info": {
   "codemirror_mode": {
    "name": "ipython",
    "version": 2
   },
   "file_extension": ".py",
   "mimetype": "text/x-python",
   "name": "python",
   "nbconvert_exporter": "python",
   "pygments_lexer": "ipython2",
   "version": "2.7.6"
  }
 },
 "nbformat": 4,
 "nbformat_minor": 0
}
