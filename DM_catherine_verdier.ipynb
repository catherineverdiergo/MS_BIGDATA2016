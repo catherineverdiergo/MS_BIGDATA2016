{
 "cells": [
  {
   "cell_type": "markdown",
   "metadata": {},
   "source": [
    "# MS BigData 2015/2016&nbsp;&nbsp;&nbsp;   Catherine Verdier"
   ]
  },
  {
   "cell_type": "code",
   "execution_count": 2,
   "metadata": {
    "collapsed": true
   },
   "outputs": [],
   "source": [
    "#\n",
    "# Importer les librairies nécessaires\n",
    "#\n",
    "import numpy as np\n",
    "import matplotlib.pyplot as plt  # for plots\n",
    "from sklearn import linear_model\n",
    "from matplotlib import rc\n",
    "import seaborn as sns\n",
    "import pandas as pd\n",
    "from sklearn import preprocessing\n",
    "from mpl_toolkits.mplot3d import Axes3D\n",
    "from IPython.display import display, Math, Latex\n",
    "import statsmodels.api as sm"
   ]
  },
  {
   "cell_type": "code",
   "execution_count": 3,
   "metadata": {
    "collapsed": true
   },
   "outputs": [],
   "source": [
    "#\n",
    "# Initialisation plots, latex, ...\n",
    "#\n",
    "rc('font', **{'family': 'sans-serif', 'sans-serif': ['Computer Modern Roman']})\n",
    "params = {'axes.labelsize': 12,\n",
    "          'text.fontsize': 12,\n",
    "          'legend.fontsize': 12,\n",
    "          'xtick.labelsize': 10,\n",
    "          'ytick.labelsize': 10,\n",
    "          'text.usetex': True,\n",
    "          'figure.figsize': (8, 6)}\n",
    "plt.rcParams.update(params)\n",
    "mc3my_brown = (0.64, 0.16, 0.16)\n",
    "purple = (148. / 255, 0, 211. / 255)\n",
    "\n",
    "##############################################################################\n",
    "# Scatter plot\n",
    "sns.set_style(\"white\")\n"
   ]
  },
  {
   "cell_type": "code",
   "execution_count": 4,
   "metadata": {
    "collapsed": false
   },
   "outputs": [
    {
     "name": "stdout",
     "output_type": "stream",
     "text": [
      "Populating the interactive namespace from numpy and matplotlib\n"
     ]
    },
    {
     "name": "stderr",
     "output_type": "stream",
     "text": [
      "WARNING: pylab import has clobbered these variables: ['rc']\n",
      "`%matplotlib` prevents importing * from pylab and numpy\n"
     ]
    }
   ],
   "source": [
    "%pylab inline"
   ]
  },
  {
   "cell_type": "markdown",
   "metadata": {},
   "source": [
    "# Exercice 1\n",
    "## Question 1\n",
    "On cherche à trouver un estimateur linéaire de la concentration en ozone à partir des variables suivantes :\n",
    "<ul>\n",
    "    <li>le rayonnement solaire</li>\n",
    "    <li>la force du vent</li>\n",
    "    <li>la température</li>\n",
    "    <li>la date de la mesure (correspondant à deux paramètres JJ et MM où JJ est le numéro du jour dans le<br>\n",
    "    mois et MM les numéro du mois dans l'année)</li> \n",
    "</ul>\n",
    "<br>\n",
    "On cherchera cet estimateur en utilisant la méthode des moindres carrés multi-dimentionnels:"
   ]
  },
  {
   "cell_type": "code",
   "execution_count": 5,
   "metadata": {
    "collapsed": false
   },
   "outputs": [
    {
     "data": {
      "text/latex": [
       "$$On~appelle~{y}_i,~la~valeur~de~la~concentration~en~ozone~pour~la~i^{ème}~observation$$"
      ],
      "text/plain": [
       "<IPython.core.display.Math object>"
      ]
     },
     "metadata": {},
     "output_type": "display_data"
    },
    {
     "data": {
      "text/latex": [
       "$$On~appelle~{x}_{ij},~le~paramètre~de~la~colonne~j~de~la~i^{ème}~observation$$"
      ],
      "text/plain": [
       "<IPython.core.display.Math object>"
      ]
     },
     "metadata": {},
     "output_type": "display_data"
    }
   ],
   "source": [
    "display(Math(r'$On~appelle~{y}_i,~la~valeur~de~la~concentration~en~ozone~pour~la~i^{ème}~observation$'))\n",
    "display(Math(r'$On~appelle~{x}_{ij},~le~paramètre~de~la~colonne~j~de~la~i^{ème}~observation$'))"
   ]
  },
  {
   "cell_type": "markdown",
   "metadata": {},
   "source": [
    "On supposera qu'on dispose de p variales explicatives, i.e. j varie de 1 à p<br>\n",
    "On supposera qu'on dispose de n observations, i.e. i varie de 1 à n<br>\n",
    "L'estimateur des moindres carrés s'exprime alors par:"
   ]
  },
  {
   "cell_type": "code",
   "execution_count": 6,
   "metadata": {
    "collapsed": false
   },
   "outputs": [
    {
     "data": {
      "text/latex": [
       "$$y_i = {\\theta}_0^{*} + \\sum_{j=1}^{p} {\\theta}_j^{*}x_{ij} + {\\epsilon}_i$$"
      ],
      "text/plain": [
       "<IPython.core.display.Math object>"
      ]
     },
     "metadata": {},
     "output_type": "display_data"
    },
    {
     "name": "stdout",
     "output_type": "stream",
     "text": [
      "avec:\n"
     ]
    },
    {
     "data": {
      "text/latex": [
       "$${\\epsilon}_i = {\\cal{N}}(0,{\\sigma}^2)~~~~~~~~~~ \\forall i = 1,...,n$$"
      ],
      "text/plain": [
       "<IPython.core.display.Math object>"
      ]
     },
     "metadata": {},
     "output_type": "display_data"
    }
   ],
   "source": [
    "display(Math(r'$y_i = {\\theta}_0^{*} + \\sum_{j=1}^{p} {\\theta}_j^{*}x_{ij} + {\\epsilon}_i$'))\n",
    "print(\"avec:\")\n",
    "display(Math(r'${\\epsilon}_i = {\\cal{N}}(0,{\\sigma}^2)~~~~~~~~~~ \\forall i = 1,...,n$'))\n"
   ]
  },
  {
   "cell_type": "markdown",
   "metadata": {},
   "source": [
    "## Question 2\n",
    "Récupération du jeu de données airquality"
   ]
  },
  {
   "cell_type": "code",
   "execution_count": 7,
   "metadata": {
    "collapsed": false
   },
   "outputs": [
    {
     "data": {
      "text/html": [
       "<div>\n",
       "<table border=\"1\" class=\"dataframe\">\n",
       "  <thead>\n",
       "    <tr style=\"text-align: right;\">\n",
       "      <th></th>\n",
       "      <th>Ozone</th>\n",
       "      <th>Solar.R</th>\n",
       "      <th>Wind</th>\n",
       "      <th>Temp</th>\n",
       "      <th>Month</th>\n",
       "      <th>Day</th>\n",
       "    </tr>\n",
       "  </thead>\n",
       "  <tbody>\n",
       "    <tr>\n",
       "      <th>0</th>\n",
       "      <td>41</td>\n",
       "      <td>190</td>\n",
       "      <td>7.4</td>\n",
       "      <td>67</td>\n",
       "      <td>5</td>\n",
       "      <td>1</td>\n",
       "    </tr>\n",
       "    <tr>\n",
       "      <th>1</th>\n",
       "      <td>36</td>\n",
       "      <td>118</td>\n",
       "      <td>8.0</td>\n",
       "      <td>72</td>\n",
       "      <td>5</td>\n",
       "      <td>2</td>\n",
       "    </tr>\n",
       "    <tr>\n",
       "      <th>2</th>\n",
       "      <td>12</td>\n",
       "      <td>149</td>\n",
       "      <td>12.6</td>\n",
       "      <td>74</td>\n",
       "      <td>5</td>\n",
       "      <td>3</td>\n",
       "    </tr>\n",
       "    <tr>\n",
       "      <th>3</th>\n",
       "      <td>18</td>\n",
       "      <td>313</td>\n",
       "      <td>11.5</td>\n",
       "      <td>62</td>\n",
       "      <td>5</td>\n",
       "      <td>4</td>\n",
       "    </tr>\n",
       "    <tr>\n",
       "      <th>4</th>\n",
       "      <td>NaN</td>\n",
       "      <td>NaN</td>\n",
       "      <td>14.3</td>\n",
       "      <td>56</td>\n",
       "      <td>5</td>\n",
       "      <td>5</td>\n",
       "    </tr>\n",
       "  </tbody>\n",
       "</table>\n",
       "</div>"
      ],
      "text/plain": [
       "   Ozone  Solar.R  Wind  Temp  Month  Day\n",
       "0     41      190   7.4    67      5    1\n",
       "1     36      118   8.0    72      5    2\n",
       "2     12      149  12.6    74      5    3\n",
       "3     18      313  11.5    62      5    4\n",
       "4    NaN      NaN  14.3    56      5    5"
      ]
     },
     "execution_count": 7,
     "metadata": {},
     "output_type": "execute_result"
    }
   ],
   "source": [
    "aq_data = sm.datasets.get_rdataset('airquality').data\n",
    "aq_data.head()"
   ]
  },
  {
   "cell_type": "code",
   "execution_count": 8,
   "metadata": {
    "collapsed": false
   },
   "outputs": [
    {
     "name": "stdout",
     "output_type": "stream",
     "text": [
      "Nombre d'observations :153\n"
     ]
    }
   ],
   "source": [
    "print(\"Nombre d'observations :\"+str(len(aq_data)))"
   ]
  },
  {
   "cell_type": "markdown",
   "metadata": {},
   "source": [
    "## Question 3\n",
    "Elimination des lignes contenant des valeurs non définies"
   ]
  },
  {
   "cell_type": "code",
   "execution_count": 9,
   "metadata": {
    "collapsed": false
   },
   "outputs": [
    {
     "data": {
      "text/html": [
       "<div>\n",
       "<table border=\"1\" class=\"dataframe\">\n",
       "  <thead>\n",
       "    <tr style=\"text-align: right;\">\n",
       "      <th></th>\n",
       "      <th>Ozone</th>\n",
       "      <th>Solar.R</th>\n",
       "      <th>Wind</th>\n",
       "      <th>Temp</th>\n",
       "      <th>Month</th>\n",
       "      <th>Day</th>\n",
       "    </tr>\n",
       "  </thead>\n",
       "  <tbody>\n",
       "    <tr>\n",
       "      <th>0</th>\n",
       "      <td>41</td>\n",
       "      <td>190</td>\n",
       "      <td>7.4</td>\n",
       "      <td>67</td>\n",
       "      <td>5</td>\n",
       "      <td>1</td>\n",
       "    </tr>\n",
       "    <tr>\n",
       "      <th>1</th>\n",
       "      <td>36</td>\n",
       "      <td>118</td>\n",
       "      <td>8.0</td>\n",
       "      <td>72</td>\n",
       "      <td>5</td>\n",
       "      <td>2</td>\n",
       "    </tr>\n",
       "    <tr>\n",
       "      <th>2</th>\n",
       "      <td>12</td>\n",
       "      <td>149</td>\n",
       "      <td>12.6</td>\n",
       "      <td>74</td>\n",
       "      <td>5</td>\n",
       "      <td>3</td>\n",
       "    </tr>\n",
       "    <tr>\n",
       "      <th>3</th>\n",
       "      <td>18</td>\n",
       "      <td>313</td>\n",
       "      <td>11.5</td>\n",
       "      <td>62</td>\n",
       "      <td>5</td>\n",
       "      <td>4</td>\n",
       "    </tr>\n",
       "    <tr>\n",
       "      <th>6</th>\n",
       "      <td>23</td>\n",
       "      <td>299</td>\n",
       "      <td>8.6</td>\n",
       "      <td>65</td>\n",
       "      <td>5</td>\n",
       "      <td>7</td>\n",
       "    </tr>\n",
       "  </tbody>\n",
       "</table>\n",
       "</div>"
      ],
      "text/plain": [
       "   Ozone  Solar.R  Wind  Temp  Month  Day\n",
       "0     41      190   7.4    67      5    1\n",
       "1     36      118   8.0    72      5    2\n",
       "2     12      149  12.6    74      5    3\n",
       "3     18      313  11.5    62      5    4\n",
       "6     23      299   8.6    65      5    7"
      ]
     },
     "execution_count": 9,
     "metadata": {},
     "output_type": "execute_result"
    }
   ],
   "source": [
    "aq_data = aq_data.dropna()\n",
    "aq_data.head()"
   ]
  },
  {
   "cell_type": "code",
   "execution_count": 10,
   "metadata": {
    "collapsed": false
   },
   "outputs": [
    {
     "name": "stdout",
     "output_type": "stream",
     "text": [
      "Nombre d'observations :111\n"
     ]
    }
   ],
   "source": [
    "print(\"Nombre d'observations :\"+str(len(aq_data)))"
   ]
  },
  {
   "cell_type": "markdown",
   "metadata": {},
   "source": [
    "## Question 4"
   ]
  },
  {
   "cell_type": "code",
   "execution_count": 24,
   "metadata": {
    "collapsed": false
   },
   "outputs": [
    {
     "data": {
      "text/plain": [
       "LinearRegression(copy_X=True, fit_intercept=True, n_jobs=1, normalize=False)"
      ]
     },
     "execution_count": 24,
     "metadata": {},
     "output_type": "execute_result"
    }
   ],
   "source": [
    "#\n",
    "# Définir notre matrice X et notre vecteur y définis à la question 1\n",
    "#\n",
    "X = aq_data[['Solar.R', 'Wind', 'Temp', 'Month', 'Day']]\n",
    "y = aq_data['Ozone']\n",
    "#\n",
    "# Centrer/réduire les variables explicatives\n",
    "#\n",
    "X_mean = np.mean(X)\n",
    "X_std = np.std(X)\n",
    "Xcr = (X - X_mean)/X_std\n",
    "Xcr.head()\n",
    "#\n",
    "# Calcul des paramètres de l'estimateur des moindres carrés avec scikit learn\n",
    "#\n",
    "skl_aq_data_ozone = linear_model.LinearRegression()\n",
    "skl_aq_data_ozone.fit(Xcr, y)"
   ]
  },
  {
   "cell_type": "markdown",
   "metadata": {},
   "source": [
    "## Question 5\n",
    "Paramètres du modèle linéaire trouvés avec scikit learn"
   ]
  },
  {
   "cell_type": "code",
   "execution_count": 12,
   "metadata": {
    "collapsed": false
   },
   "outputs": [
    {
     "name": "stdout",
     "output_type": "stream",
     "text": [
      "[ 42.0990991    4.56193076 -11.75277084  17.98521995  -4.45895297\n",
      "   2.37393859]\n"
     ]
    }
   ],
   "source": [
    "theta0 = np.array([skl_aq_data_ozone.intercept_])\n",
    "theta = np.concatenate((theta0,skl_aq_data_ozone.coef_),axis=0)\n",
    "print theta"
   ]
  },
  {
   "cell_type": "code",
   "execution_count": 13,
   "metadata": {
    "collapsed": false
   },
   "outputs": [
    {
     "data": {
      "text/latex": [
       "$$\\widehat\\theta = \\begin{bmatrix}42.0990990991\\\\4.56193075918\\\\-11.7527708448\\\\17.9852199495\\\\-4.45895296698\\\\2.37393858761\\end{bmatrix}$$"
      ],
      "text/plain": [
       "<IPython.core.display.Math object>"
      ]
     },
     "metadata": {},
     "output_type": "display_data"
    }
   ],
   "source": [
    "display(Math(r'$\\widehat\\theta = \\begin{bmatrix}'+r'{0}'.format(theta[0])+r'\\\\{0}'.format(theta[1])+r'\\\\{0}'.format(theta[2])+r'\\\\{0}'.format(theta[3])+r'\\\\{0}'.format(theta[4])+r'\\\\{0}'.format(theta[5])+r'\\end{bmatrix}$'))"
   ]
  },
  {
   "cell_type": "markdown",
   "metadata": {},
   "source": [
    "Formule théorique permettant d'obtenir un estimateur sans biais de la variance du bruit:"
   ]
  },
  {
   "cell_type": "code",
   "execution_count": 14,
   "metadata": {
    "collapsed": false
   },
   "outputs": [
    {
     "data": {
      "text/latex": [
       "$$Var({\\epsilon}_i)\\approx{\\widehat\\sigma}^2 = \\frac{{\\left \\| y - X{\\widehat\\theta} \\right \\|}^2_2}{n-rg(X)}~~~~~~~~ \\forall i = 1,...,n$$"
      ],
      "text/plain": [
       "<IPython.core.display.Math object>"
      ]
     },
     "metadata": {},
     "output_type": "display_data"
    }
   ],
   "source": [
    "display(Math(r'$Var({\\epsilon}_i)\\approx{\\widehat\\sigma}^2 = \\frac{{\\left \\| y - X{\\widehat\\theta} \\right \\|}^2_2}{n-rg(X)}~~~~~~~~ \\forall i = 1,...,n$'))"
   ]
  },
  {
   "cell_type": "markdown",
   "metadata": {},
   "source": [
    "Pour appliquer cette formule, on doit transformer la matrice X et lui ajouter une colonne de 1 pour prendre en compte le vecteur intercept $\\widehat\\theta_0$<br>\n",
    "X est ici une matrice $n$x$(p+1)$ avec $x_{i0}$ = 1 pour tout i variant de 1 à n"
   ]
  },
  {
   "cell_type": "code",
   "execution_count": 30,
   "metadata": {
    "collapsed": false,
    "scrolled": true
   },
   "outputs": [
    {
     "data": {
      "text/latex": [
       "$${\\widehat\\sigma}^2 ~~= 435.075494992$$"
      ],
      "text/plain": [
       "<IPython.core.display.Math object>"
      ]
     },
     "metadata": {},
     "output_type": "display_data"
    },
    {
     "data": {
      "text/latex": [
       "$${\\widehat\\sigma}^2_{skl} = 435.075494992$$"
      ],
      "text/plain": [
       "<IPython.core.display.Math object>"
      ]
     },
     "metadata": {},
     "output_type": "display_data"
    }
   ],
   "source": [
    "#\n",
    "# Calcul de l'estimateur de la variance du bruit\n",
    "#\n",
    "\n",
    "theta = np.array(theta,float)\n",
    "# On peut appliquer la formule matricielle avec une matrice X_plus ([1_n]+X)\n",
    "# Dans le cas considéré, on peut se permettre de calculer explicitement cette\n",
    "# matrice car le volume des données est faible\n",
    "# Si on opère sur une matrice à grande dimension, on se contentera d'ajouter 1\n",
    "# au rang de la matrice initiale\n",
    "X_plus = Xcr.copy()\n",
    "if not 'Cst' in X_plus:\n",
    "    X_plus.insert(0,'Cst',np.ones(X_plus.shape[0]))\n",
    "sigma2 = (((y-np.dot(X_plus,theta.T))**2).sum())/(len(aq_data)-np.linalg.matrix_rank(X_plus))\n",
    "display(Math(r'${\\widehat\\sigma}^2 ~~= '+r'{0}$'.format(sigma2)))\n",
    "\n",
    "# On peut aussi calculer cette variance avec la fonction predict de sklearn\n",
    "y_hat = skl_aq_data_ozone.predict(Xcr)\n",
    "sigma2predict = ((((y-y_hat)**2).sum()))/(len(aq_data)-np.linalg.matrix_rank(X_plus))\n",
    "display(Math(r'${\\widehat\\sigma}^2_{skl} = '+r'{0}$'.format(sigma2predict)))"
   ]
  },
  {
   "cell_type": "markdown",
   "metadata": {
    "collapsed": true
   },
   "source": [
    "## Question 6\n",
    "TODO"
   ]
  },
  {
   "cell_type": "markdown",
   "metadata": {},
   "source": [
    "## Question 7\n",
    "TODO"
   ]
  },
  {
   "cell_type": "markdown",
   "metadata": {},
   "source": [
    "## Question 8"
   ]
  },
  {
   "cell_type": "code",
   "execution_count": 29,
   "metadata": {
    "collapsed": false
   },
   "outputs": [
    {
     "name": "stdout",
     "output_type": "stream",
     "text": [
      "Avec les entrées suivantes:\n",
      "Solar.R    0.134429\n",
      "Wind       0.017043\n",
      "Temp      -0.821423\n",
      "Month     -4.237997\n",
      "Day       -1.493553\n",
      "dtype: float64\n",
      "\n",
      "Notre modèle prédit la concentration en ozone :\n",
      "[ 43.09000619]\n"
     ]
    }
   ],
   "source": [
    "#\n",
    "# Creation d'une nouvelle entrée\n",
    "#\n",
    "X_new = np.array([197., 10., 70., 1., 3.])\n",
    "# centrer/réduire X_new avec moyenne et écart-type du dataset de fitting\n",
    "X_new = (X_new-X_mean)/X_std\n",
    "# Calcul de l'image de X_new \n",
    "y_new_hat = skl_aq_data_ozone.predict(X_new)\n",
    "print(\"Avec les entrées suivantes:\")\n",
    "print(X_new)\n",
    "print\n",
    "print(\"Notre modèle prédit la concentration en ozone :\")\n",
    "print(y_new_hat)"
   ]
  },
  {
   "cell_type": "code",
   "execution_count": null,
   "metadata": {
    "collapsed": true
   },
   "outputs": [],
   "source": []
  }
 ],
 "metadata": {
  "kernelspec": {
   "display_name": "Python 2",
   "language": "python",
   "name": "python2"
  },
  "language_info": {
   "codemirror_mode": {
    "name": "ipython",
    "version": 2
   },
   "file_extension": ".py",
   "mimetype": "text/x-python",
   "name": "python",
   "nbconvert_exporter": "python",
   "pygments_lexer": "ipython2",
   "version": "2.7.6"
  }
 },
 "nbformat": 4,
 "nbformat_minor": 0
}
