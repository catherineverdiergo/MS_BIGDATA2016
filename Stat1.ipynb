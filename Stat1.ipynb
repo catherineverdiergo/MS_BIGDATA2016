{
 "cells": [
  {
   "cell_type": "markdown",
   "metadata": {},
   "source": [
    "# Plot initialisation"
   ]
  },
  {
   "cell_type": "code",
   "execution_count": 19,
   "metadata": {
    "collapsed": true
   },
   "outputs": [],
   "source": [
    "import numpy as np\n",
    "import matplotlib.pyplot as plt  # for plots\n",
    "from matplotlib import rc\n",
    "import seaborn as sns\n",
    "sns.set_style(\"white\")\n",
    "\n",
    "dirname = \"srcimages/\"\n",
    "imageformat = '.pdf'\n",
    "rc('font', **{'family': 'sans-serif', 'sans-serif': ['Computer Modern Roman']})\n",
    "params = {'axes.labelsize': 12,\n",
    "          'text.fontsize': 12,\n",
    "          'legend.fontsize': 12,\n",
    "          'xtick.labelsize': 10,\n",
    "          'ytick.labelsize': 10,\n",
    "          'text.usetex': True,\n",
    "          'figure.figsize': (8, 6)}\n",
    "plt.rcParams.update(params)\n",
    "mc3my_brown = (0.64, 0.16, 0.16)\n",
    "purple = (148. / 255, 0, 211. / 255)\n",
    "plt.close(\"all\")"
   ]
  },
  {
   "cell_type": "code",
   "execution_count": 20,
   "metadata": {
    "collapsed": false,
    "scrolled": true
   },
   "outputs": [
    {
     "name": "stdout",
     "output_type": "stream",
     "text": [
      "Populating the interactive namespace from numpy and matplotlib\n"
     ]
    },
    {
     "name": "stderr",
     "output_type": "stream",
     "text": [
      "WARNING: pylab import has clobbered these variables: ['rc']\n",
      "`%matplotlib` prevents importing * from pylab and numpy\n"
     ]
    }
   ],
   "source": [
    "%pylab inline"
   ]
  },
  {
   "cell_type": "markdown",
   "metadata": {},
   "source": [
    "## Empirical mean:"
   ]
  },
  {
   "cell_type": "code",
   "execution_count": 32,
   "metadata": {
    "collapsed": false
   },
   "outputs": [
    {
     "data": {
      "image/png": "[encoded data removed]",
      "text/plain": [
       "<matplotlib.figure.Figure at 0x7f78016b8f50>"
      ]
     },
     "metadata": {},
     "output_type": "display_data"
    }
   ],
   "source": [
    "mu = 1.5\n",
    "sigma = 4\n",
    "nb_samples = 8\n",
    "\n",
    "np.random.seed(seed=2)\n",
    "rgamma = np.random.gamma\n",
    "# get random nb_samples observations from a gamma law\n",
    "X = rgamma(mu, sigma, nb_samples)\n",
    "y = np.ones(nb_samples,)\n",
    "\n",
    "# Various statistics:\n",
    "meanX = np.mean(X)\n",
    "minX = np.min(X)\n",
    "maxX = np.max(X)\n",
    "medX = np.median(X)\n",
    "# Median absolute deviation (médiane des écarts à la médiane) pour la série X\n",
    "MADX = np.median(np.abs(X - medX))\n",
    "# Standard deviation i.e. écart type pour la série X\n",
    "s = np.std(X)\n",
    "\n",
    "# Création d'une figure\n",
    "fig1, ax = plt.subplots(figsize=(10, 3))\n",
    "# limitation de la figure à l'intervalle [0,1.5] sur l'axe vertical\n",
    "ax.set_ylim(0, 1.5)\n",
    "# limitation de la figure à l'intervalle [minX-10%(maxX-minX),maxX+10%(maxX-minX)]\n",
    "# pour s'assurer que tous les points puissent être affichés\n",
    "# np.ptp(X) ==> peak to peak (sommet à sommet) sur une série retourne maxX-minX\n",
    "ax.set_xlim(minX - 0.1 * np.ptp(X), maxX + 0.1 * np.ptp(X))\n",
    "# retirer les ticks par défaut sur l'axe horizontal\n",
    "ax.get_xaxis().tick_bottom()\n",
    "# pas d'axe vertical\n",
    "ax.axes.get_yaxis().set_visible(False)\n",
    "\n",
    "# Rendre invisible les bords right, top & left de la figure\n",
    "ax.spines['right'].set_color('none')\n",
    "ax.spines['top'].set_color('none')\n",
    "ax.spines['left'].set_color('none')\n",
    "# Relever le bord bottom de la figure à la hauteur 0.5\n",
    "ax.spines['bottom'].set_position(('data', 0.5))\n",
    "\n",
    "# Dessiner les points (x_i,y_i) i=1..8 (rem: y_i=1 pour tout i)\n",
    "# points sous forme de cercles (marker='o') intérieur noir, contour mc3my_brown,\n",
    "# Je pense que c=purple ne sert pas\n",
    "# faceted = True ???\n",
    "ax.scatter(X, y, s=300, c=purple, edgecolors=mc3my_brown,\n",
    "           marker='o', faceted=True)\n",
    "\n",
    "# Dessiner une ligne verticale en pointillés (linestyle=\"--\") à l'endroit de\n",
    "# la moyenne des X\n",
    "ax.plot([meanX, meanX], [0, 1.5], color=mc3my_brown,\n",
    "        linewidth=1.5, linestyle=\"--\")\n",
    "\n",
    "# afficher \"y\" comme label de l'axe horizontal\n",
    "plt.xlabel(r'$y$', fontsize=18)\n",
    "\n",
    "# Créer l'annotation ybarre_n : moyenne empirique à 0.4 de la ligne en pointillés\n",
    "plt.annotate(r'$\\bar{y}_n : \\mbox{moyenne empirique}$',\n",
    "             xy=(meanX, 0.4), xycoords='data', xytext=(+10, +30),\n",
    "             textcoords='offset points', fontsize=18, color =mc3my_brown)\n",
    "\n",
    "# Pour s'assurer que toutes les informations seront bien en totalité\n",
    "# dans le cadre intérieur de la figure\n",
    "plt.tight_layout()"
   ]
  },
  {
   "cell_type": "markdown",
   "metadata": {},
   "source": [
    "## Empirical mean / median"
   ]
  },
  {
   "cell_type": "code",
   "execution_count": 33,
   "metadata": {
    "collapsed": false
   },
   "outputs": [
    {
     "data": {
      "image/png": "[encoded data removed]",
      "text/plain": [
       "<matplotlib.figure.Figure at 0x7f7801562050>"
      ]
     },
     "metadata": {},
     "output_type": "display_data"
    }
   ],
   "source": [
    "fig1, ax = plt.subplots(figsize=(10, 3))\n",
    "ax.set_ylim(0, 1.5)\n",
    "ax.set_xlim(minX - 0.1 * np.ptp(X), maxX + 0.1 * np.ptp(X))\n",
    "ax.get_xaxis().tick_bottom()\n",
    "ax.axes.get_yaxis().set_visible(False)\n",
    "\n",
    "ax.spines['right'].set_color('none')\n",
    "ax.spines['top'].set_color('none')\n",
    "ax.spines['bottom'].set_position(('data', 0.5))\n",
    "ax.spines['left'].set_color('none')\n",
    "\n",
    "ax.scatter(X, y, color='black', s=300, c=purple, edgecolors=mc3my_brown,\n",
    "           marker='o', faceted=True)\n",
    "ax.plot([meanX, meanX], [0, 1.5], color=mc3my_brown, linewidth=1.5,\n",
    "        linestyle=\"--\")\n",
    "ax.plot([medX, medX], [0, 1.5], color=purple, linewidth=1.5, linestyle=\"--\")\n",
    "\n",
    "plt.xlabel(r'$y$', fontsize=18)\n",
    "plt.annotate(r'$\\rm{Med}_n(\\mathbb{y}): \\mbox{m\\'ediane empirique}$',\n",
    "             xy=(medX, 1), xycoords='data', xytext=(-210, +30),\n",
    "             textcoords='offset points', fontsize=18, color =purple)\n",
    "plt.annotate(r'$\\bar{y}_n : \\mbox{moyenne empirique}$', xy=(meanX, 0.4),\n",
    "             xycoords='data', xytext=(+10, +30), textcoords='offset points',\n",
    "             fontsize=18, color =mc3my_brown)\n",
    "\n",
    "plt.tight_layout()"
   ]
  },
  {
   "cell_type": "markdown",
   "metadata": {},
   "source": [
    "## Standard deviation (écart type de la série):"
   ]
  },
  {
   "cell_type": "code",
   "execution_count": 34,
   "metadata": {
    "collapsed": false
   },
   "outputs": [
    {
     "data": {
      "image/png": "[encoded data removed]",
      "text/plain": [
       "<matplotlib.figure.Figure at 0x7f7828691dd0>"
      ]
     },
     "metadata": {},
     "output_type": "display_data"
    }
   ],
   "source": [
    "fig1, ax = plt.subplots(figsize=(10, 3))\n",
    "ax.set_ylim(0, 1.5)\n",
    "ax.set_xlim(minX - 0.1 * np.ptp(X), maxX + 0.1 * np.ptp(X))\n",
    "ax.get_xaxis().tick_bottom()\n",
    "ax.axes.get_yaxis().set_visible(False)\n",
    "\n",
    "ax.spines['right'].set_color('none')\n",
    "ax.spines['top'].set_color('none')\n",
    "ax.spines['bottom'].set_position(('data', 0.5))\n",
    "ax.spines['left'].set_color('none')\n",
    "\n",
    "ax.scatter(X, y, color='black', s=300, c=purple, edgecolors=mc3my_brown,\n",
    "           marker='o', faceted=True)\n",
    "\n",
    "ax.plot([meanX, meanX], [0, 1.5], color=mc3my_brown, linewidth=1.5,\n",
    "        linestyle=\"--\")\n",
    "plt.arrow(meanX, 1.2, -s, 0, fc=mc3my_brown, ec=mc3my_brown,\n",
    "          head_width=0.05, head_length=0.1, length_includes_head=True)\n",
    "plt.arrow(meanX - s, 1.2, s, 0, fc=mc3my_brown, ec=mc3my_brown,\n",
    "          head_width=0.05, head_length=0.1, length_includes_head=True)\n",
    "plt.arrow(meanX, 1.2, s, 0, fc=mc3my_brown, ec=mc3my_brown,\n",
    "          head_width=0.05, head_length=0.1, length_includes_head=True)\n",
    "plt.arrow(meanX + s, 1.2, -s, 0, fc=mc3my_brown, ec=mc3my_brown,\n",
    "          head_width=0.05, head_length=0.1, length_includes_head=True)\n",
    "\n",
    "\n",
    "plt.xlabel(r'$y$', fontsize=18)\n",
    "plt.annotate(r'$\\bar{y}_n : \\mbox{moyenne empirique}$',\n",
    "             xy=(meanX, 0.4), xycoords='data', xytext=(+10, +30),\n",
    "             textcoords='offset points', fontsize=18, color =mc3my_brown)\n",
    "plt.annotate(r'$s_n$', xy=(meanX + s * (0.4), 1), xycoords='data',\n",
    "             xytext=(+10, +30), textcoords='offset points', fontsize=18,\n",
    "             color = mc3my_brown)\n",
    "plt.annotate(r'$s_n$', xy=(meanX - s * (0.6), 1), xycoords='data',\n",
    "             xytext=(+10, +30), textcoords='offset points', fontsize=18,\n",
    "             color =mc3my_brown)\n",
    "\n",
    "plt.tight_layout()"
   ]
  },
  {
   "cell_type": "markdown",
   "metadata": {},
   "source": [
    "## Mean Absolute Deviation:"
   ]
  },
  {
   "cell_type": "markdown",
   "metadata": {},
   "source": [
    "écart absolu moyen<br>ou encore<br>moyenne des écarts à la moyenne<br>Il s'agit d'une des mesures de dispersion de la série"
   ]
  },
  {
   "cell_type": "code",
   "execution_count": 46,
   "metadata": {
    "collapsed": false
   },
   "outputs": [
    {
     "data": {
      "text/latex": [
       "$$MAD = \\frac{1}{n}\\sum_{i=1}^{n}\\left | x_i-\\bar{x} \\right |$$"
      ],
      "text/plain": [
       "<IPython.core.display.Math object>"
      ]
     },
     "metadata": {},
     "output_type": "display_data"
    }
   ],
   "source": [
    "from IPython.display import display, Math, Latex\n",
    "display(Math(r'MAD = \\frac{1}{n}\\sum_{i=1}^{n}\\left | x_i-\\bar{x} \\right |'))"
   ]
  },
  {
   "cell_type": "code",
   "execution_count": 35,
   "metadata": {
    "collapsed": false
   },
   "outputs": [
    {
     "data": {
      "image/png": "[encoded data removed]",
      "text/plain": [
       "<matplotlib.figure.Figure at 0x7f7802641090>"
      ]
     },
     "metadata": {},
     "output_type": "display_data"
    }
   ],
   "source": [
    "fig1, ax = plt.subplots(figsize=(10, 3))\n",
    "ax.set_ylim(0, 1.5)\n",
    "ax.set_xlim(minX - 0.1 * np.ptp(X), maxX + 0.1 * np.ptp(X))\n",
    "ax.get_xaxis().tick_bottom()\n",
    "ax.axes.get_yaxis().set_visible(False)\n",
    "\n",
    "ax.spines['right'].set_color('none')\n",
    "ax.spines['top'].set_color('none')\n",
    "ax.spines['bottom'].set_position(('data', 0.5))\n",
    "ax.spines['left'].set_color('none')\n",
    "\n",
    "ax.scatter(X, y, color='black', s=300, c=purple, edgecolors=mc3my_brown,\n",
    "           marker='o', faceted=True)\n",
    "\n",
    "ax.plot([medX, medX], [0, 1.5], color=purple, linewidth=1.5, linestyle=\"--\")\n",
    "\n",
    "plt.arrow(medX, 1.2, -MADX, 0, fc=purple, ec=purple, head_width=0.05,\n",
    "          head_length=0.1, length_includes_head=True)\n",
    "plt.arrow(medX - MADX, 1.2, MADX, 0, fc=purple, ec=purple, head_width=0.05,\n",
    "          head_length=0.1, length_includes_head=True)\n",
    "plt.arrow(medX, 1.2, MADX, 0, fc=purple, ec=purple, head_width=0.05,\n",
    "          head_length=0.1, length_includes_head=True)\n",
    "plt.arrow(medX + MADX, 1.2, -MADX, 0, fc=purple, ec=purple, head_width=0.05,\n",
    "          head_length=0.1, length_includes_head=True)\n",
    "\n",
    "plt.xlabel(r'$y$', fontsize=18)\n",
    "plt.annotate(r'$\\rm{Med}_n(\\mathbb{y}): \\mbox{m\\'ediane empirique}$',\n",
    "             xy=(medX, 0.4), xycoords='data', xytext=(+10, +30),\n",
    "             textcoords='offset points', fontsize=18, color=purple)\n",
    "plt.annotate(r'$\\rm{MAD}_n(\\mathbb{y})$', xy=(medX + MADX * (0.1), 1),\n",
    "             xycoords='data', xytext=(+10, +30), textcoords='offset points',\n",
    "             fontsize=14, color =purple)\n",
    "plt.annotate(r'$\\rm{MAD}_n(\\mathbb{y})$', xy=(medX - MADX * (1.2), 1),\n",
    "             xycoords='data', xytext=(+10, +30), textcoords='offset points',\n",
    "             fontsize=14, color =purple)\n",
    "\n",
    "plt.tight_layout()"
   ]
  },
  {
   "cell_type": "code",
   "execution_count": null,
   "metadata": {
    "collapsed": true
   },
   "outputs": [],
   "source": []
  }
 ],
 "metadata": {
  "kernelspec": {
   "display_name": "Python 2",
   "language": "python",
   "name": "python2"
  },
  "language_info": {
   "codemirror_mode": {
    "name": "ipython",
    "version": 2
   },
   "file_extension": ".py",
   "mimetype": "text/x-python",
   "name": "python",
   "nbconvert_exporter": "python",
   "pygments_lexer": "ipython2",
   "version": "2.7.6"
  }
 },
 "nbformat": 4,
 "nbformat_minor": 0
}
